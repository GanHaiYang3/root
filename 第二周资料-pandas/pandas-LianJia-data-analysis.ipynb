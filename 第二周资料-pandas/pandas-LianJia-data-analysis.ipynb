{
 "cells": [
  {
   "cell_type": "markdown",
   "metadata": {},
   "source": [
    "## 链家数据分析\n",
    "我们来根据我们之前爬取的链家网数据，做一点小小的数据分析。"
   ]
  },
  {
   "cell_type": "markdown",
   "metadata": {},
   "source": [
    "### 0.载入数据"
   ]
  },
  {
   "cell_type": "code",
   "execution_count": 1,
   "metadata": {},
   "outputs": [],
   "source": [
    "import pandas as pd\n",
    "lj_data = pd.read_csv('./LJdata.csv')"
   ]
  },
  {
   "cell_type": "markdown",
   "metadata": {},
   "source": [
    "大家规范一点，用英文的column name，这样免去了后续的一些问题(主要是编码问题)"
   ]
  },
  {
   "cell_type": "code",
   "execution_count": 3,
   "metadata": {},
   "outputs": [
    {
     "data": {
      "text/plain": [
       "Index(['区域', '地址', '标题', '户型', '面积', '价格', '楼层', '建造时间', '朝向', '更新时间', '看房人数',\n",
       "       '备注', '链接地址'],\n",
       "      dtype='object')"
      ]
     },
     "execution_count": 3,
     "metadata": {},
     "output_type": "execute_result"
    }
   ],
   "source": [
    "lj_data.columns"
   ]
  },
  {
   "cell_type": "code",
   "execution_count": 4,
   "metadata": {
    "collapsed": true
   },
   "outputs": [],
   "source": [
    "lj_data.columns = ['district', 'address', 'title', 'house_type', 'area', 'price', 'floor', 'build_time', 'direction', 'update_time', 'view_num', 'extra_info', 'link']"
   ]
  },
  {
   "cell_type": "markdown",
   "metadata": {},
   "source": [
    "Perfect, 然后咱们就可以开始做点分析了"
   ]
  },
  {
   "cell_type": "markdown",
   "metadata": {},
   "source": [
    "### 查看数据的形状和信息\n",
    "hint:都还记得info/describe/shape的用法吧，用起来！"
   ]
  },
  {
   "cell_type": "code",
   "execution_count": 5,
   "metadata": {
    "scrolled": true
   },
   "outputs": [
    {
     "name": "stdout",
     "output_type": "stream",
     "text": [
      "<class 'pandas.core.frame.DataFrame'>\n",
      "RangeIndex: 2760 entries, 0 to 2759\n",
      "Data columns (total 13 columns):\n",
      "district       2760 non-null object\n",
      "address        2760 non-null object\n",
      "title          2760 non-null object\n",
      "house_type     2760 non-null object\n",
      "area           2760 non-null object\n",
      "price          2760 non-null int64\n",
      "floor          2760 non-null object\n",
      "build_time     2758 non-null object\n",
      "direction      2760 non-null object\n",
      "update_time    2760 non-null object\n",
      "view_num       2760 non-null int64\n",
      "extra_info     2760 non-null object\n",
      "link           2760 non-null object\n",
      "dtypes: int64(2), object(11)\n",
      "memory usage: 280.4+ KB\n"
     ]
    }
   ],
   "source": [
    "lj_data.info()"
   ]
  },
  {
   "cell_type": "code",
   "execution_count": 6,
   "metadata": {},
   "outputs": [
    {
     "data": {
      "text/plain": [
       "(2760, 13)"
      ]
     },
     "execution_count": 6,
     "metadata": {},
     "output_type": "execute_result"
    }
   ],
   "source": [
    "lj_data.shape"
   ]
  },
  {
   "cell_type": "code",
   "execution_count": 7,
   "metadata": {},
   "outputs": [
    {
     "data": {
      "text/html": [
       "<div>\n",
       "<style>\n",
       "    .dataframe thead tr:only-child th {\n",
       "        text-align: right;\n",
       "    }\n",
       "\n",
       "    .dataframe thead th {\n",
       "        text-align: left;\n",
       "    }\n",
       "\n",
       "    .dataframe tbody tr th {\n",
       "        vertical-align: top;\n",
       "    }\n",
       "</style>\n",
       "<table border=\"1\" class=\"dataframe\">\n",
       "  <thead>\n",
       "    <tr style=\"text-align: right;\">\n",
       "      <th></th>\n",
       "      <th>district</th>\n",
       "      <th>address</th>\n",
       "      <th>title</th>\n",
       "      <th>house_type</th>\n",
       "      <th>area</th>\n",
       "      <th>price</th>\n",
       "      <th>floor</th>\n",
       "      <th>build_time</th>\n",
       "      <th>direction</th>\n",
       "      <th>update_time</th>\n",
       "      <th>view_num</th>\n",
       "      <th>extra_info</th>\n",
       "      <th>link</th>\n",
       "    </tr>\n",
       "  </thead>\n",
       "  <tbody>\n",
       "    <tr>\n",
       "      <th>0</th>\n",
       "      <td>燕莎租房</td>\n",
       "      <td>新源街</td>\n",
       "      <td>亮马桥 新源街  精装两居 交通便利 看房方便 随时入住</td>\n",
       "      <td>2室1厅</td>\n",
       "      <td>50平米</td>\n",
       "      <td>5800</td>\n",
       "      <td>中楼层(共6层)</td>\n",
       "      <td>1981年建板楼</td>\n",
       "      <td>南</td>\n",
       "      <td>2017.07.21</td>\n",
       "      <td>26</td>\n",
       "      <td>随时看房 精装修 集中供暖</td>\n",
       "      <td>https://bj.lianjia.com/zufang/101101803342.html</td>\n",
       "    </tr>\n",
       "    <tr>\n",
       "      <th>1</th>\n",
       "      <td>望京租房</td>\n",
       "      <td>澳洲康都</td>\n",
       "      <td>澳洲康都东向精致两居室...........</td>\n",
       "      <td>2室1厅</td>\n",
       "      <td>79平米</td>\n",
       "      <td>7800</td>\n",
       "      <td>中楼层(共28层)</td>\n",
       "      <td>2005年建板塔结合</td>\n",
       "      <td>东</td>\n",
       "      <td>2017.07.23</td>\n",
       "      <td>33</td>\n",
       "      <td>距离14号线(东段)东湖渠站731米 随时看房 精装修 集中供暖</td>\n",
       "      <td>https://bj.lianjia.com/zufang/101101753126.html</td>\n",
       "    </tr>\n",
       "  </tbody>\n",
       "</table>\n",
       "</div>"
      ],
      "text/plain": [
       "  district address                         title house_type  area  price  \\\n",
       "0     燕莎租房     新源街  亮马桥 新源街  精装两居 交通便利 看房方便 随时入住       2室1厅  50平米   5800   \n",
       "1     望京租房    澳洲康都        澳洲康都东向精致两居室...........       2室1厅  79平米   7800   \n",
       "\n",
       "       floor  build_time direction update_time  view_num  \\\n",
       "0   中楼层(共6层)    1981年建板楼         南  2017.07.21        26   \n",
       "1  中楼层(共28层)  2005年建板塔结合         东  2017.07.23        33   \n",
       "\n",
       "                          extra_info  \\\n",
       "0                      随时看房 精装修 集中供暖   \n",
       "1   距离14号线(东段)东湖渠站731米 随时看房 精装修 集中供暖   \n",
       "\n",
       "                                              link  \n",
       "0  https://bj.lianjia.com/zufang/101101803342.html  \n",
       "1  https://bj.lianjia.com/zufang/101101753126.html  "
      ]
     },
     "execution_count": 7,
     "metadata": {},
     "output_type": "execute_result"
    }
   ],
   "source": [
    "lj_data.head(2)"
   ]
  },
  {
   "cell_type": "code",
   "execution_count": 7,
   "metadata": {},
   "outputs": [
    {
     "data": {
      "text/html": [
       "<div>\n",
       "<style>\n",
       "    .dataframe thead tr:only-child th {\n",
       "        text-align: right;\n",
       "    }\n",
       "\n",
       "    .dataframe thead th {\n",
       "        text-align: left;\n",
       "    }\n",
       "\n",
       "    .dataframe tbody tr th {\n",
       "        vertical-align: top;\n",
       "    }\n",
       "</style>\n",
       "<table border=\"1\" class=\"dataframe\">\n",
       "  <thead>\n",
       "    <tr style=\"text-align: right;\">\n",
       "      <th></th>\n",
       "      <th>price</th>\n",
       "      <th>view_num</th>\n",
       "    </tr>\n",
       "  </thead>\n",
       "  <tbody>\n",
       "    <tr>\n",
       "      <th>count</th>\n",
       "      <td>2760.000000</td>\n",
       "      <td>2760.000000</td>\n",
       "    </tr>\n",
       "    <tr>\n",
       "      <th>mean</th>\n",
       "      <td>7570.800725</td>\n",
       "      <td>13.448913</td>\n",
       "    </tr>\n",
       "    <tr>\n",
       "      <th>std</th>\n",
       "      <td>6316.204986</td>\n",
       "      <td>12.746202</td>\n",
       "    </tr>\n",
       "    <tr>\n",
       "      <th>min</th>\n",
       "      <td>1300.000000</td>\n",
       "      <td>0.000000</td>\n",
       "    </tr>\n",
       "    <tr>\n",
       "      <th>25%</th>\n",
       "      <td>4500.000000</td>\n",
       "      <td>4.000000</td>\n",
       "    </tr>\n",
       "    <tr>\n",
       "      <th>50%</th>\n",
       "      <td>6000.000000</td>\n",
       "      <td>10.000000</td>\n",
       "    </tr>\n",
       "    <tr>\n",
       "      <th>75%</th>\n",
       "      <td>8500.000000</td>\n",
       "      <td>19.000000</td>\n",
       "    </tr>\n",
       "    <tr>\n",
       "      <th>max</th>\n",
       "      <td>210000.000000</td>\n",
       "      <td>122.000000</td>\n",
       "    </tr>\n",
       "  </tbody>\n",
       "</table>\n",
       "</div>"
      ],
      "text/plain": [
       "               price     view_num\n",
       "count    2760.000000  2760.000000\n",
       "mean     7570.800725    13.448913\n",
       "std      6316.204986    12.746202\n",
       "min      1300.000000     0.000000\n",
       "25%      4500.000000     4.000000\n",
       "50%      6000.000000    10.000000\n",
       "75%      8500.000000    19.000000\n",
       "max    210000.000000   122.000000"
      ]
     },
     "execution_count": 7,
     "metadata": {},
     "output_type": "execute_result"
    }
   ],
   "source": [
    "lj_data.describe()"
   ]
  },
  {
   "cell_type": "markdown",
   "metadata": {},
   "source": [
    "### 找到最近更新信息的20套房子"
   ]
  },
  {
   "cell_type": "code",
   "execution_count": 8,
   "metadata": {},
   "outputs": [
    {
     "data": {
      "text/html": [
       "<div>\n",
       "<style>\n",
       "    .dataframe thead tr:only-child th {\n",
       "        text-align: right;\n",
       "    }\n",
       "\n",
       "    .dataframe thead th {\n",
       "        text-align: left;\n",
       "    }\n",
       "\n",
       "    .dataframe tbody tr th {\n",
       "        vertical-align: top;\n",
       "    }\n",
       "</style>\n",
       "<table border=\"1\" class=\"dataframe\">\n",
       "  <thead>\n",
       "    <tr style=\"text-align: right;\">\n",
       "      <th></th>\n",
       "      <th>district</th>\n",
       "      <th>address</th>\n",
       "      <th>title</th>\n",
       "      <th>house_type</th>\n",
       "      <th>area</th>\n",
       "      <th>price</th>\n",
       "      <th>floor</th>\n",
       "      <th>build_time</th>\n",
       "      <th>direction</th>\n",
       "      <th>update_time</th>\n",
       "      <th>view_num</th>\n",
       "      <th>extra_info</th>\n",
       "      <th>link</th>\n",
       "    </tr>\n",
       "  </thead>\n",
       "  <tbody>\n",
       "    <tr>\n",
       "      <th>467</th>\n",
       "      <td>万柳租房</td>\n",
       "      <td>康桥水郡</td>\n",
       "      <td>昆玉河畔观景大宅 复式4居20平露台有车位 明厨明卫</td>\n",
       "      <td>4室1厅</td>\n",
       "      <td>199平米</td>\n",
       "      <td>25000</td>\n",
       "      <td>高楼层(共16层)</td>\n",
       "      <td>2004年建板楼</td>\n",
       "      <td>东 西</td>\n",
       "      <td>2017.07.27</td>\n",
       "      <td>7</td>\n",
       "      <td>随时看房 精装修 集中供暖</td>\n",
       "      <td>https://bj.lianjia.com/zufang/101101744630.html</td>\n",
       "    </tr>\n",
       "    <tr>\n",
       "      <th>2358</th>\n",
       "      <td>新华大街租房</td>\n",
       "      <td>怡佳家园</td>\n",
       "      <td>怡佳家园 5室2厅 15000元</td>\n",
       "      <td>5室2厅</td>\n",
       "      <td>240平米</td>\n",
       "      <td>15000</td>\n",
       "      <td>高楼层(共28层)</td>\n",
       "      <td>2002年建塔楼</td>\n",
       "      <td>东 南 北</td>\n",
       "      <td>2017.07.27</td>\n",
       "      <td>6</td>\n",
       "      <td>距离八通线通州北苑站1062米 随时看房 集中供暖</td>\n",
       "      <td>https://bj.lianjia.com/zufang/101101704899.html</td>\n",
       "    </tr>\n",
       "    <tr>\n",
       "      <th>2356</th>\n",
       "      <td>亚运村租房</td>\n",
       "      <td>安慧里四区</td>\n",
       "      <td>安慧里简装朝东南一居室，家具家电齐全，可拎包入住</td>\n",
       "      <td>1室1厅</td>\n",
       "      <td>43平米</td>\n",
       "      <td>4500</td>\n",
       "      <td>高楼层(共6层)</td>\n",
       "      <td>1989年建板楼</td>\n",
       "      <td>东南</td>\n",
       "      <td>2017.07.27</td>\n",
       "      <td>19</td>\n",
       "      <td>距离5号线惠新西街北口站441米 随时看房 集中供暖</td>\n",
       "      <td>https://bj.lianjia.com/zufang/101101174347.html</td>\n",
       "    </tr>\n",
       "    <tr>\n",
       "      <th>475</th>\n",
       "      <td>金宝街租房</td>\n",
       "      <td>禾风相府</td>\n",
       "      <td>禾风相府 舒适三居 拎包入住 交通便利</td>\n",
       "      <td>3室1厅</td>\n",
       "      <td>163平米</td>\n",
       "      <td>32000</td>\n",
       "      <td>高楼层(共14层)</td>\n",
       "      <td>2004年建板塔结合</td>\n",
       "      <td>南 北</td>\n",
       "      <td>2017.07.27</td>\n",
       "      <td>13</td>\n",
       "      <td>距离5号线东四站619米 随时看房 精装修 自供暖</td>\n",
       "      <td>https://bj.lianjia.com/zufang/101101767933.html</td>\n",
       "    </tr>\n",
       "    <tr>\n",
       "      <th>2334</th>\n",
       "      <td>苏州桥租房</td>\n",
       "      <td>中湾国际</td>\n",
       "      <td>中湾国际 1室0厅 6500元</td>\n",
       "      <td>1室0厅</td>\n",
       "      <td>37平米</td>\n",
       "      <td>6500</td>\n",
       "      <td>中楼层(共19层)</td>\n",
       "      <td>2007年建塔楼</td>\n",
       "      <td>北</td>\n",
       "      <td>2017.07.27</td>\n",
       "      <td>2</td>\n",
       "      <td>距离10号线苏州街站791米 随时看房 集中供暖</td>\n",
       "      <td>https://bj.lianjia.com/zufang/101101849862.html</td>\n",
       "    </tr>\n",
       "    <tr>\n",
       "      <th>2335</th>\n",
       "      <td>玉泉营租房</td>\n",
       "      <td>鸿业兴园一区</td>\n",
       "      <td>鸿业兴园   正规两居室  家电家具全齐</td>\n",
       "      <td>2室1厅</td>\n",
       "      <td>91平米</td>\n",
       "      <td>5500</td>\n",
       "      <td>中楼层(共16层)</td>\n",
       "      <td>2006年建板塔结合</td>\n",
       "      <td>南</td>\n",
       "      <td>2017.07.27</td>\n",
       "      <td>4</td>\n",
       "      <td>随时看房 精装修 自供暖</td>\n",
       "      <td>https://bj.lianjia.com/zufang/101101831875.html</td>\n",
       "    </tr>\n",
       "    <tr>\n",
       "      <th>1153</th>\n",
       "      <td>滨河西区租房</td>\n",
       "      <td>双峪路小区</td>\n",
       "      <td>双峪路小区有一精装修两室一厅出租</td>\n",
       "      <td>2室1厅</td>\n",
       "      <td>48平米</td>\n",
       "      <td>3100</td>\n",
       "      <td>中楼层(共5层)</td>\n",
       "      <td>1981年建板楼</td>\n",
       "      <td>南</td>\n",
       "      <td>2017.07.27</td>\n",
       "      <td>12</td>\n",
       "      <td>随时看房 精装修 集中供暖</td>\n",
       "      <td>https://bj.lianjia.com/zufang/101101790165.html</td>\n",
       "    </tr>\n",
       "    <tr>\n",
       "      <th>1829</th>\n",
       "      <td>北七家租房</td>\n",
       "      <td>西湖新村</td>\n",
       "      <td>水系社区 带花园的2居室 北边无遮挡采光充裕 居住舒适</td>\n",
       "      <td>2室2厅</td>\n",
       "      <td>94平米</td>\n",
       "      <td>3400</td>\n",
       "      <td>低楼层(共7层)</td>\n",
       "      <td>2000年建板楼</td>\n",
       "      <td>南 北</td>\n",
       "      <td>2017.07.27</td>\n",
       "      <td>12</td>\n",
       "      <td>随时看房 集中供暖</td>\n",
       "      <td>https://bj.lianjia.com/zufang/101101630022.html</td>\n",
       "    </tr>\n",
       "    <tr>\n",
       "      <th>1158</th>\n",
       "      <td>通州北苑租房</td>\n",
       "      <td>长城国际</td>\n",
       "      <td>长城国际 精装一居 电梯房 拎包入住</td>\n",
       "      <td>1室1厅</td>\n",
       "      <td>53平米</td>\n",
       "      <td>3300</td>\n",
       "      <td>中楼层(共22层)</td>\n",
       "      <td>2010年建塔楼</td>\n",
       "      <td>东</td>\n",
       "      <td>2017.07.27</td>\n",
       "      <td>18</td>\n",
       "      <td>随时看房 精装修 集中供暖</td>\n",
       "      <td>https://bj.lianjia.com/zufang/101101791183.html</td>\n",
       "    </tr>\n",
       "    <tr>\n",
       "      <th>487</th>\n",
       "      <td>陶然亭租房</td>\n",
       "      <td>四平园</td>\n",
       "      <td>四平园  1室1厅  4600</td>\n",
       "      <td>1室1厅</td>\n",
       "      <td>53平米</td>\n",
       "      <td>4600</td>\n",
       "      <td>中楼层(共6层)</td>\n",
       "      <td>1996年建板楼</td>\n",
       "      <td>东</td>\n",
       "      <td>2017.07.27</td>\n",
       "      <td>14</td>\n",
       "      <td>距离4号线陶然亭站719米 随时看房 集中供暖</td>\n",
       "      <td>https://bj.lianjia.com/zufang/101101779348.html</td>\n",
       "    </tr>\n",
       "    <tr>\n",
       "      <th>1737</th>\n",
       "      <td>新华大街租房</td>\n",
       "      <td>玉带河西街8号院</td>\n",
       "      <td>朝南卧室采光好，交通生活便利。</td>\n",
       "      <td>1室1厅</td>\n",
       "      <td>51平米</td>\n",
       "      <td>2500</td>\n",
       "      <td>高楼层(共6层)</td>\n",
       "      <td>1997年建板楼</td>\n",
       "      <td>南 北</td>\n",
       "      <td>2017.07.27</td>\n",
       "      <td>0</td>\n",
       "      <td>随时看房 集中供暖</td>\n",
       "      <td>https://bj.lianjia.com/zufang/101101850645.html</td>\n",
       "    </tr>\n",
       "    <tr>\n",
       "      <th>2341</th>\n",
       "      <td>苏州桥租房</td>\n",
       "      <td>中湾国际</td>\n",
       "      <td>中湾国际 1室0厅 6500元</td>\n",
       "      <td>1室0厅</td>\n",
       "      <td>37平米</td>\n",
       "      <td>6500</td>\n",
       "      <td>中楼层(共19层)</td>\n",
       "      <td>2007年建塔楼</td>\n",
       "      <td>北</td>\n",
       "      <td>2017.07.27</td>\n",
       "      <td>2</td>\n",
       "      <td>距离10号线苏州街站791米 随时看房 集中供暖</td>\n",
       "      <td>https://bj.lianjia.com/zufang/101101849862.html</td>\n",
       "    </tr>\n",
       "    <tr>\n",
       "      <th>1165</th>\n",
       "      <td>北苑租房</td>\n",
       "      <td>上元君庭</td>\n",
       "      <td>上元南北通透精装两居    可以长租    家具家电齐全</td>\n",
       "      <td>2室1厅</td>\n",
       "      <td>103平米</td>\n",
       "      <td>9000</td>\n",
       "      <td>中楼层(共27层)</td>\n",
       "      <td>2006年建板楼</td>\n",
       "      <td>南 北</td>\n",
       "      <td>2017.07.27</td>\n",
       "      <td>6</td>\n",
       "      <td>距离5号线北苑路北站933米 随时看房 精装修 自供暖</td>\n",
       "      <td>https://bj.lianjia.com/zufang/101101794728.html</td>\n",
       "    </tr>\n",
       "    <tr>\n",
       "      <th>1820</th>\n",
       "      <td>临河里租房</td>\n",
       "      <td>DBC加州小镇C区</td>\n",
       "      <td>房子不错户型好适合一家人住欢迎大家多多看房</td>\n",
       "      <td>2室2厅</td>\n",
       "      <td>91平米</td>\n",
       "      <td>3500</td>\n",
       "      <td>中楼层(共11层)</td>\n",
       "      <td>2010年建板楼</td>\n",
       "      <td>南 北</td>\n",
       "      <td>2017.07.27</td>\n",
       "      <td>9</td>\n",
       "      <td>随时看房 精装修 自供暖</td>\n",
       "      <td>https://bj.lianjia.com/zufang/101101683233.html</td>\n",
       "    </tr>\n",
       "    <tr>\n",
       "      <th>2350</th>\n",
       "      <td>石佛营租房</td>\n",
       "      <td>炫特嘉园二期</td>\n",
       "      <td>炫特嘉园二期，精装修大开间拎包入住！</td>\n",
       "      <td>1室0厅</td>\n",
       "      <td>40平米</td>\n",
       "      <td>4600</td>\n",
       "      <td>高楼层(共28层)</td>\n",
       "      <td>2004年建塔楼</td>\n",
       "      <td>北</td>\n",
       "      <td>2017.07.27</td>\n",
       "      <td>3</td>\n",
       "      <td>距离6号线十里堡站1037米 随时看房 精装修 集中供暖</td>\n",
       "      <td>https://bj.lianjia.com/zufang/101101816356.html</td>\n",
       "    </tr>\n",
       "    <tr>\n",
       "      <th>2351</th>\n",
       "      <td>马甸租房</td>\n",
       "      <td>裕民东里</td>\n",
       "      <td>裕民东里 1室1厅 5500元</td>\n",
       "      <td>1室1厅</td>\n",
       "      <td>44平米</td>\n",
       "      <td>5500</td>\n",
       "      <td>中楼层(共18层)</td>\n",
       "      <td>1988年建塔楼</td>\n",
       "      <td>南</td>\n",
       "      <td>2017.07.27</td>\n",
       "      <td>1</td>\n",
       "      <td>距离10号线健德门站903米 随时看房 精装修 集中供暖</td>\n",
       "      <td>https://bj.lianjia.com/zufang/101101856026.html</td>\n",
       "    </tr>\n",
       "    <tr>\n",
       "      <th>2352</th>\n",
       "      <td>滨河西区租房</td>\n",
       "      <td>绮霞苑</td>\n",
       "      <td>绮霞苑带电梯两居室 南北通透 采光好</td>\n",
       "      <td>2室1厅</td>\n",
       "      <td>90平米</td>\n",
       "      <td>4500</td>\n",
       "      <td>高楼层(共13层)</td>\n",
       "      <td>2003年建板楼</td>\n",
       "      <td>南 北</td>\n",
       "      <td>2017.07.27</td>\n",
       "      <td>5</td>\n",
       "      <td>随时看房 精装修 集中供暖</td>\n",
       "      <td>https://bj.lianjia.com/zufang/101101819138.html</td>\n",
       "    </tr>\n",
       "    <tr>\n",
       "      <th>479</th>\n",
       "      <td>潞苑租房</td>\n",
       "      <td>华龙小区</td>\n",
       "      <td>华龙小区精装两居室，家电齐全，拎包入住</td>\n",
       "      <td>2室1厅</td>\n",
       "      <td>80平米</td>\n",
       "      <td>2600</td>\n",
       "      <td>高楼层(共6层)</td>\n",
       "      <td>1998年建板楼</td>\n",
       "      <td>南 北</td>\n",
       "      <td>2017.07.27</td>\n",
       "      <td>8</td>\n",
       "      <td>随时看房 集中供暖</td>\n",
       "      <td>https://bj.lianjia.com/zufang/101101764783.html</td>\n",
       "    </tr>\n",
       "    <tr>\n",
       "      <th>2344</th>\n",
       "      <td>回龙观租房</td>\n",
       "      <td>北京人家</td>\n",
       "      <td>北京人家正规电梯层北向一居室，精装修。</td>\n",
       "      <td>1室1厅</td>\n",
       "      <td>56平米</td>\n",
       "      <td>4000</td>\n",
       "      <td>高楼层(共9层)</td>\n",
       "      <td>2005年建板塔结合</td>\n",
       "      <td>北</td>\n",
       "      <td>2017.07.27</td>\n",
       "      <td>6</td>\n",
       "      <td>随时看房 集中供暖</td>\n",
       "      <td>https://bj.lianjia.com/zufang/101101819017.html</td>\n",
       "    </tr>\n",
       "    <tr>\n",
       "      <th>2148</th>\n",
       "      <td>金融街租房</td>\n",
       "      <td>丰汇园小区</td>\n",
       "      <td>实验 精装一居 温馨舒适 居家</td>\n",
       "      <td>1室1厅</td>\n",
       "      <td>50平米</td>\n",
       "      <td>7000</td>\n",
       "      <td>低楼层(共12层)</td>\n",
       "      <td>1999年建板塔结合</td>\n",
       "      <td>东</td>\n",
       "      <td>2017.07.27</td>\n",
       "      <td>8</td>\n",
       "      <td>距离4号线灵境胡同站908米 随时看房 精装修 集中供暖</td>\n",
       "      <td>https://bj.lianjia.com/zufang/101101800503.html</td>\n",
       "    </tr>\n",
       "  </tbody>\n",
       "</table>\n",
       "</div>"
      ],
      "text/plain": [
       "     district    address                         title house_type   area  \\\n",
       "467      万柳租房       康桥水郡    昆玉河畔观景大宅 复式4居20平露台有车位 明厨明卫       4室1厅  199平米   \n",
       "2358   新华大街租房       怡佳家园              怡佳家园 5室2厅 15000元       5室2厅  240平米   \n",
       "2356    亚运村租房      安慧里四区      安慧里简装朝东南一居室，家具家电齐全，可拎包入住       1室1厅   43平米   \n",
       "475     金宝街租房       禾风相府           禾风相府 舒适三居 拎包入住 交通便利       3室1厅  163平米   \n",
       "2334    苏州桥租房       中湾国际               中湾国际 1室0厅 6500元       1室0厅   37平米   \n",
       "2335    玉泉营租房     鸿业兴园一区          鸿业兴园   正规两居室  家电家具全齐       2室1厅   91平米   \n",
       "1153   滨河西区租房      双峪路小区              双峪路小区有一精装修两室一厅出租       2室1厅   48平米   \n",
       "1829    北七家租房       西湖新村   水系社区 带花园的2居室 北边无遮挡采光充裕 居住舒适       2室2厅   94平米   \n",
       "1158   通州北苑租房       长城国际            长城国际 精装一居 电梯房 拎包入住       1室1厅   53平米   \n",
       "487     陶然亭租房        四平园               四平园  1室1厅  4600       1室1厅   53平米   \n",
       "1737   新华大街租房   玉带河西街8号院               朝南卧室采光好，交通生活便利。       1室1厅   51平米   \n",
       "2341    苏州桥租房       中湾国际               中湾国际 1室0厅 6500元       1室0厅   37平米   \n",
       "1165     北苑租房       上元君庭  上元南北通透精装两居    可以长租    家具家电齐全       2室1厅  103平米   \n",
       "1820    临河里租房  DBC加州小镇C区         房子不错户型好适合一家人住欢迎大家多多看房       2室2厅   91平米   \n",
       "2350    石佛营租房     炫特嘉园二期            炫特嘉园二期，精装修大开间拎包入住！       1室0厅   40平米   \n",
       "2351     马甸租房       裕民东里               裕民东里 1室1厅 5500元       1室1厅   44平米   \n",
       "2352   滨河西区租房        绮霞苑            绮霞苑带电梯两居室 南北通透 采光好       2室1厅   90平米   \n",
       "479      潞苑租房       华龙小区           华龙小区精装两居室，家电齐全，拎包入住       2室1厅   80平米   \n",
       "2344    回龙观租房       北京人家           北京人家正规电梯层北向一居室，精装修。       1室1厅   56平米   \n",
       "2148    金融街租房      丰汇园小区               实验 精装一居 温馨舒适 居家       1室1厅   50平米   \n",
       "\n",
       "      price      floor  build_time direction update_time  view_num  \\\n",
       "467   25000  高楼层(共16层)    2004年建板楼       东 西  2017.07.27         7   \n",
       "2358  15000  高楼层(共28层)    2002年建塔楼     东 南 北  2017.07.27         6   \n",
       "2356   4500   高楼层(共6层)    1989年建板楼        东南  2017.07.27        19   \n",
       "475   32000  高楼层(共14层)  2004年建板塔结合       南 北  2017.07.27        13   \n",
       "2334   6500  中楼层(共19层)    2007年建塔楼         北  2017.07.27         2   \n",
       "2335   5500  中楼层(共16层)  2006年建板塔结合         南  2017.07.27         4   \n",
       "1153   3100   中楼层(共5层)    1981年建板楼         南  2017.07.27        12   \n",
       "1829   3400   低楼层(共7层)    2000年建板楼       南 北  2017.07.27        12   \n",
       "1158   3300  中楼层(共22层)    2010年建塔楼         东  2017.07.27        18   \n",
       "487    4600   中楼层(共6层)    1996年建板楼         东  2017.07.27        14   \n",
       "1737   2500   高楼层(共6层)    1997年建板楼       南 北  2017.07.27         0   \n",
       "2341   6500  中楼层(共19层)    2007年建塔楼         北  2017.07.27         2   \n",
       "1165   9000  中楼层(共27层)    2006年建板楼       南 北  2017.07.27         6   \n",
       "1820   3500  中楼层(共11层)    2010年建板楼       南 北  2017.07.27         9   \n",
       "2350   4600  高楼层(共28层)    2004年建塔楼         北  2017.07.27         3   \n",
       "2351   5500  中楼层(共18层)    1988年建塔楼         南  2017.07.27         1   \n",
       "2352   4500  高楼层(共13层)    2003年建板楼       南 北  2017.07.27         5   \n",
       "479    2600   高楼层(共6层)    1998年建板楼       南 北  2017.07.27         8   \n",
       "2344   4000   高楼层(共9层)  2005年建板塔结合         北  2017.07.27         6   \n",
       "2148   7000  低楼层(共12层)  1999年建板塔结合         东  2017.07.27         8   \n",
       "\n",
       "                         extra_info  \\\n",
       "467                   随时看房 精装修 集中供暖   \n",
       "2358      距离八通线通州北苑站1062米 随时看房 集中供暖   \n",
       "2356     距离5号线惠新西街北口站441米 随时看房 集中供暖   \n",
       "475       距离5号线东四站619米 随时看房 精装修 自供暖   \n",
       "2334       距离10号线苏州街站791米 随时看房 集中供暖   \n",
       "2335                   随时看房 精装修 自供暖   \n",
       "1153                  随时看房 精装修 集中供暖   \n",
       "1829                      随时看房 集中供暖   \n",
       "1158                  随时看房 精装修 集中供暖   \n",
       "487         距离4号线陶然亭站719米 随时看房 集中供暖   \n",
       "1737                      随时看房 集中供暖   \n",
       "2341       距离10号线苏州街站791米 随时看房 集中供暖   \n",
       "1165    距离5号线北苑路北站933米 随时看房 精装修 自供暖   \n",
       "1820                   随时看房 精装修 自供暖   \n",
       "2350   距离6号线十里堡站1037米 随时看房 精装修 集中供暖   \n",
       "2351   距离10号线健德门站903米 随时看房 精装修 集中供暖   \n",
       "2352                  随时看房 精装修 集中供暖   \n",
       "479                       随时看房 集中供暖   \n",
       "2344                      随时看房 集中供暖   \n",
       "2148   距离4号线灵境胡同站908米 随时看房 精装修 集中供暖   \n",
       "\n",
       "                                                 link  \n",
       "467   https://bj.lianjia.com/zufang/101101744630.html  \n",
       "2358  https://bj.lianjia.com/zufang/101101704899.html  \n",
       "2356  https://bj.lianjia.com/zufang/101101174347.html  \n",
       "475   https://bj.lianjia.com/zufang/101101767933.html  \n",
       "2334  https://bj.lianjia.com/zufang/101101849862.html  \n",
       "2335  https://bj.lianjia.com/zufang/101101831875.html  \n",
       "1153  https://bj.lianjia.com/zufang/101101790165.html  \n",
       "1829  https://bj.lianjia.com/zufang/101101630022.html  \n",
       "1158  https://bj.lianjia.com/zufang/101101791183.html  \n",
       "487   https://bj.lianjia.com/zufang/101101779348.html  \n",
       "1737  https://bj.lianjia.com/zufang/101101850645.html  \n",
       "2341  https://bj.lianjia.com/zufang/101101849862.html  \n",
       "1165  https://bj.lianjia.com/zufang/101101794728.html  \n",
       "1820  https://bj.lianjia.com/zufang/101101683233.html  \n",
       "2350  https://bj.lianjia.com/zufang/101101816356.html  \n",
       "2351  https://bj.lianjia.com/zufang/101101856026.html  \n",
       "2352  https://bj.lianjia.com/zufang/101101819138.html  \n",
       "479   https://bj.lianjia.com/zufang/101101764783.html  \n",
       "2344  https://bj.lianjia.com/zufang/101101819017.html  \n",
       "2148  https://bj.lianjia.com/zufang/101101800503.html  "
      ]
     },
     "execution_count": 8,
     "metadata": {},
     "output_type": "execute_result"
    }
   ],
   "source": [
    "lj_data.sort_values(by='update_time').tail(20)"
   ]
  },
  {
   "cell_type": "markdown",
   "metadata": {},
   "source": [
    "### 平均看房人数"
   ]
  },
  {
   "cell_type": "code",
   "execution_count": 9,
   "metadata": {},
   "outputs": [
    {
     "data": {
      "text/plain": [
       "13.44891304347826"
      ]
     },
     "execution_count": 9,
     "metadata": {},
     "output_type": "execute_result"
    }
   ],
   "source": [
    "lj_data.view_num.mean()"
   ]
  },
  {
   "cell_type": "markdown",
   "metadata": {},
   "source": [
    "### 房龄最小的20套房子的平均看房人数、平均面积..."
   ]
  },
  {
   "cell_type": "code",
   "execution_count": 13,
   "metadata": {
    "collapsed": true
   },
   "outputs": [],
   "source": [
    "import numpy as np"
   ]
  },
  {
   "cell_type": "code",
   "execution_count": 11,
   "metadata": {
    "collapsed": true
   },
   "outputs": [],
   "source": [
    "def get_age(x):\n",
    "    try:\n",
    "        return 2018-int(x)\n",
    "    except:\n",
    "        return np.NaN"
   ]
  },
  {
   "cell_type": "code",
   "execution_count": 14,
   "metadata": {},
   "outputs": [],
   "source": [
    "lj_data['buliding_age'] = lj_data['build_time'].apply(get_age)"
   ]
  },
  {
   "cell_type": "markdown",
   "metadata": {},
   "source": [
    "### 房子价格的分布(平均，方差，中位数)"
   ]
  },
  {
   "cell_type": "code",
   "execution_count": 15,
   "metadata": {},
   "outputs": [
    {
     "data": {
      "text/plain": [
       "7570.800724637681"
      ]
     },
     "execution_count": 15,
     "metadata": {},
     "output_type": "execute_result"
    }
   ],
   "source": [
    "lj_data['price'].mean()"
   ]
  },
  {
   "cell_type": "code",
   "execution_count": 17,
   "metadata": {},
   "outputs": [
    {
     "data": {
      "text/plain": [
       "6316.204986067457"
      ]
     },
     "execution_count": 17,
     "metadata": {},
     "output_type": "execute_result"
    }
   ],
   "source": [
    "lj_data['price'].std()"
   ]
  },
  {
   "cell_type": "code",
   "execution_count": 19,
   "metadata": {},
   "outputs": [
    {
     "data": {
      "text/plain": [
       "6000.0"
      ]
     },
     "execution_count": 19,
     "metadata": {},
     "output_type": "execute_result"
    }
   ],
   "source": [
    "lj_data['price'].median()"
   ]
  },
  {
   "cell_type": "markdown",
   "metadata": {},
   "source": [
    "### 最受欢迎的朝向(平均看房人数)"
   ]
  },
  {
   "cell_type": "code",
   "execution_count": 23,
   "metadata": {},
   "outputs": [
    {
     "data": {
      "text/plain": [
       "direction\n",
       "东 东北       34.000000\n",
       "西 北        28.250000\n",
       "西南 西       25.000000\n",
       "东 东南 南     21.000000\n",
       "西北         19.478261\n",
       "东 北        19.454545\n",
       "东 南 西      19.000000\n",
       "南 西        16.461538\n",
       "西南         16.439490\n",
       "北          16.369369\n",
       "东 西北       16.333333\n",
       "南 西 北      15.444444\n",
       "东北         15.393443\n",
       "东南 西南      14.666667\n",
       "东南         14.193717\n",
       "东 西        14.028846\n",
       "东          13.728395\n",
       "南          13.667890\n",
       "西          13.587097\n",
       "东 南        13.028571\n",
       "东 南 北      12.952381\n",
       "西南 东北      12.000000\n",
       "东 西南       12.000000\n",
       "东 西 北      12.000000\n",
       "南 北        11.679881\n",
       "东南 西北      11.666667\n",
       "东南 南       10.800000\n",
       "东 南 西 北    10.333333\n",
       "东南 北       10.000000\n",
       "东 东南        8.000000\n",
       "西南 北        7.636364\n",
       "南 西北        6.888889\n",
       "南 西南        6.333333\n",
       "东南 西        3.666667\n",
       "东南 东北       3.000000\n",
       "Name: view_num, dtype: float64"
      ]
     },
     "execution_count": 23,
     "metadata": {},
     "output_type": "execute_result"
    }
   ],
   "source": [
    "lj_data.groupby('direction').mean()['view_num'].sort_values(ascending=False)"
   ]
  },
  {
   "cell_type": "markdown",
   "metadata": {},
   "source": [
    "### 房型数量分布"
   ]
  },
  {
   "cell_type": "code",
   "execution_count": 25,
   "metadata": {},
   "outputs": [],
   "source": [
    "import matplotlib.pyplot as plt\n",
    "%matplotlib inline"
   ]
  },
  {
   "cell_type": "code",
   "execution_count": 27,
   "metadata": {
    "collapsed": true
   },
   "outputs": [],
   "source": [
    "plt.rc('font', family='SimHei', size=13)"
   ]
  },
  {
   "cell_type": "code",
   "execution_count": 28,
   "metadata": {
    "scrolled": true
   },
   "outputs": [
    {
     "data": {
      "text/plain": [
       "<matplotlib.axes._subplots.AxesSubplot at 0x1ad17774f98>"
      ]
     },
     "execution_count": 28,
     "metadata": {},
     "output_type": "execute_result"
    },
    {
     "data": {
      "image/png": "[encoded data removed]",
      "text/plain": [
       "<matplotlib.figure.Figure at 0x1ad17795358>"
      ]
     },
     "metadata": {},
     "output_type": "display_data"
    }
   ],
   "source": [
    "lj_data['house_type'].value_counts().plot(kind='bar')"
   ]
  },
  {
   "cell_type": "markdown",
   "metadata": {},
   "source": [
    "### 最受欢迎的房型"
   ]
  },
  {
   "cell_type": "code",
   "execution_count": 33,
   "metadata": {
    "scrolled": true
   },
   "outputs": [
    {
     "data": {
      "text/html": [
       "<div>\n",
       "<style>\n",
       "    .dataframe thead tr:only-child th {\n",
       "        text-align: right;\n",
       "    }\n",
       "\n",
       "    .dataframe thead th {\n",
       "        text-align: left;\n",
       "    }\n",
       "\n",
       "    .dataframe tbody tr th {\n",
       "        vertical-align: top;\n",
       "    }\n",
       "</style>\n",
       "<table border=\"1\" class=\"dataframe\">\n",
       "  <thead>\n",
       "    <tr style=\"text-align: right;\">\n",
       "      <th></th>\n",
       "      <th>view_num</th>\n",
       "    </tr>\n",
       "    <tr>\n",
       "      <th>house_type</th>\n",
       "      <th></th>\n",
       "    </tr>\n",
       "  </thead>\n",
       "  <tbody>\n",
       "    <tr>\n",
       "      <th>6室3厅</th>\n",
       "      <td>21.000000</td>\n",
       "    </tr>\n",
       "    <tr>\n",
       "      <th>2房间1卫</th>\n",
       "      <td>19.833333</td>\n",
       "    </tr>\n",
       "    <tr>\n",
       "      <th>1室2厅</th>\n",
       "      <td>17.058824</td>\n",
       "    </tr>\n",
       "    <tr>\n",
       "      <th>3房间1卫</th>\n",
       "      <td>17.000000</td>\n",
       "    </tr>\n",
       "    <tr>\n",
       "      <th>2房间2卫</th>\n",
       "      <td>16.000000</td>\n",
       "    </tr>\n",
       "  </tbody>\n",
       "</table>\n",
       "</div>"
      ],
      "text/plain": [
       "             view_num\n",
       "house_type           \n",
       "6室3厅        21.000000\n",
       "2房间1卫       19.833333\n",
       "1室2厅        17.058824\n",
       "3房间1卫       17.000000\n",
       "2房间2卫       16.000000"
      ]
     },
     "execution_count": 33,
     "metadata": {},
     "output_type": "execute_result"
    }
   ],
   "source": [
    "lj_data[['house_type','view_num']].groupby('house_type').mean().sort_values(by='view_num', ascending=False).head()"
   ]
  },
  {
   "cell_type": "markdown",
   "metadata": {},
   "source": [
    "### 房子的平均租房价格(按平米算)"
   ]
  },
  {
   "cell_type": "code",
   "execution_count": 50,
   "metadata": {
    "scrolled": true
   },
   "outputs": [],
   "source": [
    "lj_data['area_num'] = lj_data['area'].apply(lambda x:int(x[:-2]))\n",
    "lj_data.loc[:,'price_per_m2'] = lj_data['price'] / lj_data['area_num']"
   ]
  },
  {
   "cell_type": "code",
   "execution_count": 52,
   "metadata": {},
   "outputs": [
    {
     "data": {
      "text/plain": [
       "87.72268429900429"
      ]
     },
     "execution_count": 52,
     "metadata": {},
     "output_type": "execute_result"
    }
   ],
   "source": [
    "lj_data['price_per_m2'].mean()"
   ]
  },
  {
   "cell_type": "markdown",
   "metadata": {},
   "source": [
    "### 最受关注的小区"
   ]
  },
  {
   "cell_type": "code",
   "execution_count": 63,
   "metadata": {},
   "outputs": [
    {
     "data": {
      "text/html": [
       "<div>\n",
       "<style>\n",
       "    .dataframe thead tr:only-child th {\n",
       "        text-align: right;\n",
       "    }\n",
       "\n",
       "    .dataframe thead th {\n",
       "        text-align: left;\n",
       "    }\n",
       "\n",
       "    .dataframe tbody tr th {\n",
       "        vertical-align: top;\n",
       "    }\n",
       "</style>\n",
       "<table border=\"1\" class=\"dataframe\">\n",
       "  <thead>\n",
       "    <tr style=\"text-align: right;\">\n",
       "      <th></th>\n",
       "      <th>view_num</th>\n",
       "    </tr>\n",
       "    <tr>\n",
       "      <th>address</th>\n",
       "      <th></th>\n",
       "    </tr>\n",
       "  </thead>\n",
       "  <tbody>\n",
       "    <tr>\n",
       "      <th>清芷园</th>\n",
       "      <td>246</td>\n",
       "    </tr>\n",
       "  </tbody>\n",
       "</table>\n",
       "</div>"
      ],
      "text/plain": [
       "         view_num\n",
       "address          \n",
       "清芷园           246"
      ]
     },
     "execution_count": 63,
     "metadata": {},
     "output_type": "execute_result"
    }
   ],
   "source": [
    "lj_data[['address','view_num']].groupby('address').sum().sort_values(by='view_num', ascending=False).head(1)"
   ]
  },
  {
   "cell_type": "markdown",
   "metadata": {},
   "source": [
    "### 出租房源最多的小区"
   ]
  },
  {
   "cell_type": "code",
   "execution_count": 66,
   "metadata": {},
   "outputs": [
    {
     "data": {
      "text/plain": [
       "远洋山水    19\n",
       "Name: address, dtype: int64"
      ]
     },
     "execution_count": 66,
     "metadata": {},
     "output_type": "execute_result"
    }
   ],
   "source": [
    "lj_data['address'].value_counts().head(1)"
   ]
  },
  {
   "cell_type": "markdown",
   "metadata": {},
   "source": [
    "### 出租房源最多的地区(大家从详情页可以对标到 海淀/西城/东城/朝阳 不同城区...)"
   ]
  },
  {
   "cell_type": "code",
   "execution_count": 72,
   "metadata": {},
   "outputs": [
    {
     "data": {
      "text/plain": [
       "望京租房    109\n",
       "Name: district, dtype: int64"
      ]
     },
     "execution_count": 72,
     "metadata": {},
     "output_type": "execute_result"
    }
   ],
   "source": [
    "lj_data.district.value_counts().head(1)"
   ]
  },
  {
   "cell_type": "markdown",
   "metadata": {},
   "source": [
    "### 集中供暖和非集中供暖的有多少家，平均价格是多少"
   ]
  },
  {
   "cell_type": "code",
   "execution_count": 76,
   "metadata": {},
   "outputs": [],
   "source": [
    "lj_data['is_centerwarm'] = lj_data['extra_info'].apply(lambda x: '集中供暖' in x)"
   ]
  },
  {
   "cell_type": "code",
   "execution_count": 80,
   "metadata": {},
   "outputs": [
    {
     "data": {
      "text/plain": [
       "is_centerwarm\n",
       "False    7317.436975\n",
       "True     7623.603327\n",
       "Name: price, dtype: float64"
      ]
     },
     "execution_count": 80,
     "metadata": {},
     "output_type": "execute_result"
    }
   ],
   "source": [
    "lj_data[['is_centerwarm','price']].groupby('is_centerwarm').price.mean()"
   ]
  },
  {
   "cell_type": "markdown",
   "metadata": {},
   "source": [
    "### 哪个城区的租房价格最贵，平均价格是多少"
   ]
  },
  {
   "cell_type": "code",
   "execution_count": 83,
   "metadata": {},
   "outputs": [
    {
     "data": {
      "text/plain": [
       "district\n",
       "CBD租房    27000\n",
       "Name: price, dtype: int64"
      ]
     },
     "execution_count": 83,
     "metadata": {},
     "output_type": "execute_result"
    }
   ],
   "source": [
    "lj_data.groupby('district').price.max().head(1)"
   ]
  },
  {
   "cell_type": "markdown",
   "metadata": {},
   "source": [
    "### 不同房型的平均/最大/最小面积"
   ]
  },
  {
   "cell_type": "code",
   "execution_count": 87,
   "metadata": {},
   "outputs": [
    {
     "data": {
      "text/html": [
       "<div>\n",
       "<style>\n",
       "    .dataframe thead tr:only-child th {\n",
       "        text-align: right;\n",
       "    }\n",
       "\n",
       "    .dataframe thead th {\n",
       "        text-align: left;\n",
       "    }\n",
       "\n",
       "    .dataframe tbody tr th {\n",
       "        vertical-align: top;\n",
       "    }\n",
       "</style>\n",
       "<table border=\"1\" class=\"dataframe\">\n",
       "  <thead>\n",
       "    <tr style=\"text-align: right;\">\n",
       "      <th></th>\n",
       "      <th>mean</th>\n",
       "      <th>max</th>\n",
       "      <th>min</th>\n",
       "    </tr>\n",
       "    <tr>\n",
       "      <th>house_type</th>\n",
       "      <th></th>\n",
       "      <th></th>\n",
       "      <th></th>\n",
       "    </tr>\n",
       "  </thead>\n",
       "  <tbody>\n",
       "    <tr>\n",
       "      <th>1室0厅</th>\n",
       "      <td>48.484076</td>\n",
       "      <td>140</td>\n",
       "      <td>19</td>\n",
       "    </tr>\n",
       "    <tr>\n",
       "      <th>1室1厅</th>\n",
       "      <td>54.669584</td>\n",
       "      <td>107</td>\n",
       "      <td>28</td>\n",
       "    </tr>\n",
       "    <tr>\n",
       "      <th>1室2厅</th>\n",
       "      <td>72.411765</td>\n",
       "      <td>109</td>\n",
       "      <td>45</td>\n",
       "    </tr>\n",
       "    <tr>\n",
       "      <th>1房间1卫</th>\n",
       "      <td>42.875000</td>\n",
       "      <td>48</td>\n",
       "      <td>35</td>\n",
       "    </tr>\n",
       "    <tr>\n",
       "      <th>2室0厅</th>\n",
       "      <td>49.888889</td>\n",
       "      <td>55</td>\n",
       "      <td>42</td>\n",
       "    </tr>\n",
       "    <tr>\n",
       "      <th>2室1厅</th>\n",
       "      <td>78.725857</td>\n",
       "      <td>194</td>\n",
       "      <td>26</td>\n",
       "    </tr>\n",
       "    <tr>\n",
       "      <th>2室2厅</th>\n",
       "      <td>106.028169</td>\n",
       "      <td>228</td>\n",
       "      <td>60</td>\n",
       "    </tr>\n",
       "    <tr>\n",
       "      <th>2房间1卫</th>\n",
       "      <td>60.166667</td>\n",
       "      <td>67</td>\n",
       "      <td>52</td>\n",
       "    </tr>\n",
       "    <tr>\n",
       "      <th>2房间2卫</th>\n",
       "      <td>37.000000</td>\n",
       "      <td>38</td>\n",
       "      <td>36</td>\n",
       "    </tr>\n",
       "    <tr>\n",
       "      <th>3室0厅</th>\n",
       "      <td>67.000000</td>\n",
       "      <td>70</td>\n",
       "      <td>61</td>\n",
       "    </tr>\n",
       "    <tr>\n",
       "      <th>3室1厅</th>\n",
       "      <td>114.237197</td>\n",
       "      <td>217</td>\n",
       "      <td>54</td>\n",
       "    </tr>\n",
       "    <tr>\n",
       "      <th>3室2厅</th>\n",
       "      <td>145.690821</td>\n",
       "      <td>255</td>\n",
       "      <td>79</td>\n",
       "    </tr>\n",
       "    <tr>\n",
       "      <th>3室3厅</th>\n",
       "      <td>144.000000</td>\n",
       "      <td>181</td>\n",
       "      <td>123</td>\n",
       "    </tr>\n",
       "    <tr>\n",
       "      <th>3房间1卫</th>\n",
       "      <td>85.333333</td>\n",
       "      <td>91</td>\n",
       "      <td>77</td>\n",
       "    </tr>\n",
       "    <tr>\n",
       "      <th>3房间2卫</th>\n",
       "      <td>46.750000</td>\n",
       "      <td>63</td>\n",
       "      <td>39</td>\n",
       "    </tr>\n",
       "    <tr>\n",
       "      <th>4室1厅</th>\n",
       "      <td>165.285714</td>\n",
       "      <td>330</td>\n",
       "      <td>87</td>\n",
       "    </tr>\n",
       "    <tr>\n",
       "      <th>4室2厅</th>\n",
       "      <td>196.333333</td>\n",
       "      <td>304</td>\n",
       "      <td>119</td>\n",
       "    </tr>\n",
       "    <tr>\n",
       "      <th>4室3厅</th>\n",
       "      <td>179.000000</td>\n",
       "      <td>237</td>\n",
       "      <td>150</td>\n",
       "    </tr>\n",
       "    <tr>\n",
       "      <th>5室1厅</th>\n",
       "      <td>138.250000</td>\n",
       "      <td>180</td>\n",
       "      <td>99</td>\n",
       "    </tr>\n",
       "    <tr>\n",
       "      <th>5室2厅</th>\n",
       "      <td>242.125000</td>\n",
       "      <td>332</td>\n",
       "      <td>181</td>\n",
       "    </tr>\n",
       "    <tr>\n",
       "      <th>5室3厅</th>\n",
       "      <td>191.600000</td>\n",
       "      <td>219</td>\n",
       "      <td>135</td>\n",
       "    </tr>\n",
       "    <tr>\n",
       "      <th>5房间2卫</th>\n",
       "      <td>158.000000</td>\n",
       "      <td>158</td>\n",
       "      <td>158</td>\n",
       "    </tr>\n",
       "    <tr>\n",
       "      <th>6室2厅</th>\n",
       "      <td>274.000000</td>\n",
       "      <td>316</td>\n",
       "      <td>232</td>\n",
       "    </tr>\n",
       "    <tr>\n",
       "      <th>6室3厅</th>\n",
       "      <td>720.000000</td>\n",
       "      <td>720</td>\n",
       "      <td>720</td>\n",
       "    </tr>\n",
       "  </tbody>\n",
       "</table>\n",
       "</div>"
      ],
      "text/plain": [
       "                  mean  max  min\n",
       "house_type                      \n",
       "1室0厅         48.484076  140   19\n",
       "1室1厅         54.669584  107   28\n",
       "1室2厅         72.411765  109   45\n",
       "1房间1卫        42.875000   48   35\n",
       "2室0厅         49.888889   55   42\n",
       "2室1厅         78.725857  194   26\n",
       "2室2厅        106.028169  228   60\n",
       "2房间1卫        60.166667   67   52\n",
       "2房间2卫        37.000000   38   36\n",
       "3室0厅         67.000000   70   61\n",
       "3室1厅        114.237197  217   54\n",
       "3室2厅        145.690821  255   79\n",
       "3室3厅        144.000000  181  123\n",
       "3房间1卫        85.333333   91   77\n",
       "3房间2卫        46.750000   63   39\n",
       "4室1厅        165.285714  330   87\n",
       "4室2厅        196.333333  304  119\n",
       "4室3厅        179.000000  237  150\n",
       "5室1厅        138.250000  180   99\n",
       "5室2厅        242.125000  332  181\n",
       "5室3厅        191.600000  219  135\n",
       "5房间2卫       158.000000  158  158\n",
       "6室2厅        274.000000  316  232\n",
       "6室3厅        720.000000  720  720"
      ]
     },
     "execution_count": 87,
     "metadata": {},
     "output_type": "execute_result"
    }
   ],
   "source": [
    "lj_data.groupby('house_type').agg(['mean','max','min']).area_num"
   ]
  },
  {
   "cell_type": "markdown",
   "metadata": {},
   "source": [
    "### 哪个地铁口附近的房子最多"
   ]
  },
  {
   "cell_type": "code",
   "execution_count": 88,
   "metadata": {
    "collapsed": true
   },
   "outputs": [],
   "source": [
    "import re"
   ]
  },
  {
   "cell_type": "markdown",
   "metadata": {},
   "source": [
    "### 地铁附近的房子平均价格 比 非地铁的高多少"
   ]
  },
  {
   "cell_type": "markdown",
   "metadata": {},
   "source": [
    "### 地铁附近的房源离地铁平均距离"
   ]
  },
  {
   "cell_type": "markdown",
   "metadata": {},
   "source": [
    "### 最多的在租楼层"
   ]
  },
  {
   "cell_type": "code",
   "execution_count": 95,
   "metadata": {},
   "outputs": [
    {
     "data": {
      "text/plain": [
       "中    1026\n",
       "高     932\n",
       "低     798\n",
       "地       4\n",
       "Name: floor, dtype: int64"
      ]
     },
     "execution_count": 95,
     "metadata": {},
     "output_type": "execute_result"
    }
   ],
   "source": [
    "lj_data['floor'].apply(lambda x: x[0]).value_counts()"
   ]
  },
  {
   "cell_type": "markdown",
   "metadata": {},
   "source": [
    "### 不同地区的房龄分布"
   ]
  },
  {
   "cell_type": "markdown",
   "metadata": {},
   "source": [
    "### 直接看房的房子比例"
   ]
  },
  {
   "cell_type": "markdown",
   "metadata": {},
   "source": [
    "### 有电梯和无电梯的房子数量"
   ]
  },
  {
   "cell_type": "markdown",
   "metadata": {},
   "source": [
    "### 有电梯和无电梯房子情况(面积/价格/朝向/带看人数)分布"
   ]
  },
  {
   "cell_type": "markdown",
   "metadata": {},
   "source": [
    "### 附加信息里主要有哪几类信息，覆盖多少百分比的房子"
   ]
  },
  {
   "cell_type": "code",
   "execution_count": null,
   "metadata": {
    "collapsed": true
   },
   "outputs": [],
   "source": []
  }
 ],
 "metadata": {
  "kernelspec": {
   "display_name": "Python 3",
   "language": "python",
   "name": "python3"
  },
  "language_info": {
   "codemirror_mode": {
    "name": "ipython",
    "version": 3
   },
   "file_extension": ".py",
   "mimetype": "text/x-python",
   "name": "python",
   "nbconvert_exporter": "python",
   "pygments_lexer": "ipython3",
   "version": "3.6.1"
  }
 },
 "nbformat": 4,
 "nbformat_minor": 1
}
