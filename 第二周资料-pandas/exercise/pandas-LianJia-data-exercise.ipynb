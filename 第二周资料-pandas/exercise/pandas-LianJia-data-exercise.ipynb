{
 "cells": [
  {
   "cell_type": "markdown",
   "metadata": {},
   "source": [
    "## 链家数据分析\n",
    "我们来根据我们之前爬取的链家网数据，做一点小小的数据分析。"
   ]
  },
  {
   "cell_type": "markdown",
   "metadata": {},
   "source": [
    "### 0.载入数据"
   ]
  },
  {
   "cell_type": "code",
   "execution_count": 1,
   "metadata": {
    "collapsed": true
   },
   "outputs": [],
   "source": [
    "import pandas as pd\n",
    "lj_data = pd.read_csv('./LJdata.csv')"
   ]
  },
  {
   "cell_type": "markdown",
   "metadata": {},
   "source": [
    "大家规范一点，用英文的column name，这样免去了后续的一些问题(主要是编码问题)"
   ]
  },
  {
   "cell_type": "code",
   "execution_count": 2,
   "metadata": {},
   "outputs": [
    {
     "data": {
      "text/plain": [
       "Index(['区域', '地址', '标题', '户型', '面积', '价格', '楼层', '建造时间', '朝向', '更新时间', '看房人数',\n",
       "       '备注', '链接地址'],\n",
       "      dtype='object')"
      ]
     },
     "execution_count": 2,
     "metadata": {},
     "output_type": "execute_result"
    }
   ],
   "source": [
    "lj_data.columns"
   ]
  },
  {
   "cell_type": "code",
   "execution_count": 3,
   "metadata": {
    "collapsed": true
   },
   "outputs": [],
   "source": [
    "lj_data.columns = ['district', 'address', 'title', 'house_type', 'area', 'price', 'floor', 'build_time', 'direction', 'update_time', 'view_num', 'extra_info', 'link']"
   ]
  },
  {
   "cell_type": "markdown",
   "metadata": {},
   "source": [
    "Perfect, 然后咱们就可以开始做点分析了"
   ]
  },
  {
   "cell_type": "markdown",
   "metadata": {},
   "source": [
    "### 查看数据的形状和信息\n",
    "hint:都还记得info/describe/shape的用法吧，用起来！"
   ]
  },
  {
   "cell_type": "code",
   "execution_count": 4,
   "metadata": {},
   "outputs": [
    {
     "data": {
      "text/plain": [
       "(2760, 13)"
      ]
     },
     "execution_count": 4,
     "metadata": {},
     "output_type": "execute_result"
    }
   ],
   "source": [
    "lj_data.shape"
   ]
  },
  {
   "cell_type": "markdown",
   "metadata": {},
   "source": [
    "### 找到最近更新信息的20套房子"
   ]
  },
  {
   "cell_type": "code",
   "execution_count": 7,
   "metadata": {},
   "outputs": [
    {
     "data": {
      "text/html": [
       "<div>\n",
       "<style>\n",
       "    .dataframe thead tr:only-child th {\n",
       "        text-align: right;\n",
       "    }\n",
       "\n",
       "    .dataframe thead th {\n",
       "        text-align: left;\n",
       "    }\n",
       "\n",
       "    .dataframe tbody tr th {\n",
       "        vertical-align: top;\n",
       "    }\n",
       "</style>\n",
       "<table border=\"1\" class=\"dataframe\">\n",
       "  <thead>\n",
       "    <tr style=\"text-align: right;\">\n",
       "      <th></th>\n",
       "      <th>district</th>\n",
       "      <th>address</th>\n",
       "      <th>title</th>\n",
       "      <th>house_type</th>\n",
       "      <th>area</th>\n",
       "      <th>price</th>\n",
       "      <th>floor</th>\n",
       "      <th>build_time</th>\n",
       "      <th>direction</th>\n",
       "      <th>update_time</th>\n",
       "      <th>view_num</th>\n",
       "      <th>extra_info</th>\n",
       "      <th>link</th>\n",
       "    </tr>\n",
       "  </thead>\n",
       "  <tbody>\n",
       "    <tr>\n",
       "      <th>2439</th>\n",
       "      <td>良乡租房</td>\n",
       "      <td>良乡中路24号院</td>\n",
       "      <td>国泰百货旁边正规三居室 诚心出租 有钥匙随时看房</td>\n",
       "      <td>3室1厅</td>\n",
       "      <td>68平米</td>\n",
       "      <td>2400</td>\n",
       "      <td>高楼层(共6层)</td>\n",
       "      <td>1990年建板楼</td>\n",
       "      <td>南</td>\n",
       "      <td>2017.07.14</td>\n",
       "      <td>0</td>\n",
       "      <td>距离房山线良乡南关站939米 随时看房</td>\n",
       "      <td>https://bj.lianjia.com/zufang/101101799730.html</td>\n",
       "    </tr>\n",
       "    <tr>\n",
       "      <th>1683</th>\n",
       "      <td>甘露园租房</td>\n",
       "      <td>康家园</td>\n",
       "      <td>康家园 2室1厅 5000元</td>\n",
       "      <td>2室1厅</td>\n",
       "      <td>65平米</td>\n",
       "      <td>5000</td>\n",
       "      <td>中楼层(共6层)</td>\n",
       "      <td>1997年建板楼</td>\n",
       "      <td>南</td>\n",
       "      <td>2017.07.14</td>\n",
       "      <td>25</td>\n",
       "      <td>随时看房 集中供暖</td>\n",
       "      <td>https://bj.lianjia.com/zufang/101101575607.html</td>\n",
       "    </tr>\n",
       "    <tr>\n",
       "      <th>1281</th>\n",
       "      <td>东直门租房</td>\n",
       "      <td>华普花园</td>\n",
       "      <td>东二环 东直门 华普花园 出租三居室 看房方便</td>\n",
       "      <td>3室1厅</td>\n",
       "      <td>171平米</td>\n",
       "      <td>20000</td>\n",
       "      <td>中楼层(共22层)</td>\n",
       "      <td>2001年建塔楼</td>\n",
       "      <td>南</td>\n",
       "      <td>2017.07.14</td>\n",
       "      <td>3</td>\n",
       "      <td>距离2号线东四十条站323米 随时看房 精装修 集中供暖</td>\n",
       "      <td>https://bj.lianjia.com/zufang/101101812938.html</td>\n",
       "    </tr>\n",
       "    <tr>\n",
       "      <th>1029</th>\n",
       "      <td>草桥租房</td>\n",
       "      <td>恋日花都</td>\n",
       "      <td>恋日花都 南三环 封闭管理小区 开间</td>\n",
       "      <td>1室0厅</td>\n",
       "      <td>54平米</td>\n",
       "      <td>4400</td>\n",
       "      <td>高楼层(共17层)</td>\n",
       "      <td>2006年建塔楼</td>\n",
       "      <td>东北</td>\n",
       "      <td>2017.07.14</td>\n",
       "      <td>27</td>\n",
       "      <td>距离10号线草桥站460米 随时看房 精装修 集中供暖</td>\n",
       "      <td>https://bj.lianjia.com/zufang/101101678256.html</td>\n",
       "    </tr>\n",
       "    <tr>\n",
       "      <th>872</th>\n",
       "      <td>朝青租房</td>\n",
       "      <td>天鹅湾北区</td>\n",
       "      <td>天鹅湾北区精致时尚loft  业主婚房诚意出租</td>\n",
       "      <td>1室1厅</td>\n",
       "      <td>46平米</td>\n",
       "      <td>9500</td>\n",
       "      <td>中楼层(共8层)</td>\n",
       "      <td>2010年建板塔结合</td>\n",
       "      <td>西</td>\n",
       "      <td>2017.07.14</td>\n",
       "      <td>39</td>\n",
       "      <td>距离6号线青年路站736米 随时看房 精装修 集中供暖</td>\n",
       "      <td>https://bj.lianjia.com/zufang/101101606488.html</td>\n",
       "    </tr>\n",
       "    <tr>\n",
       "      <th>2030</th>\n",
       "      <td>朝青租房</td>\n",
       "      <td>天鹅湾北区</td>\n",
       "      <td>天鹅湾北区 3室2厅 23000元</td>\n",
       "      <td>3室2厅</td>\n",
       "      <td>123平米</td>\n",
       "      <td>23000</td>\n",
       "      <td>高楼层(共18层)</td>\n",
       "      <td>2007年建板塔结合</td>\n",
       "      <td>西</td>\n",
       "      <td>2017.07.14</td>\n",
       "      <td>12</td>\n",
       "      <td>距离6号线青年路站481米 随时看房 精装修 集中供暖</td>\n",
       "      <td>https://bj.lianjia.com/zufang/101101047834.html</td>\n",
       "    </tr>\n",
       "    <tr>\n",
       "      <th>142</th>\n",
       "      <td>牡丹园租房</td>\n",
       "      <td>塔院小区</td>\n",
       "      <td>牡丹园西土城地铁北医三院塔院小区南北向两居室</td>\n",
       "      <td>2室1厅</td>\n",
       "      <td>56平米</td>\n",
       "      <td>7500</td>\n",
       "      <td>中楼层(共6层)</td>\n",
       "      <td>1988年建板楼</td>\n",
       "      <td>南 北</td>\n",
       "      <td>2017.07.14</td>\n",
       "      <td>42</td>\n",
       "      <td>距离10号线西土城站841米 随时看房 精装修 集中供暖</td>\n",
       "      <td>https://bj.lianjia.com/zufang/101101667962.html</td>\n",
       "    </tr>\n",
       "    <tr>\n",
       "      <th>140</th>\n",
       "      <td>五棵松租房</td>\n",
       "      <td>六建</td>\n",
       "      <td>六建大两居，看房随时，有钥匙。</td>\n",
       "      <td>2室1厅</td>\n",
       "      <td>61平米</td>\n",
       "      <td>5500</td>\n",
       "      <td>低楼层(共16层)</td>\n",
       "      <td>1988年建塔楼</td>\n",
       "      <td>南 北</td>\n",
       "      <td>2017.07.14</td>\n",
       "      <td>54</td>\n",
       "      <td>距离1号线五棵松站110米 随时看房 集中供暖</td>\n",
       "      <td>https://bj.lianjia.com/zufang/101101663107.html</td>\n",
       "    </tr>\n",
       "    <tr>\n",
       "      <th>31</th>\n",
       "      <td>天宁寺租房</td>\n",
       "      <td>白菜湾社区</td>\n",
       "      <td>精装修2居价钱可聊随时拎包入住</td>\n",
       "      <td>2室1厅</td>\n",
       "      <td>59平米</td>\n",
       "      <td>5100</td>\n",
       "      <td>中楼层(共6层)</td>\n",
       "      <td>1992年建板楼</td>\n",
       "      <td>南 北</td>\n",
       "      <td>2017.07.14</td>\n",
       "      <td>34</td>\n",
       "      <td>随时看房 精装修 集中供暖</td>\n",
       "      <td>https://bj.lianjia.com/zufang/101101749057.html</td>\n",
       "    </tr>\n",
       "    <tr>\n",
       "      <th>2562</th>\n",
       "      <td>CBD租房</td>\n",
       "      <td>和乔丽致公寓</td>\n",
       "      <td>CBD白领公寓 和乔经典loft 一居室 拎包入住</td>\n",
       "      <td>1室1厅</td>\n",
       "      <td>61平米</td>\n",
       "      <td>12000</td>\n",
       "      <td>中楼层(共16层)</td>\n",
       "      <td>2003年建塔楼</td>\n",
       "      <td>北</td>\n",
       "      <td>2017.07.14</td>\n",
       "      <td>9</td>\n",
       "      <td>距离1号线大望路站703米 随时看房 精装修 集中供暖</td>\n",
       "      <td>https://bj.lianjia.com/zufang/101101520184.html</td>\n",
       "    </tr>\n",
       "    <tr>\n",
       "      <th>1446</th>\n",
       "      <td>望京租房</td>\n",
       "      <td>保利中央公园</td>\n",
       "      <td>保利 南北四居 主卧带明卫 高楼层 采光好 视野开阔</td>\n",
       "      <td>4室2厅</td>\n",
       "      <td>147平米</td>\n",
       "      <td>23000</td>\n",
       "      <td>高楼层(共25层)</td>\n",
       "      <td>2012年建板楼</td>\n",
       "      <td>南 北</td>\n",
       "      <td>2017.07.14</td>\n",
       "      <td>9</td>\n",
       "      <td>随时看房 精装修 集中供暖</td>\n",
       "      <td>https://bj.lianjia.com/zufang/101101557758.html</td>\n",
       "    </tr>\n",
       "    <tr>\n",
       "      <th>1893</th>\n",
       "      <td>军博租房</td>\n",
       "      <td>北蜂窝中路2号院</td>\n",
       "      <td>北蜂窝中路2号院 南北向2居室 带客厅 诚心出租</td>\n",
       "      <td>2室1厅</td>\n",
       "      <td>60平米</td>\n",
       "      <td>5800</td>\n",
       "      <td>高楼层(共7层)</td>\n",
       "      <td>1987年建板楼</td>\n",
       "      <td>南 北</td>\n",
       "      <td>2017.07.14</td>\n",
       "      <td>4</td>\n",
       "      <td>随时看房 集中供暖</td>\n",
       "      <td>https://bj.lianjia.com/zufang/101101784818.html</td>\n",
       "    </tr>\n",
       "    <tr>\n",
       "      <th>1124</th>\n",
       "      <td>枣园租房</td>\n",
       "      <td>首邑溪谷</td>\n",
       "      <td>首邑溪谷 2室1厅 4300元</td>\n",
       "      <td>2室1厅</td>\n",
       "      <td>47平米</td>\n",
       "      <td>4300</td>\n",
       "      <td>低楼层(共16层)</td>\n",
       "      <td>2012年建板塔结合</td>\n",
       "      <td>南 北</td>\n",
       "      <td>2017.07.14</td>\n",
       "      <td>11</td>\n",
       "      <td>随时看房 集中供暖</td>\n",
       "      <td>https://bj.lianjia.com/zufang/101101759983.html</td>\n",
       "    </tr>\n",
       "    <tr>\n",
       "      <th>1056</th>\n",
       "      <td>安贞租房</td>\n",
       "      <td>安贞里</td>\n",
       "      <td>安贞里 一层一居室出租 简单装修看房方便可做员工宿舍</td>\n",
       "      <td>1室1厅</td>\n",
       "      <td>37平米</td>\n",
       "      <td>6500</td>\n",
       "      <td>低楼层(共6层)</td>\n",
       "      <td>1998年建板楼</td>\n",
       "      <td>南</td>\n",
       "      <td>2017.07.14</td>\n",
       "      <td>8</td>\n",
       "      <td>距离8号线安华桥站858米 随时看房 集中供暖</td>\n",
       "      <td>https://bj.lianjia.com/zufang/101101747537.html</td>\n",
       "    </tr>\n",
       "    <tr>\n",
       "      <th>245</th>\n",
       "      <td>三元桥租房</td>\n",
       "      <td>曙光里</td>\n",
       "      <td>曙光里 2室2厅 6000元</td>\n",
       "      <td>2室2厅</td>\n",
       "      <td>78平米</td>\n",
       "      <td>6000</td>\n",
       "      <td>高楼层(共6层)</td>\n",
       "      <td>1998年建板塔结合</td>\n",
       "      <td>东 东南 南</td>\n",
       "      <td>2017.07.14</td>\n",
       "      <td>21</td>\n",
       "      <td>距离机场线三元桥站1038米 随时看房 精装修 集中供暖</td>\n",
       "      <td>https://bj.lianjia.com/zufang/101101759351.html</td>\n",
       "    </tr>\n",
       "    <tr>\n",
       "      <th>351</th>\n",
       "      <td>天通苑租房</td>\n",
       "      <td>九台庄园</td>\n",
       "      <td>九台庄园6居室大面积联排出租，232平米，16000元每月</td>\n",
       "      <td>6室2厅</td>\n",
       "      <td>232平米</td>\n",
       "      <td>16000</td>\n",
       "      <td>低楼层(共3层)</td>\n",
       "      <td>2000年建</td>\n",
       "      <td>南 北</td>\n",
       "      <td>2017.07.14</td>\n",
       "      <td>23</td>\n",
       "      <td>随时看房 集中供暖</td>\n",
       "      <td>https://bj.lianjia.com/zufang/101101390883.html</td>\n",
       "    </tr>\n",
       "    <tr>\n",
       "      <th>1679</th>\n",
       "      <td>甘露园租房</td>\n",
       "      <td>康家园</td>\n",
       "      <td>康家园 2室1厅 5000元</td>\n",
       "      <td>2室1厅</td>\n",
       "      <td>65平米</td>\n",
       "      <td>5000</td>\n",
       "      <td>中楼层(共6层)</td>\n",
       "      <td>1997年建板楼</td>\n",
       "      <td>南</td>\n",
       "      <td>2017.07.14</td>\n",
       "      <td>25</td>\n",
       "      <td>随时看房 集中供暖</td>\n",
       "      <td>https://bj.lianjia.com/zufang/101101575607.html</td>\n",
       "    </tr>\n",
       "    <tr>\n",
       "      <th>1098</th>\n",
       "      <td>马甸租房</td>\n",
       "      <td>裕中东里</td>\n",
       "      <td>一层一居室  卧室朝南  有天井免费面积</td>\n",
       "      <td>1室1厅</td>\n",
       "      <td>43平米</td>\n",
       "      <td>5300</td>\n",
       "      <td>低楼层(共6层)</td>\n",
       "      <td>1989年建板楼</td>\n",
       "      <td>南</td>\n",
       "      <td>2017.07.14</td>\n",
       "      <td>11</td>\n",
       "      <td>距离8号线安华桥站458米 随时看房 集中供暖</td>\n",
       "      <td>https://bj.lianjia.com/zufang/101101790388.html</td>\n",
       "    </tr>\n",
       "    <tr>\n",
       "      <th>1076</th>\n",
       "      <td>马甸租房</td>\n",
       "      <td>裕中东里</td>\n",
       "      <td>一层一居室  卧室朝南  有天井免费面积</td>\n",
       "      <td>1室1厅</td>\n",
       "      <td>43平米</td>\n",
       "      <td>5300</td>\n",
       "      <td>低楼层(共6层)</td>\n",
       "      <td>1989年建板楼</td>\n",
       "      <td>南</td>\n",
       "      <td>2017.07.14</td>\n",
       "      <td>11</td>\n",
       "      <td>距离8号线安华桥站458米 随时看房 集中供暖</td>\n",
       "      <td>https://bj.lianjia.com/zufang/101101790388.html</td>\n",
       "    </tr>\n",
       "    <tr>\n",
       "      <th>2031</th>\n",
       "      <td>朝阳门内租房</td>\n",
       "      <td>仓南胡同14号院</td>\n",
       "      <td>南北通透两居室，屋内设施齐。恩，，好</td>\n",
       "      <td>2室1厅</td>\n",
       "      <td>70平米</td>\n",
       "      <td>8300</td>\n",
       "      <td>中楼层(共6层)</td>\n",
       "      <td>1993年建板楼</td>\n",
       "      <td>南 北</td>\n",
       "      <td>2017.07.14</td>\n",
       "      <td>18</td>\n",
       "      <td>距离2号线朝阳门站729米 随时看房 集中供暖</td>\n",
       "      <td>https://bj.lianjia.com/zufang/101101162277.html</td>\n",
       "    </tr>\n",
       "  </tbody>\n",
       "</table>\n",
       "</div>"
      ],
      "text/plain": [
       "     district   address                          title house_type   area  \\\n",
       "2439     良乡租房  良乡中路24号院       国泰百货旁边正规三居室 诚心出租 有钥匙随时看房       3室1厅   68平米   \n",
       "1683    甘露园租房       康家园                 康家园 2室1厅 5000元       2室1厅   65平米   \n",
       "1281    东直门租房      华普花园        东二环 东直门 华普花园 出租三居室 看房方便       3室1厅  171平米   \n",
       "1029     草桥租房      恋日花都             恋日花都 南三环 封闭管理小区 开间       1室0厅   54平米   \n",
       "872      朝青租房     天鹅湾北区        天鹅湾北区精致时尚loft  业主婚房诚意出租       1室1厅   46平米   \n",
       "2030     朝青租房     天鹅湾北区              天鹅湾北区 3室2厅 23000元       3室2厅  123平米   \n",
       "142     牡丹园租房      塔院小区         牡丹园西土城地铁北医三院塔院小区南北向两居室       2室1厅   56平米   \n",
       "140     五棵松租房        六建                六建大两居，看房随时，有钥匙。       2室1厅   61平米   \n",
       "31      天宁寺租房     白菜湾社区                精装修2居价钱可聊随时拎包入住       2室1厅   59平米   \n",
       "2562    CBD租房    和乔丽致公寓      CBD白领公寓 和乔经典loft 一居室 拎包入住       1室1厅   61平米   \n",
       "1446     望京租房    保利中央公园    保利 南北四居 主卧带明卫 高楼层 采光好 视野开阔        4室2厅  147平米   \n",
       "1893     军博租房  北蜂窝中路2号院       北蜂窝中路2号院 南北向2居室 带客厅 诚心出租       2室1厅   60平米   \n",
       "1124     枣园租房      首邑溪谷                首邑溪谷 2室1厅 4300元       2室1厅   47平米   \n",
       "1056     安贞租房       安贞里     安贞里 一层一居室出租 简单装修看房方便可做员工宿舍       1室1厅   37平米   \n",
       "245     三元桥租房       曙光里                 曙光里 2室2厅 6000元       2室2厅   78平米   \n",
       "351     天通苑租房      九台庄园  九台庄园6居室大面积联排出租，232平米，16000元每月       6室2厅  232平米   \n",
       "1679    甘露园租房       康家园                 康家园 2室1厅 5000元       2室1厅   65平米   \n",
       "1098     马甸租房      裕中东里           一层一居室  卧室朝南  有天井免费面积       1室1厅   43平米   \n",
       "1076     马甸租房      裕中东里           一层一居室  卧室朝南  有天井免费面积       1室1厅   43平米   \n",
       "2031   朝阳门内租房  仓南胡同14号院             南北通透两居室，屋内设施齐。恩，，好       2室1厅   70平米   \n",
       "\n",
       "      price      floor  build_time direction update_time  view_num  \\\n",
       "2439   2400   高楼层(共6层)    1990年建板楼         南  2017.07.14         0   \n",
       "1683   5000   中楼层(共6层)    1997年建板楼         南  2017.07.14        25   \n",
       "1281  20000  中楼层(共22层)    2001年建塔楼         南  2017.07.14         3   \n",
       "1029   4400  高楼层(共17层)    2006年建塔楼        东北  2017.07.14        27   \n",
       "872    9500   中楼层(共8层)  2010年建板塔结合         西  2017.07.14        39   \n",
       "2030  23000  高楼层(共18层)  2007年建板塔结合         西  2017.07.14        12   \n",
       "142    7500   中楼层(共6层)    1988年建板楼       南 北  2017.07.14        42   \n",
       "140    5500  低楼层(共16层)    1988年建塔楼       南 北  2017.07.14        54   \n",
       "31     5100   中楼层(共6层)    1992年建板楼       南 北  2017.07.14        34   \n",
       "2562  12000  中楼层(共16层)    2003年建塔楼         北  2017.07.14         9   \n",
       "1446  23000  高楼层(共25层)    2012年建板楼       南 北  2017.07.14         9   \n",
       "1893   5800   高楼层(共7层)    1987年建板楼       南 北  2017.07.14         4   \n",
       "1124   4300  低楼层(共16层)  2012年建板塔结合       南 北  2017.07.14        11   \n",
       "1056   6500   低楼层(共6层)    1998年建板楼         南  2017.07.14         8   \n",
       "245    6000   高楼层(共6层)  1998年建板塔结合    东 东南 南  2017.07.14        21   \n",
       "351   16000   低楼层(共3层)      2000年建       南 北  2017.07.14        23   \n",
       "1679   5000   中楼层(共6层)    1997年建板楼         南  2017.07.14        25   \n",
       "1098   5300   低楼层(共6层)    1989年建板楼         南  2017.07.14        11   \n",
       "1076   5300   低楼层(共6层)    1989年建板楼         南  2017.07.14        11   \n",
       "2031   8300   中楼层(共6层)    1993年建板楼       南 北  2017.07.14        18   \n",
       "\n",
       "                         extra_info  \\\n",
       "2439            距离房山线良乡南关站939米 随时看房   \n",
       "1683                      随时看房 集中供暖   \n",
       "1281   距离2号线东四十条站323米 随时看房 精装修 集中供暖   \n",
       "1029    距离10号线草桥站460米 随时看房 精装修 集中供暖   \n",
       "872     距离6号线青年路站736米 随时看房 精装修 集中供暖   \n",
       "2030    距离6号线青年路站481米 随时看房 精装修 集中供暖   \n",
       "142    距离10号线西土城站841米 随时看房 精装修 集中供暖   \n",
       "140         距离1号线五棵松站110米 随时看房 集中供暖   \n",
       "31                    随时看房 精装修 集中供暖   \n",
       "2562    距离1号线大望路站703米 随时看房 精装修 集中供暖   \n",
       "1446                  随时看房 精装修 集中供暖   \n",
       "1893                      随时看房 集中供暖   \n",
       "1124                      随时看房 集中供暖   \n",
       "1056        距离8号线安华桥站858米 随时看房 集中供暖   \n",
       "245    距离机场线三元桥站1038米 随时看房 精装修 集中供暖   \n",
       "351                       随时看房 集中供暖   \n",
       "1679                      随时看房 集中供暖   \n",
       "1098        距离8号线安华桥站458米 随时看房 集中供暖   \n",
       "1076        距离8号线安华桥站458米 随时看房 集中供暖   \n",
       "2031        距离2号线朝阳门站729米 随时看房 集中供暖   \n",
       "\n",
       "                                                 link  \n",
       "2439  https://bj.lianjia.com/zufang/101101799730.html  \n",
       "1683  https://bj.lianjia.com/zufang/101101575607.html  \n",
       "1281  https://bj.lianjia.com/zufang/101101812938.html  \n",
       "1029  https://bj.lianjia.com/zufang/101101678256.html  \n",
       "872   https://bj.lianjia.com/zufang/101101606488.html  \n",
       "2030  https://bj.lianjia.com/zufang/101101047834.html  \n",
       "142   https://bj.lianjia.com/zufang/101101667962.html  \n",
       "140   https://bj.lianjia.com/zufang/101101663107.html  \n",
       "31    https://bj.lianjia.com/zufang/101101749057.html  \n",
       "2562  https://bj.lianjia.com/zufang/101101520184.html  \n",
       "1446  https://bj.lianjia.com/zufang/101101557758.html  \n",
       "1893  https://bj.lianjia.com/zufang/101101784818.html  \n",
       "1124  https://bj.lianjia.com/zufang/101101759983.html  \n",
       "1056  https://bj.lianjia.com/zufang/101101747537.html  \n",
       "245   https://bj.lianjia.com/zufang/101101759351.html  \n",
       "351   https://bj.lianjia.com/zufang/101101390883.html  \n",
       "1679  https://bj.lianjia.com/zufang/101101575607.html  \n",
       "1098  https://bj.lianjia.com/zufang/101101790388.html  \n",
       "1076  https://bj.lianjia.com/zufang/101101790388.html  \n",
       "2031  https://bj.lianjia.com/zufang/101101162277.html  "
      ]
     },
     "execution_count": 7,
     "metadata": {},
     "output_type": "execute_result"
    }
   ],
   "source": [
    "lj_data.sort_values('update_time').head(20)"
   ]
  },
  {
   "cell_type": "markdown",
   "metadata": {},
   "source": [
    "### 平均看房人数"
   ]
  },
  {
   "cell_type": "code",
   "execution_count": 8,
   "metadata": {},
   "outputs": [
    {
     "data": {
      "text/plain": [
       "13.44891304347826"
      ]
     },
     "execution_count": 8,
     "metadata": {},
     "output_type": "execute_result"
    }
   ],
   "source": [
    "lj_data.view_num.mean()"
   ]
  },
  {
   "cell_type": "markdown",
   "metadata": {},
   "source": [
    "### 房龄最小的20套房子的平均看房人数、平均面积..."
   ]
  },
  {
   "cell_type": "code",
   "execution_count": 12,
   "metadata": {},
   "outputs": [
    {
     "data": {
      "text/plain": [
       "1981"
      ]
     },
     "execution_count": 12,
     "metadata": {},
     "output_type": "execute_result"
    }
   ],
   "source": [
    "int(lj_data.loc[0,'build_time'][:4])"
   ]
  },
  {
   "cell_type": "code",
   "execution_count": 18,
   "metadata": {
    "collapsed": true
   },
   "outputs": [],
   "source": [
    "import numpy as np"
   ]
  },
  {
   "cell_type": "code",
   "execution_count": 75,
   "metadata": {
    "collapsed": true
   },
   "outputs": [],
   "source": [
    "def get_age(x):\n",
    "    try:\n",
    "        return 2018 - int(x[:4])\n",
    "    except:\n",
    "        return np.NaN"
   ]
  },
  {
   "cell_type": "code",
   "execution_count": 76,
   "metadata": {},
   "outputs": [],
   "source": [
    "lj_data['build_year'] = lj_data['build_time'].apply(get_age)"
   ]
  },
  {
   "cell_type": "markdown",
   "metadata": {},
   "source": [
    "### 房子价格的分布(平均，方差，中位数)"
   ]
  },
  {
   "cell_type": "code",
   "execution_count": 21,
   "metadata": {},
   "outputs": [
    {
     "data": {
      "text/plain": [
       "count      2760.000000\n",
       "mean       7570.800725\n",
       "std        6316.204986\n",
       "min        1300.000000\n",
       "25%        4500.000000\n",
       "50%        6000.000000\n",
       "75%        8500.000000\n",
       "max      210000.000000\n",
       "Name: price, dtype: float64"
      ]
     },
     "execution_count": 21,
     "metadata": {},
     "output_type": "execute_result"
    }
   ],
   "source": [
    "lj_data['price'].describe()"
   ]
  },
  {
   "cell_type": "markdown",
   "metadata": {},
   "source": [
    "### 最受欢迎的朝向(平均看房人数)"
   ]
  },
  {
   "cell_type": "code",
   "execution_count": 28,
   "metadata": {},
   "outputs": [
    {
     "data": {
      "text/plain": [
       "direction\n",
       "东 东北    34.0\n",
       "Name: view_num, dtype: float64"
      ]
     },
     "execution_count": 28,
     "metadata": {},
     "output_type": "execute_result"
    }
   ],
   "source": [
    "lj_data.groupby('direction').mean()['view_num'].sort_values(ascending=False).head(1)"
   ]
  },
  {
   "cell_type": "markdown",
   "metadata": {},
   "source": [
    "### 房型数量分布"
   ]
  },
  {
   "cell_type": "code",
   "execution_count": 36,
   "metadata": {
    "collapsed": true
   },
   "outputs": [],
   "source": [
    "import matplotlib.pyplot as plt\n",
    "%matplotlib inline"
   ]
  },
  {
   "cell_type": "code",
   "execution_count": 39,
   "metadata": {},
   "outputs": [
    {
     "data": {
      "text/plain": [
       "<matplotlib.axes._subplots.AxesSubplot at 0x24b0a57bf98>"
      ]
     },
     "execution_count": 39,
     "metadata": {},
     "output_type": "execute_result"
    },
    {
     "data": {
      "image/png": "[encoded data removed]",
      "text/plain": [
       "<matplotlib.figure.Figure at 0x24b0a69fcc0>"
      ]
     },
     "metadata": {},
     "output_type": "display_data"
    }
   ],
   "source": [
    "plt.rc('font', family='SimHei', size=14)\n",
    "lj_data['house_type'].value_counts().plot(kind='bar')"
   ]
  },
  {
   "cell_type": "markdown",
   "metadata": {},
   "source": [
    "### 最受欢迎的房型"
   ]
  },
  {
   "cell_type": "code",
   "execution_count": 41,
   "metadata": {},
   "outputs": [
    {
     "data": {
      "text/plain": [
       "house_type\n",
       "2室1厅    17589\n",
       "Name: view_num, dtype: int64"
      ]
     },
     "execution_count": 41,
     "metadata": {},
     "output_type": "execute_result"
    }
   ],
   "source": [
    "lj_data.groupby('house_type')['view_num'].sum().sort_values(ascending=False).head(1)"
   ]
  },
  {
   "cell_type": "markdown",
   "metadata": {},
   "source": [
    "### 房子的平均租房价格(按平米算)"
   ]
  },
  {
   "cell_type": "code",
   "execution_count": 45,
   "metadata": {},
   "outputs": [],
   "source": [
    "import re"
   ]
  },
  {
   "cell_type": "code",
   "execution_count": 49,
   "metadata": {},
   "outputs": [
    {
     "data": {
      "text/plain": [
       "'142'"
      ]
     },
     "execution_count": 49,
     "metadata": {},
     "output_type": "execute_result"
    }
   ],
   "source": [
    "re.findall(pattern='(\\d+)平米', string='142平米')[0]"
   ]
  },
  {
   "cell_type": "code",
   "execution_count": 52,
   "metadata": {},
   "outputs": [],
   "source": [
    "lj_data['area_num'] = lj_data['area'].apply(lambda x: int(x[:-2]))\n",
    "lj_data.loc[:, 'price_num'] = lj_data['price'] / lj_data['area_num']"
   ]
  },
  {
   "cell_type": "markdown",
   "metadata": {},
   "source": [
    "### 最受关注的小区"
   ]
  },
  {
   "cell_type": "code",
   "execution_count": 60,
   "metadata": {},
   "outputs": [
    {
     "data": {
      "text/plain": [
       "district\n",
       "望京租房    1569\n",
       "Name: view_num, dtype: int64"
      ]
     },
     "execution_count": 60,
     "metadata": {},
     "output_type": "execute_result"
    }
   ],
   "source": [
    "lj_data.groupby('district').view_num.sum().sort_values(ascending=False).head(1)"
   ]
  },
  {
   "cell_type": "markdown",
   "metadata": {},
   "source": [
    "### 出租房源最多的小区"
   ]
  },
  {
   "cell_type": "code",
   "execution_count": 67,
   "metadata": {},
   "outputs": [
    {
     "data": {
      "text/plain": [
       "远洋山水    19\n",
       "Name: address, dtype: int64"
      ]
     },
     "execution_count": 67,
     "metadata": {},
     "output_type": "execute_result"
    }
   ],
   "source": [
    "lj_data['address'].value_counts().head(1)"
   ]
  },
  {
   "cell_type": "markdown",
   "metadata": {},
   "source": [
    "### 出租房源最多的地区(大家从详情页可以对标到 海淀/西城/东城/朝阳 不同城区...)"
   ]
  },
  {
   "cell_type": "code",
   "execution_count": 69,
   "metadata": {},
   "outputs": [
    {
     "data": {
      "text/plain": [
       "望京租房    109\n",
       "Name: district, dtype: int64"
      ]
     },
     "execution_count": 69,
     "metadata": {},
     "output_type": "execute_result"
    }
   ],
   "source": [
    "lj_data['district'].value_counts().head(1)"
   ]
  },
  {
   "cell_type": "markdown",
   "metadata": {},
   "source": [
    "### 集中供暖和非集中供暖的有多少家，平均价格是多少"
   ]
  },
  {
   "cell_type": "code",
   "execution_count": 72,
   "metadata": {},
   "outputs": [],
   "source": [
    "def is_centralwarm(x):\n",
    "    if x[-4:] == '集中供暖':\n",
    "        return 1\n",
    "    else:\n",
    "        return 0"
   ]
  },
  {
   "cell_type": "code",
   "execution_count": 73,
   "metadata": {
    "collapsed": true
   },
   "outputs": [],
   "source": [
    "lj_data['is_cw'] = lj_data['extra_info'].apply(is_centralwarm)"
   ]
  },
  {
   "cell_type": "markdown",
   "metadata": {},
   "source": [
    "### 哪个城区的租房价格最贵，平均价格是多少"
   ]
  },
  {
   "cell_type": "code",
   "execution_count": 83,
   "metadata": {},
   "outputs": [
    {
     "data": {
      "text/plain": [
       "district\n",
       "和平里租房    210000\n",
       "Name: price, dtype: int64"
      ]
     },
     "execution_count": 83,
     "metadata": {},
     "output_type": "execute_result"
    }
   ],
   "source": [
    "lj_data.groupby('district')['price'].max().sort_values(ascending=False).head(1)"
   ]
  },
  {
   "cell_type": "markdown",
   "metadata": {},
   "source": [
    "### 不同房型的平均/最大/最小面积"
   ]
  },
  {
   "cell_type": "code",
   "execution_count": 85,
   "metadata": {},
   "outputs": [
    {
     "data": {
      "text/html": [
       "<div>\n",
       "<style>\n",
       "    .dataframe thead tr:only-child th {\n",
       "        text-align: right;\n",
       "    }\n",
       "\n",
       "    .dataframe thead th {\n",
       "        text-align: left;\n",
       "    }\n",
       "\n",
       "    .dataframe tbody tr th {\n",
       "        vertical-align: top;\n",
       "    }\n",
       "</style>\n",
       "<table border=\"1\" class=\"dataframe\">\n",
       "  <thead>\n",
       "    <tr style=\"text-align: right;\">\n",
       "      <th></th>\n",
       "      <th>mean</th>\n",
       "      <th>max</th>\n",
       "      <th>min</th>\n",
       "    </tr>\n",
       "    <tr>\n",
       "      <th>house_type</th>\n",
       "      <th></th>\n",
       "      <th></th>\n",
       "      <th></th>\n",
       "    </tr>\n",
       "  </thead>\n",
       "  <tbody>\n",
       "    <tr>\n",
       "      <th>1室0厅</th>\n",
       "      <td>48.484076</td>\n",
       "      <td>140</td>\n",
       "      <td>19</td>\n",
       "    </tr>\n",
       "    <tr>\n",
       "      <th>1室1厅</th>\n",
       "      <td>54.669584</td>\n",
       "      <td>107</td>\n",
       "      <td>28</td>\n",
       "    </tr>\n",
       "    <tr>\n",
       "      <th>1室2厅</th>\n",
       "      <td>72.411765</td>\n",
       "      <td>109</td>\n",
       "      <td>45</td>\n",
       "    </tr>\n",
       "    <tr>\n",
       "      <th>1房间1卫</th>\n",
       "      <td>42.875000</td>\n",
       "      <td>48</td>\n",
       "      <td>35</td>\n",
       "    </tr>\n",
       "    <tr>\n",
       "      <th>2室0厅</th>\n",
       "      <td>49.888889</td>\n",
       "      <td>55</td>\n",
       "      <td>42</td>\n",
       "    </tr>\n",
       "    <tr>\n",
       "      <th>2室1厅</th>\n",
       "      <td>78.725857</td>\n",
       "      <td>194</td>\n",
       "      <td>26</td>\n",
       "    </tr>\n",
       "    <tr>\n",
       "      <th>2室2厅</th>\n",
       "      <td>106.028169</td>\n",
       "      <td>228</td>\n",
       "      <td>60</td>\n",
       "    </tr>\n",
       "    <tr>\n",
       "      <th>2房间1卫</th>\n",
       "      <td>60.166667</td>\n",
       "      <td>67</td>\n",
       "      <td>52</td>\n",
       "    </tr>\n",
       "    <tr>\n",
       "      <th>2房间2卫</th>\n",
       "      <td>37.000000</td>\n",
       "      <td>38</td>\n",
       "      <td>36</td>\n",
       "    </tr>\n",
       "    <tr>\n",
       "      <th>3室0厅</th>\n",
       "      <td>67.000000</td>\n",
       "      <td>70</td>\n",
       "      <td>61</td>\n",
       "    </tr>\n",
       "    <tr>\n",
       "      <th>3室1厅</th>\n",
       "      <td>114.237197</td>\n",
       "      <td>217</td>\n",
       "      <td>54</td>\n",
       "    </tr>\n",
       "    <tr>\n",
       "      <th>3室2厅</th>\n",
       "      <td>145.690821</td>\n",
       "      <td>255</td>\n",
       "      <td>79</td>\n",
       "    </tr>\n",
       "    <tr>\n",
       "      <th>3室3厅</th>\n",
       "      <td>144.000000</td>\n",
       "      <td>181</td>\n",
       "      <td>123</td>\n",
       "    </tr>\n",
       "    <tr>\n",
       "      <th>3房间1卫</th>\n",
       "      <td>85.333333</td>\n",
       "      <td>91</td>\n",
       "      <td>77</td>\n",
       "    </tr>\n",
       "    <tr>\n",
       "      <th>3房间2卫</th>\n",
       "      <td>46.750000</td>\n",
       "      <td>63</td>\n",
       "      <td>39</td>\n",
       "    </tr>\n",
       "    <tr>\n",
       "      <th>4室1厅</th>\n",
       "      <td>165.285714</td>\n",
       "      <td>330</td>\n",
       "      <td>87</td>\n",
       "    </tr>\n",
       "    <tr>\n",
       "      <th>4室2厅</th>\n",
       "      <td>196.333333</td>\n",
       "      <td>304</td>\n",
       "      <td>119</td>\n",
       "    </tr>\n",
       "    <tr>\n",
       "      <th>4室3厅</th>\n",
       "      <td>179.000000</td>\n",
       "      <td>237</td>\n",
       "      <td>150</td>\n",
       "    </tr>\n",
       "    <tr>\n",
       "      <th>5室1厅</th>\n",
       "      <td>138.250000</td>\n",
       "      <td>180</td>\n",
       "      <td>99</td>\n",
       "    </tr>\n",
       "    <tr>\n",
       "      <th>5室2厅</th>\n",
       "      <td>242.125000</td>\n",
       "      <td>332</td>\n",
       "      <td>181</td>\n",
       "    </tr>\n",
       "    <tr>\n",
       "      <th>5室3厅</th>\n",
       "      <td>191.600000</td>\n",
       "      <td>219</td>\n",
       "      <td>135</td>\n",
       "    </tr>\n",
       "    <tr>\n",
       "      <th>5房间2卫</th>\n",
       "      <td>158.000000</td>\n",
       "      <td>158</td>\n",
       "      <td>158</td>\n",
       "    </tr>\n",
       "    <tr>\n",
       "      <th>6室2厅</th>\n",
       "      <td>274.000000</td>\n",
       "      <td>316</td>\n",
       "      <td>232</td>\n",
       "    </tr>\n",
       "    <tr>\n",
       "      <th>6室3厅</th>\n",
       "      <td>720.000000</td>\n",
       "      <td>720</td>\n",
       "      <td>720</td>\n",
       "    </tr>\n",
       "  </tbody>\n",
       "</table>\n",
       "</div>"
      ],
      "text/plain": [
       "                  mean  max  min\n",
       "house_type                      \n",
       "1室0厅         48.484076  140   19\n",
       "1室1厅         54.669584  107   28\n",
       "1室2厅         72.411765  109   45\n",
       "1房间1卫        42.875000   48   35\n",
       "2室0厅         49.888889   55   42\n",
       "2室1厅         78.725857  194   26\n",
       "2室2厅        106.028169  228   60\n",
       "2房间1卫        60.166667   67   52\n",
       "2房间2卫        37.000000   38   36\n",
       "3室0厅         67.000000   70   61\n",
       "3室1厅        114.237197  217   54\n",
       "3室2厅        145.690821  255   79\n",
       "3室3厅        144.000000  181  123\n",
       "3房间1卫        85.333333   91   77\n",
       "3房间2卫        46.750000   63   39\n",
       "4室1厅        165.285714  330   87\n",
       "4室2厅        196.333333  304  119\n",
       "4室3厅        179.000000  237  150\n",
       "5室1厅        138.250000  180   99\n",
       "5室2厅        242.125000  332  181\n",
       "5室3厅        191.600000  219  135\n",
       "5房间2卫       158.000000  158  158\n",
       "6室2厅        274.000000  316  232\n",
       "6室3厅        720.000000  720  720"
      ]
     },
     "execution_count": 85,
     "metadata": {},
     "output_type": "execute_result"
    }
   ],
   "source": [
    "lj_data.groupby('house_type')['area_num'].agg(['mean','max','min'])"
   ]
  },
  {
   "cell_type": "markdown",
   "metadata": {},
   "source": [
    "### 哪个地铁口附近的房子最多"
   ]
  },
  {
   "cell_type": "code",
   "execution_count": 114,
   "metadata": {},
   "outputs": [],
   "source": [
    "def get_subway_info(pattern, string, n):\n",
    "    x = re.search(pattern=pattern, string=string)\n",
    "    if x:\n",
    "        return x.group(n)\n",
    "    return ''"
   ]
  },
  {
   "cell_type": "code",
   "execution_count": 115,
   "metadata": {},
   "outputs": [
    {
     "data": {
      "text/plain": [
       "' 距离14号线(东段)东湖渠站731米 随时看房 精装修 集中供暖'"
      ]
     },
     "execution_count": 115,
     "metadata": {},
     "output_type": "execute_result"
    }
   ],
   "source": [
    "lj_data['extra_info'][1]"
   ]
  },
  {
   "cell_type": "code",
   "execution_count": 144,
   "metadata": {
    "scrolled": true
   },
   "outputs": [],
   "source": [
    "lj_data.loc[:, 'station'] = lj_data['extra_info'].apply(lambda x: get_subway_info(r'距离(.+线)(\\(.*?段\\))?(.+站)', string=x, n=3))"
   ]
  },
  {
   "cell_type": "code",
   "execution_count": 139,
   "metadata": {
    "collapsed": true
   },
   "outputs": [],
   "source": [
    "lj_data.loc[:, 'subway_line'] = lj_data['extra_info'].apply(lambda x: get_subway_info(r'距离(.+线)(\\(.*?段\\))?(.+站)', string=x, n=1))"
   ]
  },
  {
   "cell_type": "code",
   "execution_count": 152,
   "metadata": {},
   "outputs": [
    {
     "data": {
      "text/plain": [
       "array(['', '东湖渠站', '达官营站', ..., '莲花桥站', '', '三元桥站'], dtype=object)"
      ]
     },
     "execution_count": 152,
     "metadata": {},
     "output_type": "execute_result"
    }
   ],
   "source": [
    "lj_data['station'].values"
   ]
  },
  {
   "cell_type": "markdown",
   "metadata": {},
   "source": [
    "### 地铁附近的房子平均价格 比 非地铁的高多少"
   ]
  },
  {
   "cell_type": "code",
   "execution_count": 155,
   "metadata": {
    "collapsed": true
   },
   "outputs": [],
   "source": [
    "lj_data['near_station'] = lj_data['station'].apply(lambda x: x is None)"
   ]
  },
  {
   "cell_type": "code",
   "execution_count": 156,
   "metadata": {},
   "outputs": [
    {
     "data": {
      "text/plain": [
       "near_station\n",
       "False    7570.800725\n",
       "Name: price, dtype: float64"
      ]
     },
     "execution_count": 156,
     "metadata": {},
     "output_type": "execute_result"
    }
   ],
   "source": [
    "lj_data.groupby('near_station')['price'].mean()"
   ]
  },
  {
   "cell_type": "markdown",
   "metadata": {},
   "source": [
    "### 地铁附近的房源离地铁平均距离"
   ]
  },
  {
   "cell_type": "code",
   "execution_count": 162,
   "metadata": {},
   "outputs": [],
   "source": [
    "lj_data.loc[:, 'distance'] = lj_data['extra_info'].apply(lambda x: get_subway_info(pattern=r'.*站(.*?)米', string=x, n=1))"
   ]
  },
  {
   "cell_type": "code",
   "execution_count": 166,
   "metadata": {},
   "outputs": [],
   "source": [
    "def distance_trans(x):\n",
    "    try:\n",
    "        return int(x)\n",
    "    except:\n",
    "        return np.NaN"
   ]
  },
  {
   "cell_type": "code",
   "execution_count": 167,
   "metadata": {
    "collapsed": true
   },
   "outputs": [],
   "source": [
    "lj_data['distance'] = lj_data['distance'].apply(distance_trans)"
   ]
  },
  {
   "cell_type": "code",
   "execution_count": 168,
   "metadata": {},
   "outputs": [
    {
     "data": {
      "text/plain": [
       "717.5501792114695"
      ]
     },
     "execution_count": 168,
     "metadata": {},
     "output_type": "execute_result"
    }
   ],
   "source": [
    "lj_data.distance.mean()"
   ]
  },
  {
   "cell_type": "markdown",
   "metadata": {},
   "source": [
    "### 最多的在租楼层"
   ]
  },
  {
   "cell_type": "code",
   "execution_count": 170,
   "metadata": {},
   "outputs": [],
   "source": [
    "lj_data['floor_type'] = lj_data['floor'].apply(lambda x:x[0])"
   ]
  },
  {
   "cell_type": "code",
   "execution_count": 171,
   "metadata": {},
   "outputs": [
    {
     "data": {
      "text/plain": [
       "中    1026\n",
       "高     932\n",
       "低     798\n",
       "地       4\n",
       "Name: floor_type, dtype: int64"
      ]
     },
     "execution_count": 171,
     "metadata": {},
     "output_type": "execute_result"
    }
   ],
   "source": [
    "lj_data.floor_type.value_counts()"
   ]
  },
  {
   "cell_type": "markdown",
   "metadata": {},
   "source": [
    "### 不同地区的房龄分布"
   ]
  },
  {
   "cell_type": "code",
   "execution_count": 181,
   "metadata": {},
   "outputs": [
    {
     "data": {
      "text/html": [
       "<div>\n",
       "<style>\n",
       "    .dataframe thead tr:only-child th {\n",
       "        text-align: right;\n",
       "    }\n",
       "\n",
       "    .dataframe thead th {\n",
       "        text-align: left;\n",
       "    }\n",
       "\n",
       "    .dataframe tbody tr th {\n",
       "        vertical-align: top;\n",
       "    }\n",
       "</style>\n",
       "<table border=\"1\" class=\"dataframe\">\n",
       "  <thead>\n",
       "    <tr style=\"text-align: right;\">\n",
       "      <th></th>\n",
       "      <th>count</th>\n",
       "      <th>mean</th>\n",
       "      <th>std</th>\n",
       "      <th>min</th>\n",
       "      <th>25%</th>\n",
       "      <th>50%</th>\n",
       "      <th>75%</th>\n",
       "      <th>max</th>\n",
       "    </tr>\n",
       "    <tr>\n",
       "      <th>district</th>\n",
       "      <th></th>\n",
       "      <th></th>\n",
       "      <th></th>\n",
       "      <th></th>\n",
       "      <th></th>\n",
       "      <th></th>\n",
       "      <th></th>\n",
       "      <th></th>\n",
       "    </tr>\n",
       "  </thead>\n",
       "  <tbody>\n",
       "    <tr>\n",
       "      <th>CBD租房</th>\n",
       "      <td>16.0</td>\n",
       "      <td>17.375000</td>\n",
       "      <td>4.937948</td>\n",
       "      <td>14.0</td>\n",
       "      <td>14.00</td>\n",
       "      <td>15.5</td>\n",
       "      <td>18.00</td>\n",
       "      <td>33.0</td>\n",
       "    </tr>\n",
       "    <tr>\n",
       "      <th>七里庄租房</th>\n",
       "      <td>17.0</td>\n",
       "      <td>20.529412</td>\n",
       "      <td>6.135121</td>\n",
       "      <td>12.0</td>\n",
       "      <td>17.00</td>\n",
       "      <td>18.0</td>\n",
       "      <td>28.00</td>\n",
       "      <td>31.0</td>\n",
       "    </tr>\n",
       "    <tr>\n",
       "      <th>万寿路租房</th>\n",
       "      <td>8.0</td>\n",
       "      <td>29.125000</td>\n",
       "      <td>6.379375</td>\n",
       "      <td>19.0</td>\n",
       "      <td>26.25</td>\n",
       "      <td>30.5</td>\n",
       "      <td>32.50</td>\n",
       "      <td>38.0</td>\n",
       "    </tr>\n",
       "    <tr>\n",
       "      <th>万柳租房</th>\n",
       "      <td>24.0</td>\n",
       "      <td>15.083333</td>\n",
       "      <td>1.691839</td>\n",
       "      <td>13.0</td>\n",
       "      <td>14.00</td>\n",
       "      <td>14.0</td>\n",
       "      <td>16.00</td>\n",
       "      <td>18.0</td>\n",
       "    </tr>\n",
       "    <tr>\n",
       "      <th>三元桥租房</th>\n",
       "      <td>22.0</td>\n",
       "      <td>19.363636</td>\n",
       "      <td>7.524851</td>\n",
       "      <td>10.0</td>\n",
       "      <td>13.00</td>\n",
       "      <td>16.0</td>\n",
       "      <td>25.75</td>\n",
       "      <td>34.0</td>\n",
       "    </tr>\n",
       "    <tr>\n",
       "      <th>三里屯租房</th>\n",
       "      <td>6.0</td>\n",
       "      <td>16.833333</td>\n",
       "      <td>7.521081</td>\n",
       "      <td>9.0</td>\n",
       "      <td>11.25</td>\n",
       "      <td>15.0</td>\n",
       "      <td>23.25</td>\n",
       "      <td>26.0</td>\n",
       "    </tr>\n",
       "    <tr>\n",
       "      <th>上地租房</th>\n",
       "      <td>12.0</td>\n",
       "      <td>18.583333</td>\n",
       "      <td>3.058768</td>\n",
       "      <td>15.0</td>\n",
       "      <td>16.00</td>\n",
       "      <td>18.5</td>\n",
       "      <td>20.00</td>\n",
       "      <td>25.0</td>\n",
       "    </tr>\n",
       "    <tr>\n",
       "      <th>世纪城租房</th>\n",
       "      <td>16.0</td>\n",
       "      <td>14.500000</td>\n",
       "      <td>2.280351</td>\n",
       "      <td>11.0</td>\n",
       "      <td>14.00</td>\n",
       "      <td>14.0</td>\n",
       "      <td>15.25</td>\n",
       "      <td>18.0</td>\n",
       "    </tr>\n",
       "    <tr>\n",
       "      <th>东关租房</th>\n",
       "      <td>15.0</td>\n",
       "      <td>19.733333</td>\n",
       "      <td>8.145697</td>\n",
       "      <td>6.0</td>\n",
       "      <td>14.00</td>\n",
       "      <td>23.0</td>\n",
       "      <td>25.00</td>\n",
       "      <td>34.0</td>\n",
       "    </tr>\n",
       "    <tr>\n",
       "      <th>东四租房</th>\n",
       "      <td>2.0</td>\n",
       "      <td>26.000000</td>\n",
       "      <td>9.899495</td>\n",
       "      <td>19.0</td>\n",
       "      <td>22.50</td>\n",
       "      <td>26.0</td>\n",
       "      <td>29.50</td>\n",
       "      <td>33.0</td>\n",
       "    </tr>\n",
       "    <tr>\n",
       "      <th>东坝租房</th>\n",
       "      <td>4.0</td>\n",
       "      <td>12.000000</td>\n",
       "      <td>9.055385</td>\n",
       "      <td>5.0</td>\n",
       "      <td>5.00</td>\n",
       "      <td>9.5</td>\n",
       "      <td>16.50</td>\n",
       "      <td>24.0</td>\n",
       "    </tr>\n",
       "    <tr>\n",
       "      <th>东大桥租房</th>\n",
       "      <td>4.0</td>\n",
       "      <td>21.750000</td>\n",
       "      <td>10.688779</td>\n",
       "      <td>12.0</td>\n",
       "      <td>12.75</td>\n",
       "      <td>22.0</td>\n",
       "      <td>31.00</td>\n",
       "      <td>31.0</td>\n",
       "    </tr>\n",
       "    <tr>\n",
       "      <th>东直门租房</th>\n",
       "      <td>20.0</td>\n",
       "      <td>20.250000</td>\n",
       "      <td>6.873864</td>\n",
       "      <td>12.0</td>\n",
       "      <td>16.00</td>\n",
       "      <td>16.0</td>\n",
       "      <td>27.00</td>\n",
       "      <td>35.0</td>\n",
       "    </tr>\n",
       "    <tr>\n",
       "      <th>东花市租房</th>\n",
       "      <td>8.0</td>\n",
       "      <td>19.625000</td>\n",
       "      <td>8.416608</td>\n",
       "      <td>13.0</td>\n",
       "      <td>14.50</td>\n",
       "      <td>16.0</td>\n",
       "      <td>23.00</td>\n",
       "      <td>38.0</td>\n",
       "    </tr>\n",
       "    <tr>\n",
       "      <th>中关村租房</th>\n",
       "      <td>7.0</td>\n",
       "      <td>33.142857</td>\n",
       "      <td>4.140393</td>\n",
       "      <td>24.0</td>\n",
       "      <td>34.00</td>\n",
       "      <td>34.0</td>\n",
       "      <td>35.00</td>\n",
       "      <td>36.0</td>\n",
       "    </tr>\n",
       "    <tr>\n",
       "      <th>临河里租房</th>\n",
       "      <td>19.0</td>\n",
       "      <td>8.157895</td>\n",
       "      <td>2.115109</td>\n",
       "      <td>6.0</td>\n",
       "      <td>6.50</td>\n",
       "      <td>8.0</td>\n",
       "      <td>9.50</td>\n",
       "      <td>13.0</td>\n",
       "    </tr>\n",
       "    <tr>\n",
       "      <th>丽泽租房</th>\n",
       "      <td>1.0</td>\n",
       "      <td>17.000000</td>\n",
       "      <td>NaN</td>\n",
       "      <td>17.0</td>\n",
       "      <td>17.00</td>\n",
       "      <td>17.0</td>\n",
       "      <td>17.00</td>\n",
       "      <td>17.0</td>\n",
       "    </tr>\n",
       "    <tr>\n",
       "      <th>乔庄租房</th>\n",
       "      <td>10.0</td>\n",
       "      <td>16.800000</td>\n",
       "      <td>4.984420</td>\n",
       "      <td>12.0</td>\n",
       "      <td>15.00</td>\n",
       "      <td>15.0</td>\n",
       "      <td>15.75</td>\n",
       "      <td>26.0</td>\n",
       "    </tr>\n",
       "    <tr>\n",
       "      <th>九棵树(家乐福)租房</th>\n",
       "      <td>29.0</td>\n",
       "      <td>12.448276</td>\n",
       "      <td>4.807629</td>\n",
       "      <td>6.0</td>\n",
       "      <td>10.00</td>\n",
       "      <td>12.0</td>\n",
       "      <td>13.00</td>\n",
       "      <td>33.0</td>\n",
       "    </tr>\n",
       "    <tr>\n",
       "      <th>二里庄租房</th>\n",
       "      <td>3.0</td>\n",
       "      <td>23.666667</td>\n",
       "      <td>5.131601</td>\n",
       "      <td>18.0</td>\n",
       "      <td>21.50</td>\n",
       "      <td>25.0</td>\n",
       "      <td>26.50</td>\n",
       "      <td>28.0</td>\n",
       "    </tr>\n",
       "    <tr>\n",
       "      <th>五棵松租房</th>\n",
       "      <td>14.0</td>\n",
       "      <td>24.428571</td>\n",
       "      <td>12.245654</td>\n",
       "      <td>9.0</td>\n",
       "      <td>12.00</td>\n",
       "      <td>29.0</td>\n",
       "      <td>34.50</td>\n",
       "      <td>42.0</td>\n",
       "    </tr>\n",
       "    <tr>\n",
       "      <th>五道口租房</th>\n",
       "      <td>10.0</td>\n",
       "      <td>25.300000</td>\n",
       "      <td>8.097325</td>\n",
       "      <td>10.0</td>\n",
       "      <td>19.75</td>\n",
       "      <td>28.0</td>\n",
       "      <td>31.00</td>\n",
       "      <td>33.0</td>\n",
       "    </tr>\n",
       "    <tr>\n",
       "      <th>五里店租房</th>\n",
       "      <td>1.0</td>\n",
       "      <td>13.000000</td>\n",
       "      <td>NaN</td>\n",
       "      <td>13.0</td>\n",
       "      <td>13.00</td>\n",
       "      <td>13.0</td>\n",
       "      <td>13.00</td>\n",
       "      <td>13.0</td>\n",
       "    </tr>\n",
       "    <tr>\n",
       "      <th>亚运村小营租房</th>\n",
       "      <td>28.0</td>\n",
       "      <td>14.964286</td>\n",
       "      <td>3.967294</td>\n",
       "      <td>9.0</td>\n",
       "      <td>11.75</td>\n",
       "      <td>13.5</td>\n",
       "      <td>18.25</td>\n",
       "      <td>22.0</td>\n",
       "    </tr>\n",
       "    <tr>\n",
       "      <th>亚运村租房</th>\n",
       "      <td>25.0</td>\n",
       "      <td>22.400000</td>\n",
       "      <td>4.873397</td>\n",
       "      <td>10.0</td>\n",
       "      <td>18.00</td>\n",
       "      <td>22.0</td>\n",
       "      <td>27.00</td>\n",
       "      <td>29.0</td>\n",
       "    </tr>\n",
       "    <tr>\n",
       "      <th>交道口租房</th>\n",
       "      <td>4.0</td>\n",
       "      <td>16.000000</td>\n",
       "      <td>0.000000</td>\n",
       "      <td>16.0</td>\n",
       "      <td>16.00</td>\n",
       "      <td>16.0</td>\n",
       "      <td>16.00</td>\n",
       "      <td>16.0</td>\n",
       "    </tr>\n",
       "    <tr>\n",
       "      <th>亦庄开发区其它租房</th>\n",
       "      <td>3.0</td>\n",
       "      <td>5.000000</td>\n",
       "      <td>0.000000</td>\n",
       "      <td>5.0</td>\n",
       "      <td>5.00</td>\n",
       "      <td>5.0</td>\n",
       "      <td>5.00</td>\n",
       "      <td>5.0</td>\n",
       "    </tr>\n",
       "    <tr>\n",
       "      <th>亦庄租房</th>\n",
       "      <td>34.0</td>\n",
       "      <td>12.970588</td>\n",
       "      <td>4.086084</td>\n",
       "      <td>7.0</td>\n",
       "      <td>9.25</td>\n",
       "      <td>14.0</td>\n",
       "      <td>15.00</td>\n",
       "      <td>23.0</td>\n",
       "    </tr>\n",
       "    <tr>\n",
       "      <th>健翔桥租房</th>\n",
       "      <td>3.0</td>\n",
       "      <td>24.000000</td>\n",
       "      <td>5.196152</td>\n",
       "      <td>21.0</td>\n",
       "      <td>21.00</td>\n",
       "      <td>21.0</td>\n",
       "      <td>25.50</td>\n",
       "      <td>30.0</td>\n",
       "    </tr>\n",
       "    <tr>\n",
       "      <th>公主坟租房</th>\n",
       "      <td>15.0</td>\n",
       "      <td>25.400000</td>\n",
       "      <td>6.434283</td>\n",
       "      <td>10.0</td>\n",
       "      <td>22.50</td>\n",
       "      <td>26.0</td>\n",
       "      <td>29.00</td>\n",
       "      <td>36.0</td>\n",
       "    </tr>\n",
       "    <tr>\n",
       "      <th>...</th>\n",
       "      <td>...</td>\n",
       "      <td>...</td>\n",
       "      <td>...</td>\n",
       "      <td>...</td>\n",
       "      <td>...</td>\n",
       "      <td>...</td>\n",
       "      <td>...</td>\n",
       "      <td>...</td>\n",
       "    </tr>\n",
       "    <tr>\n",
       "      <th>车公庄租房</th>\n",
       "      <td>14.0</td>\n",
       "      <td>26.285714</td>\n",
       "      <td>9.042026</td>\n",
       "      <td>13.0</td>\n",
       "      <td>16.25</td>\n",
       "      <td>30.5</td>\n",
       "      <td>31.00</td>\n",
       "      <td>38.0</td>\n",
       "    </tr>\n",
       "    <tr>\n",
       "      <th>通州北苑租房</th>\n",
       "      <td>28.0</td>\n",
       "      <td>17.000000</td>\n",
       "      <td>7.874008</td>\n",
       "      <td>8.0</td>\n",
       "      <td>9.00</td>\n",
       "      <td>15.0</td>\n",
       "      <td>22.25</td>\n",
       "      <td>33.0</td>\n",
       "    </tr>\n",
       "    <tr>\n",
       "      <th>酒仙桥租房</th>\n",
       "      <td>46.0</td>\n",
       "      <td>12.586957</td>\n",
       "      <td>5.105884</td>\n",
       "      <td>5.0</td>\n",
       "      <td>10.00</td>\n",
       "      <td>12.5</td>\n",
       "      <td>13.75</td>\n",
       "      <td>29.0</td>\n",
       "    </tr>\n",
       "    <tr>\n",
       "      <th>金宝街租房</th>\n",
       "      <td>1.0</td>\n",
       "      <td>14.000000</td>\n",
       "      <td>NaN</td>\n",
       "      <td>14.0</td>\n",
       "      <td>14.00</td>\n",
       "      <td>14.0</td>\n",
       "      <td>14.00</td>\n",
       "      <td>14.0</td>\n",
       "    </tr>\n",
       "    <tr>\n",
       "      <th>金融街租房</th>\n",
       "      <td>28.0</td>\n",
       "      <td>24.464286</td>\n",
       "      <td>9.114425</td>\n",
       "      <td>10.0</td>\n",
       "      <td>18.00</td>\n",
       "      <td>26.5</td>\n",
       "      <td>29.75</td>\n",
       "      <td>39.0</td>\n",
       "    </tr>\n",
       "    <tr>\n",
       "      <th>长椿街租房</th>\n",
       "      <td>1.0</td>\n",
       "      <td>19.000000</td>\n",
       "      <td>NaN</td>\n",
       "      <td>19.0</td>\n",
       "      <td>19.00</td>\n",
       "      <td>19.0</td>\n",
       "      <td>19.00</td>\n",
       "      <td>19.0</td>\n",
       "    </tr>\n",
       "    <tr>\n",
       "      <th>长阳租房</th>\n",
       "      <td>33.0</td>\n",
       "      <td>8.242424</td>\n",
       "      <td>2.850771</td>\n",
       "      <td>4.0</td>\n",
       "      <td>6.00</td>\n",
       "      <td>7.0</td>\n",
       "      <td>9.00</td>\n",
       "      <td>15.0</td>\n",
       "    </tr>\n",
       "    <tr>\n",
       "      <th>门头沟其它租房</th>\n",
       "      <td>1.0</td>\n",
       "      <td>5.000000</td>\n",
       "      <td>NaN</td>\n",
       "      <td>5.0</td>\n",
       "      <td>5.00</td>\n",
       "      <td>5.0</td>\n",
       "      <td>5.00</td>\n",
       "      <td>5.0</td>\n",
       "    </tr>\n",
       "    <tr>\n",
       "      <th>阎村租房</th>\n",
       "      <td>3.0</td>\n",
       "      <td>7.666667</td>\n",
       "      <td>3.055050</td>\n",
       "      <td>5.0</td>\n",
       "      <td>6.00</td>\n",
       "      <td>7.0</td>\n",
       "      <td>9.00</td>\n",
       "      <td>11.0</td>\n",
       "    </tr>\n",
       "    <tr>\n",
       "      <th>阜成门租房</th>\n",
       "      <td>17.0</td>\n",
       "      <td>34.941176</td>\n",
       "      <td>12.437195</td>\n",
       "      <td>23.0</td>\n",
       "      <td>25.00</td>\n",
       "      <td>29.0</td>\n",
       "      <td>40.00</td>\n",
       "      <td>62.0</td>\n",
       "    </tr>\n",
       "    <tr>\n",
       "      <th>陶然亭租房</th>\n",
       "      <td>15.0</td>\n",
       "      <td>19.466667</td>\n",
       "      <td>9.287985</td>\n",
       "      <td>8.0</td>\n",
       "      <td>10.50</td>\n",
       "      <td>22.0</td>\n",
       "      <td>26.50</td>\n",
       "      <td>34.0</td>\n",
       "    </tr>\n",
       "    <tr>\n",
       "      <th>霍营租房</th>\n",
       "      <td>9.0</td>\n",
       "      <td>17.555556</td>\n",
       "      <td>6.482883</td>\n",
       "      <td>9.0</td>\n",
       "      <td>11.00</td>\n",
       "      <td>19.0</td>\n",
       "      <td>23.00</td>\n",
       "      <td>24.0</td>\n",
       "    </tr>\n",
       "    <tr>\n",
       "      <th>青塔租房</th>\n",
       "      <td>5.0</td>\n",
       "      <td>16.800000</td>\n",
       "      <td>9.203260</td>\n",
       "      <td>7.0</td>\n",
       "      <td>8.00</td>\n",
       "      <td>18.0</td>\n",
       "      <td>23.00</td>\n",
       "      <td>28.0</td>\n",
       "    </tr>\n",
       "    <tr>\n",
       "      <th>顺义其它租房</th>\n",
       "      <td>7.0</td>\n",
       "      <td>8.857143</td>\n",
       "      <td>2.911390</td>\n",
       "      <td>5.0</td>\n",
       "      <td>7.00</td>\n",
       "      <td>8.0</td>\n",
       "      <td>11.00</td>\n",
       "      <td>13.0</td>\n",
       "    </tr>\n",
       "    <tr>\n",
       "      <th>顺义城租房</th>\n",
       "      <td>15.0</td>\n",
       "      <td>17.333333</td>\n",
       "      <td>8.885515</td>\n",
       "      <td>8.0</td>\n",
       "      <td>10.00</td>\n",
       "      <td>13.0</td>\n",
       "      <td>26.50</td>\n",
       "      <td>31.0</td>\n",
       "    </tr>\n",
       "    <tr>\n",
       "      <th>颐和园租房</th>\n",
       "      <td>1.0</td>\n",
       "      <td>26.000000</td>\n",
       "      <td>NaN</td>\n",
       "      <td>26.0</td>\n",
       "      <td>26.00</td>\n",
       "      <td>26.0</td>\n",
       "      <td>26.00</td>\n",
       "      <td>26.0</td>\n",
       "    </tr>\n",
       "    <tr>\n",
       "      <th>首都机场租房</th>\n",
       "      <td>1.0</td>\n",
       "      <td>32.000000</td>\n",
       "      <td>NaN</td>\n",
       "      <td>32.0</td>\n",
       "      <td>32.00</td>\n",
       "      <td>32.0</td>\n",
       "      <td>32.00</td>\n",
       "      <td>32.0</td>\n",
       "    </tr>\n",
       "    <tr>\n",
       "      <th>马坡租房</th>\n",
       "      <td>9.0</td>\n",
       "      <td>6.888889</td>\n",
       "      <td>1.691482</td>\n",
       "      <td>5.0</td>\n",
       "      <td>5.00</td>\n",
       "      <td>7.0</td>\n",
       "      <td>8.00</td>\n",
       "      <td>9.0</td>\n",
       "    </tr>\n",
       "    <tr>\n",
       "      <th>马家堡租房</th>\n",
       "      <td>23.0</td>\n",
       "      <td>14.217391</td>\n",
       "      <td>3.204493</td>\n",
       "      <td>9.0</td>\n",
       "      <td>12.00</td>\n",
       "      <td>14.0</td>\n",
       "      <td>16.00</td>\n",
       "      <td>20.0</td>\n",
       "    </tr>\n",
       "    <tr>\n",
       "      <th>马甸租房</th>\n",
       "      <td>37.0</td>\n",
       "      <td>27.594595</td>\n",
       "      <td>7.931861</td>\n",
       "      <td>15.0</td>\n",
       "      <td>21.00</td>\n",
       "      <td>29.0</td>\n",
       "      <td>34.00</td>\n",
       "      <td>38.0</td>\n",
       "    </tr>\n",
       "    <tr>\n",
       "      <th>马连洼租房</th>\n",
       "      <td>3.0</td>\n",
       "      <td>15.333333</td>\n",
       "      <td>7.094599</td>\n",
       "      <td>9.0</td>\n",
       "      <td>11.50</td>\n",
       "      <td>14.0</td>\n",
       "      <td>18.50</td>\n",
       "      <td>23.0</td>\n",
       "    </tr>\n",
       "    <tr>\n",
       "      <th>马连道租房</th>\n",
       "      <td>11.0</td>\n",
       "      <td>20.545455</td>\n",
       "      <td>6.022684</td>\n",
       "      <td>14.0</td>\n",
       "      <td>16.50</td>\n",
       "      <td>18.0</td>\n",
       "      <td>24.50</td>\n",
       "      <td>31.0</td>\n",
       "    </tr>\n",
       "    <tr>\n",
       "      <th>马驹桥租房</th>\n",
       "      <td>12.0</td>\n",
       "      <td>9.000000</td>\n",
       "      <td>2.628515</td>\n",
       "      <td>5.0</td>\n",
       "      <td>8.00</td>\n",
       "      <td>9.0</td>\n",
       "      <td>9.75</td>\n",
       "      <td>13.0</td>\n",
       "    </tr>\n",
       "    <tr>\n",
       "      <th>高碑店租房</th>\n",
       "      <td>9.0</td>\n",
       "      <td>13.111111</td>\n",
       "      <td>2.027588</td>\n",
       "      <td>11.0</td>\n",
       "      <td>11.00</td>\n",
       "      <td>13.0</td>\n",
       "      <td>14.00</td>\n",
       "      <td>17.0</td>\n",
       "    </tr>\n",
       "    <tr>\n",
       "      <th>魏公村租房</th>\n",
       "      <td>3.0</td>\n",
       "      <td>19.666667</td>\n",
       "      <td>2.886751</td>\n",
       "      <td>18.0</td>\n",
       "      <td>18.00</td>\n",
       "      <td>18.0</td>\n",
       "      <td>20.50</td>\n",
       "      <td>23.0</td>\n",
       "    </tr>\n",
       "    <tr>\n",
       "      <th>鲁谷租房</th>\n",
       "      <td>38.0</td>\n",
       "      <td>16.657895</td>\n",
       "      <td>7.627391</td>\n",
       "      <td>7.0</td>\n",
       "      <td>11.25</td>\n",
       "      <td>13.0</td>\n",
       "      <td>22.00</td>\n",
       "      <td>34.0</td>\n",
       "    </tr>\n",
       "    <tr>\n",
       "      <th>黄村中租房</th>\n",
       "      <td>4.0</td>\n",
       "      <td>20.250000</td>\n",
       "      <td>4.272002</td>\n",
       "      <td>15.0</td>\n",
       "      <td>18.00</td>\n",
       "      <td>20.5</td>\n",
       "      <td>22.75</td>\n",
       "      <td>25.0</td>\n",
       "    </tr>\n",
       "    <tr>\n",
       "      <th>黄村北租房</th>\n",
       "      <td>19.0</td>\n",
       "      <td>10.157895</td>\n",
       "      <td>8.254717</td>\n",
       "      <td>6.0</td>\n",
       "      <td>6.00</td>\n",
       "      <td>6.0</td>\n",
       "      <td>9.00</td>\n",
       "      <td>39.0</td>\n",
       "    </tr>\n",
       "    <tr>\n",
       "      <th>黄村火车站租房</th>\n",
       "      <td>3.0</td>\n",
       "      <td>24.666667</td>\n",
       "      <td>2.081666</td>\n",
       "      <td>23.0</td>\n",
       "      <td>23.50</td>\n",
       "      <td>24.0</td>\n",
       "      <td>25.50</td>\n",
       "      <td>27.0</td>\n",
       "    </tr>\n",
       "    <tr>\n",
       "      <th>鼓楼大街租房</th>\n",
       "      <td>16.0</td>\n",
       "      <td>13.562500</td>\n",
       "      <td>9.750000</td>\n",
       "      <td>3.0</td>\n",
       "      <td>6.00</td>\n",
       "      <td>9.5</td>\n",
       "      <td>17.00</td>\n",
       "      <td>38.0</td>\n",
       "    </tr>\n",
       "  </tbody>\n",
       "</table>\n",
       "<p>208 rows × 8 columns</p>\n",
       "</div>"
      ],
      "text/plain": [
       "            count       mean        std   min    25%   50%    75%   max\n",
       "district                                                               \n",
       "CBD租房        16.0  17.375000   4.937948  14.0  14.00  15.5  18.00  33.0\n",
       "七里庄租房        17.0  20.529412   6.135121  12.0  17.00  18.0  28.00  31.0\n",
       "万寿路租房         8.0  29.125000   6.379375  19.0  26.25  30.5  32.50  38.0\n",
       "万柳租房         24.0  15.083333   1.691839  13.0  14.00  14.0  16.00  18.0\n",
       "三元桥租房        22.0  19.363636   7.524851  10.0  13.00  16.0  25.75  34.0\n",
       "三里屯租房         6.0  16.833333   7.521081   9.0  11.25  15.0  23.25  26.0\n",
       "上地租房         12.0  18.583333   3.058768  15.0  16.00  18.5  20.00  25.0\n",
       "世纪城租房        16.0  14.500000   2.280351  11.0  14.00  14.0  15.25  18.0\n",
       "东关租房         15.0  19.733333   8.145697   6.0  14.00  23.0  25.00  34.0\n",
       "东四租房          2.0  26.000000   9.899495  19.0  22.50  26.0  29.50  33.0\n",
       "东坝租房          4.0  12.000000   9.055385   5.0   5.00   9.5  16.50  24.0\n",
       "东大桥租房         4.0  21.750000  10.688779  12.0  12.75  22.0  31.00  31.0\n",
       "东直门租房        20.0  20.250000   6.873864  12.0  16.00  16.0  27.00  35.0\n",
       "东花市租房         8.0  19.625000   8.416608  13.0  14.50  16.0  23.00  38.0\n",
       "中关村租房         7.0  33.142857   4.140393  24.0  34.00  34.0  35.00  36.0\n",
       "临河里租房        19.0   8.157895   2.115109   6.0   6.50   8.0   9.50  13.0\n",
       "丽泽租房          1.0  17.000000        NaN  17.0  17.00  17.0  17.00  17.0\n",
       "乔庄租房         10.0  16.800000   4.984420  12.0  15.00  15.0  15.75  26.0\n",
       "九棵树(家乐福)租房   29.0  12.448276   4.807629   6.0  10.00  12.0  13.00  33.0\n",
       "二里庄租房         3.0  23.666667   5.131601  18.0  21.50  25.0  26.50  28.0\n",
       "五棵松租房        14.0  24.428571  12.245654   9.0  12.00  29.0  34.50  42.0\n",
       "五道口租房        10.0  25.300000   8.097325  10.0  19.75  28.0  31.00  33.0\n",
       "五里店租房         1.0  13.000000        NaN  13.0  13.00  13.0  13.00  13.0\n",
       "亚运村小营租房      28.0  14.964286   3.967294   9.0  11.75  13.5  18.25  22.0\n",
       "亚运村租房        25.0  22.400000   4.873397  10.0  18.00  22.0  27.00  29.0\n",
       "交道口租房         4.0  16.000000   0.000000  16.0  16.00  16.0  16.00  16.0\n",
       "亦庄开发区其它租房     3.0   5.000000   0.000000   5.0   5.00   5.0   5.00   5.0\n",
       "亦庄租房         34.0  12.970588   4.086084   7.0   9.25  14.0  15.00  23.0\n",
       "健翔桥租房         3.0  24.000000   5.196152  21.0  21.00  21.0  25.50  30.0\n",
       "公主坟租房        15.0  25.400000   6.434283  10.0  22.50  26.0  29.00  36.0\n",
       "...           ...        ...        ...   ...    ...   ...    ...   ...\n",
       "车公庄租房        14.0  26.285714   9.042026  13.0  16.25  30.5  31.00  38.0\n",
       "通州北苑租房       28.0  17.000000   7.874008   8.0   9.00  15.0  22.25  33.0\n",
       "酒仙桥租房        46.0  12.586957   5.105884   5.0  10.00  12.5  13.75  29.0\n",
       "金宝街租房         1.0  14.000000        NaN  14.0  14.00  14.0  14.00  14.0\n",
       "金融街租房        28.0  24.464286   9.114425  10.0  18.00  26.5  29.75  39.0\n",
       "长椿街租房         1.0  19.000000        NaN  19.0  19.00  19.0  19.00  19.0\n",
       "长阳租房         33.0   8.242424   2.850771   4.0   6.00   7.0   9.00  15.0\n",
       "门头沟其它租房       1.0   5.000000        NaN   5.0   5.00   5.0   5.00   5.0\n",
       "阎村租房          3.0   7.666667   3.055050   5.0   6.00   7.0   9.00  11.0\n",
       "阜成门租房        17.0  34.941176  12.437195  23.0  25.00  29.0  40.00  62.0\n",
       "陶然亭租房        15.0  19.466667   9.287985   8.0  10.50  22.0  26.50  34.0\n",
       "霍营租房          9.0  17.555556   6.482883   9.0  11.00  19.0  23.00  24.0\n",
       "青塔租房          5.0  16.800000   9.203260   7.0   8.00  18.0  23.00  28.0\n",
       "顺义其它租房        7.0   8.857143   2.911390   5.0   7.00   8.0  11.00  13.0\n",
       "顺义城租房        15.0  17.333333   8.885515   8.0  10.00  13.0  26.50  31.0\n",
       "颐和园租房         1.0  26.000000        NaN  26.0  26.00  26.0  26.00  26.0\n",
       "首都机场租房        1.0  32.000000        NaN  32.0  32.00  32.0  32.00  32.0\n",
       "马坡租房          9.0   6.888889   1.691482   5.0   5.00   7.0   8.00   9.0\n",
       "马家堡租房        23.0  14.217391   3.204493   9.0  12.00  14.0  16.00  20.0\n",
       "马甸租房         37.0  27.594595   7.931861  15.0  21.00  29.0  34.00  38.0\n",
       "马连洼租房         3.0  15.333333   7.094599   9.0  11.50  14.0  18.50  23.0\n",
       "马连道租房        11.0  20.545455   6.022684  14.0  16.50  18.0  24.50  31.0\n",
       "马驹桥租房        12.0   9.000000   2.628515   5.0   8.00   9.0   9.75  13.0\n",
       "高碑店租房         9.0  13.111111   2.027588  11.0  11.00  13.0  14.00  17.0\n",
       "魏公村租房         3.0  19.666667   2.886751  18.0  18.00  18.0  20.50  23.0\n",
       "鲁谷租房         38.0  16.657895   7.627391   7.0  11.25  13.0  22.00  34.0\n",
       "黄村中租房         4.0  20.250000   4.272002  15.0  18.00  20.5  22.75  25.0\n",
       "黄村北租房        19.0  10.157895   8.254717   6.0   6.00   6.0   9.00  39.0\n",
       "黄村火车站租房       3.0  24.666667   2.081666  23.0  23.50  24.0  25.50  27.0\n",
       "鼓楼大街租房       16.0  13.562500   9.750000   3.0   6.00   9.5  17.00  38.0\n",
       "\n",
       "[208 rows x 8 columns]"
      ]
     },
     "execution_count": 181,
     "metadata": {},
     "output_type": "execute_result"
    }
   ],
   "source": [
    "lj_data.groupby('district').build_year.describe()"
   ]
  },
  {
   "cell_type": "markdown",
   "metadata": {},
   "source": [
    "### 直接看房的房子比例"
   ]
  },
  {
   "cell_type": "code",
   "execution_count": 189,
   "metadata": {},
   "outputs": [],
   "source": [
    "lj_data.loc[:, 'convinent'] = lj_data.extra_info.apply(lambda x: '随时看房' in x)"
   ]
  },
  {
   "cell_type": "code",
   "execution_count": 190,
   "metadata": {},
   "outputs": [
    {
     "data": {
      "text/plain": [
       "0.9985507246376811"
      ]
     },
     "execution_count": 190,
     "metadata": {},
     "output_type": "execute_result"
    }
   ],
   "source": [
    "lj_data.convinent.mean()"
   ]
  },
  {
   "cell_type": "markdown",
   "metadata": {},
   "source": [
    "### 有电梯和无电梯的房子数量"
   ]
  },
  {
   "cell_type": "code",
   "execution_count": 197,
   "metadata": {},
   "outputs": [],
   "source": [
    "lj_data['floor_num'] = lj_data.floor.apply(lambda x: get_subway_info(pattern=r'共(.*?)层', string=x, n=1))"
   ]
  },
  {
   "cell_type": "code",
   "execution_count": 198,
   "metadata": {
    "collapsed": true
   },
   "outputs": [],
   "source": [
    "def convert_num(x):\n",
    "    try:\n",
    "        return int(x)\n",
    "    except:\n",
    "        return np.NaN"
   ]
  },
  {
   "cell_type": "code",
   "execution_count": 199,
   "metadata": {
    "collapsed": true
   },
   "outputs": [],
   "source": [
    "lj_data['floor_num'] = lj_data.floor_num.apply(convert_num)"
   ]
  },
  {
   "cell_type": "code",
   "execution_count": 201,
   "metadata": {},
   "outputs": [],
   "source": [
    "lj_data['elevator'] = lj_data['floor_num'].apply(lambda x: 1 if x>6 else 0)"
   ]
  },
  {
   "cell_type": "code",
   "execution_count": 203,
   "metadata": {},
   "outputs": [
    {
     "data": {
      "text/plain": [
       "1    1868\n",
       "0     892\n",
       "Name: elevator, dtype: int64"
      ]
     },
     "execution_count": 203,
     "metadata": {},
     "output_type": "execute_result"
    }
   ],
   "source": [
    "lj_data.elevator.value_counts()"
   ]
  },
  {
   "cell_type": "markdown",
   "metadata": {},
   "source": [
    "### 有电梯和无电梯房子情况(面积/价格/朝向/带看人数)分布"
   ]
  },
  {
   "cell_type": "code",
   "execution_count": 204,
   "metadata": {},
   "outputs": [
    {
     "data": {
      "text/html": [
       "<div>\n",
       "<style>\n",
       "    .dataframe thead tr:only-child th {\n",
       "        text-align: right;\n",
       "    }\n",
       "\n",
       "    .dataframe thead th {\n",
       "        text-align: left;\n",
       "    }\n",
       "\n",
       "    .dataframe tbody tr th {\n",
       "        vertical-align: top;\n",
       "    }\n",
       "</style>\n",
       "<table border=\"1\" class=\"dataframe\">\n",
       "  <thead>\n",
       "    <tr>\n",
       "      <th></th>\n",
       "      <th colspan=\"8\" halign=\"left\">area_num</th>\n",
       "      <th colspan=\"8\" halign=\"left\">build_year</th>\n",
       "      <th colspan=\"8\" halign=\"left\">distance</th>\n",
       "      <th colspan=\"8\" halign=\"left\">floor_num</th>\n",
       "      <th colspan=\"8\" halign=\"left\">is_cw</th>\n",
       "      <th colspan=\"8\" halign=\"left\">price</th>\n",
       "      <th colspan=\"8\" halign=\"left\">price_num</th>\n",
       "      <th colspan=\"8\" halign=\"left\">view_num</th>\n",
       "    </tr>\n",
       "    <tr>\n",
       "      <th></th>\n",
       "      <th>count</th>\n",
       "      <th>mean</th>\n",
       "      <th>std</th>\n",
       "      <th>min</th>\n",
       "      <th>25%</th>\n",
       "      <th>50%</th>\n",
       "      <th>75%</th>\n",
       "      <th>max</th>\n",
       "      <th>count</th>\n",
       "      <th>mean</th>\n",
       "      <th>std</th>\n",
       "      <th>min</th>\n",
       "      <th>25%</th>\n",
       "      <th>50%</th>\n",
       "      <th>75%</th>\n",
       "      <th>max</th>\n",
       "      <th>count</th>\n",
       "      <th>mean</th>\n",
       "      <th>std</th>\n",
       "      <th>min</th>\n",
       "      <th>25%</th>\n",
       "      <th>50%</th>\n",
       "      <th>75%</th>\n",
       "      <th>max</th>\n",
       "      <th>count</th>\n",
       "      <th>mean</th>\n",
       "      <th>std</th>\n",
       "      <th>min</th>\n",
       "      <th>25%</th>\n",
       "      <th>50%</th>\n",
       "      <th>75%</th>\n",
       "      <th>max</th>\n",
       "      <th>count</th>\n",
       "      <th>mean</th>\n",
       "      <th>std</th>\n",
       "      <th>min</th>\n",
       "      <th>25%</th>\n",
       "      <th>50%</th>\n",
       "      <th>75%</th>\n",
       "      <th>max</th>\n",
       "      <th>count</th>\n",
       "      <th>mean</th>\n",
       "      <th>std</th>\n",
       "      <th>min</th>\n",
       "      <th>25%</th>\n",
       "      <th>50%</th>\n",
       "      <th>75%</th>\n",
       "      <th>max</th>\n",
       "      <th>count</th>\n",
       "      <th>mean</th>\n",
       "      <th>std</th>\n",
       "      <th>min</th>\n",
       "      <th>25%</th>\n",
       "      <th>50%</th>\n",
       "      <th>75%</th>\n",
       "      <th>max</th>\n",
       "      <th>count</th>\n",
       "      <th>mean</th>\n",
       "      <th>std</th>\n",
       "      <th>min</th>\n",
       "      <th>25%</th>\n",
       "      <th>50%</th>\n",
       "      <th>75%</th>\n",
       "      <th>max</th>\n",
       "    </tr>\n",
       "    <tr>\n",
       "      <th>elevator</th>\n",
       "      <th></th>\n",
       "      <th></th>\n",
       "      <th></th>\n",
       "      <th></th>\n",
       "      <th></th>\n",
       "      <th></th>\n",
       "      <th></th>\n",
       "      <th></th>\n",
       "      <th></th>\n",
       "      <th></th>\n",
       "      <th></th>\n",
       "      <th></th>\n",
       "      <th></th>\n",
       "      <th></th>\n",
       "      <th></th>\n",
       "      <th></th>\n",
       "      <th></th>\n",
       "      <th></th>\n",
       "      <th></th>\n",
       "      <th></th>\n",
       "      <th></th>\n",
       "      <th></th>\n",
       "      <th></th>\n",
       "      <th></th>\n",
       "      <th></th>\n",
       "      <th></th>\n",
       "      <th></th>\n",
       "      <th></th>\n",
       "      <th></th>\n",
       "      <th></th>\n",
       "      <th></th>\n",
       "      <th></th>\n",
       "      <th></th>\n",
       "      <th></th>\n",
       "      <th></th>\n",
       "      <th></th>\n",
       "      <th></th>\n",
       "      <th></th>\n",
       "      <th></th>\n",
       "      <th></th>\n",
       "      <th></th>\n",
       "      <th></th>\n",
       "      <th></th>\n",
       "      <th></th>\n",
       "      <th></th>\n",
       "      <th></th>\n",
       "      <th></th>\n",
       "      <th></th>\n",
       "      <th></th>\n",
       "      <th></th>\n",
       "      <th></th>\n",
       "      <th></th>\n",
       "      <th></th>\n",
       "      <th></th>\n",
       "      <th></th>\n",
       "      <th></th>\n",
       "      <th></th>\n",
       "      <th></th>\n",
       "      <th></th>\n",
       "      <th></th>\n",
       "      <th></th>\n",
       "      <th></th>\n",
       "      <th></th>\n",
       "      <th></th>\n",
       "    </tr>\n",
       "  </thead>\n",
       "  <tbody>\n",
       "    <tr>\n",
       "      <th>0</th>\n",
       "      <td>892.0</td>\n",
       "      <td>76.914798</td>\n",
       "      <td>43.287252</td>\n",
       "      <td>30.0</td>\n",
       "      <td>54.0</td>\n",
       "      <td>63.0</td>\n",
       "      <td>88.0</td>\n",
       "      <td>720.0</td>\n",
       "      <td>888.0</td>\n",
       "      <td>24.263514</td>\n",
       "      <td>9.305557</td>\n",
       "      <td>4.0</td>\n",
       "      <td>18.0</td>\n",
       "      <td>23.0</td>\n",
       "      <td>30.0</td>\n",
       "      <td>62.0</td>\n",
       "      <td>468.0</td>\n",
       "      <td>756.369658</td>\n",
       "      <td>237.36326</td>\n",
       "      <td>115.0</td>\n",
       "      <td>572.75</td>\n",
       "      <td>782.0</td>\n",
       "      <td>934.50</td>\n",
       "      <td>1197.0</td>\n",
       "      <td>892.0</td>\n",
       "      <td>5.735426</td>\n",
       "      <td>0.615513</td>\n",
       "      <td>2.0</td>\n",
       "      <td>6.0</td>\n",
       "      <td>6.0</td>\n",
       "      <td>6.0</td>\n",
       "      <td>6.0</td>\n",
       "      <td>892.0</td>\n",
       "      <td>0.862108</td>\n",
       "      <td>0.344980</td>\n",
       "      <td>0.0</td>\n",
       "      <td>1.0</td>\n",
       "      <td>1.0</td>\n",
       "      <td>1.0</td>\n",
       "      <td>1.0</td>\n",
       "      <td>892.0</td>\n",
       "      <td>5928.531390</td>\n",
       "      <td>7617.537387</td>\n",
       "      <td>1300.0</td>\n",
       "      <td>3800.0</td>\n",
       "      <td>5000.0</td>\n",
       "      <td>6500.0</td>\n",
       "      <td>210000.0</td>\n",
       "      <td>892.0</td>\n",
       "      <td>81.754433</td>\n",
       "      <td>36.972805</td>\n",
       "      <td>14.880952</td>\n",
       "      <td>48.863438</td>\n",
       "      <td>81.066176</td>\n",
       "      <td>110.289710</td>\n",
       "      <td>291.666667</td>\n",
       "      <td>892.0</td>\n",
       "      <td>11.618834</td>\n",
       "      <td>11.550621</td>\n",
       "      <td>0.0</td>\n",
       "      <td>3.0</td>\n",
       "      <td>8.0</td>\n",
       "      <td>16.0</td>\n",
       "      <td>75.0</td>\n",
       "    </tr>\n",
       "    <tr>\n",
       "      <th>1</th>\n",
       "      <td>1868.0</td>\n",
       "      <td>92.789079</td>\n",
       "      <td>40.175598</td>\n",
       "      <td>19.0</td>\n",
       "      <td>63.0</td>\n",
       "      <td>88.0</td>\n",
       "      <td>109.0</td>\n",
       "      <td>330.0</td>\n",
       "      <td>1867.0</td>\n",
       "      <td>14.515801</td>\n",
       "      <td>6.595424</td>\n",
       "      <td>2.0</td>\n",
       "      <td>10.0</td>\n",
       "      <td>13.0</td>\n",
       "      <td>18.0</td>\n",
       "      <td>48.0</td>\n",
       "      <td>1206.0</td>\n",
       "      <td>702.485904</td>\n",
       "      <td>278.35670</td>\n",
       "      <td>1.0</td>\n",
       "      <td>494.25</td>\n",
       "      <td>731.0</td>\n",
       "      <td>909.75</td>\n",
       "      <td>1198.0</td>\n",
       "      <td>1868.0</td>\n",
       "      <td>18.898287</td>\n",
       "      <td>6.496205</td>\n",
       "      <td>7.0</td>\n",
       "      <td>14.0</td>\n",
       "      <td>18.0</td>\n",
       "      <td>24.0</td>\n",
       "      <td>42.0</td>\n",
       "      <td>1868.0</td>\n",
       "      <td>0.811028</td>\n",
       "      <td>0.391591</td>\n",
       "      <td>0.0</td>\n",
       "      <td>1.0</td>\n",
       "      <td>1.0</td>\n",
       "      <td>1.0</td>\n",
       "      <td>1.0</td>\n",
       "      <td>1868.0</td>\n",
       "      <td>8355.010707</td>\n",
       "      <td>5418.345946</td>\n",
       "      <td>1950.0</td>\n",
       "      <td>5000.0</td>\n",
       "      <td>6500.0</td>\n",
       "      <td>9500.0</td>\n",
       "      <td>45000.0</td>\n",
       "      <td>1868.0</td>\n",
       "      <td>90.572620</td>\n",
       "      <td>34.930558</td>\n",
       "      <td>21.674877</td>\n",
       "      <td>65.000000</td>\n",
       "      <td>88.127203</td>\n",
       "      <td>108.695652</td>\n",
       "      <td>276.315789</td>\n",
       "      <td>1868.0</td>\n",
       "      <td>14.322805</td>\n",
       "      <td>13.192862</td>\n",
       "      <td>0.0</td>\n",
       "      <td>5.0</td>\n",
       "      <td>11.0</td>\n",
       "      <td>20.0</td>\n",
       "      <td>122.0</td>\n",
       "    </tr>\n",
       "  </tbody>\n",
       "</table>\n",
       "</div>"
      ],
      "text/plain": [
       "         area_num                                                        \\\n",
       "            count       mean        std   min   25%   50%    75%    max   \n",
       "elevator                                                                  \n",
       "0           892.0  76.914798  43.287252  30.0  54.0  63.0   88.0  720.0   \n",
       "1          1868.0  92.789079  40.175598  19.0  63.0  88.0  109.0  330.0   \n",
       "\n",
       "         build_year                                                    \\\n",
       "              count       mean       std  min   25%   50%   75%   max   \n",
       "elevator                                                                \n",
       "0             888.0  24.263514  9.305557  4.0  18.0  23.0  30.0  62.0   \n",
       "1            1867.0  14.515801  6.595424  2.0  10.0  13.0  18.0  48.0   \n",
       "\n",
       "         distance                                                       \\\n",
       "            count        mean        std    min     25%    50%     75%   \n",
       "elevator                                                                 \n",
       "0           468.0  756.369658  237.36326  115.0  572.75  782.0  934.50   \n",
       "1          1206.0  702.485904  278.35670    1.0  494.25  731.0  909.75   \n",
       "\n",
       "                 floor_num                                                    \\\n",
       "             max     count       mean       std  min   25%   50%   75%   max   \n",
       "elevator                                                                       \n",
       "0         1197.0     892.0   5.735426  0.615513  2.0   6.0   6.0   6.0   6.0   \n",
       "1         1198.0    1868.0  18.898287  6.496205  7.0  14.0  18.0  24.0  42.0   \n",
       "\n",
       "           is_cw                                                price  \\\n",
       "           count      mean       std  min  25%  50%  75%  max   count   \n",
       "elevator                                                                \n",
       "0          892.0  0.862108  0.344980  0.0  1.0  1.0  1.0  1.0   892.0   \n",
       "1         1868.0  0.811028  0.391591  0.0  1.0  1.0  1.0  1.0  1868.0   \n",
       "\n",
       "                                                                              \\\n",
       "                 mean          std     min     25%     50%     75%       max   \n",
       "elevator                                                                       \n",
       "0         5928.531390  7617.537387  1300.0  3800.0  5000.0  6500.0  210000.0   \n",
       "1         8355.010707  5418.345946  1950.0  5000.0  6500.0  9500.0   45000.0   \n",
       "\n",
       "         price_num                                                         \\\n",
       "             count       mean        std        min        25%        50%   \n",
       "elevator                                                                    \n",
       "0            892.0  81.754433  36.972805  14.880952  48.863438  81.066176   \n",
       "1           1868.0  90.572620  34.930558  21.674877  65.000000  88.127203   \n",
       "\n",
       "                                 view_num                                  \\\n",
       "                 75%         max    count       mean        std  min  25%   \n",
       "elevator                                                                    \n",
       "0         110.289710  291.666667    892.0  11.618834  11.550621  0.0  3.0   \n",
       "1         108.695652  276.315789   1868.0  14.322805  13.192862  0.0  5.0   \n",
       "\n",
       "                             \n",
       "           50%   75%    max  \n",
       "elevator                     \n",
       "0          8.0  16.0   75.0  \n",
       "1         11.0  20.0  122.0  "
      ]
     },
     "execution_count": 204,
     "metadata": {},
     "output_type": "execute_result"
    }
   ],
   "source": [
    "lj_data.groupby('elevator').describe()"
   ]
  },
  {
   "cell_type": "markdown",
   "metadata": {},
   "source": [
    "### 附加信息里主要有哪几类信息，覆盖多少百分比的房子"
   ]
  },
  {
   "cell_type": "code",
   "execution_count": 208,
   "metadata": {},
   "outputs": [],
   "source": [
    "lj_data['all_info'] = lj_data.extra_info.apply(lambda x: x.split())"
   ]
  },
  {
   "cell_type": "code",
   "execution_count": 211,
   "metadata": {},
   "outputs": [],
   "source": [
    "def get_subway_info(x):\n",
    "    for i in x:\n",
    "        if '距离' in i:\n",
    "            return i\n",
    "        \n",
    "    return ''"
   ]
  },
  {
   "cell_type": "code",
   "execution_count": 217,
   "metadata": {
    "collapsed": true
   },
   "outputs": [],
   "source": [
    "lj_data['subway_info'] = lj_data.all_info.apply(get_subway_info)"
   ]
  },
  {
   "cell_type": "code",
   "execution_count": 214,
   "metadata": {
    "collapsed": true
   },
   "outputs": [],
   "source": [
    "def get_conv_info(x):\n",
    "    for i in x:\n",
    "        if '看房' in i:\n",
    "            return i\n",
    "        \n",
    "    return ''"
   ]
  },
  {
   "cell_type": "code",
   "execution_count": 218,
   "metadata": {
    "collapsed": true
   },
   "outputs": [],
   "source": [
    "lj_data['look_info'] = lj_data.all_info.apply(get_conv_info)"
   ]
  },
  {
   "cell_type": "code",
   "execution_count": 216,
   "metadata": {
    "collapsed": true
   },
   "outputs": [],
   "source": [
    "def get_warm_info(x):\n",
    "    for i in x:\n",
    "        if '供暖' in i:\n",
    "            return i\n",
    "    return ''"
   ]
  },
  {
   "cell_type": "code",
   "execution_count": 219,
   "metadata": {
    "collapsed": true
   },
   "outputs": [],
   "source": [
    "lj_data['warm_info'] = lj_data.all_info.apply(get_warm_info)"
   ]
  },
  {
   "cell_type": "code",
   "execution_count": 245,
   "metadata": {
    "collapsed": true
   },
   "outputs": [],
   "source": [
    "def get_decorate_info(x):\n",
    "    for i in x:\n",
    "        if '装修' in i:\n",
    "            return i\n",
    "    return ''"
   ]
  },
  {
   "cell_type": "code",
   "execution_count": 246,
   "metadata": {
    "collapsed": true
   },
   "outputs": [],
   "source": [
    "lj_data['decorate_info'] = lj_data.all_info.apply(get_decorate_info)"
   ]
  },
  {
   "cell_type": "code",
   "execution_count": 247,
   "metadata": {},
   "outputs": [],
   "source": [
    "lj_data['is_subway_info'] = lj_data['subway_info'].apply(lambda x: 0 if x == '' else 1)\n",
    "lj_data['is_look_info'] = lj_data['look_info'].apply(lambda x: 0 if x == '' else 1)\n",
    "lj_data['is_warm_info'] = lj_data['warm_info'].apply(lambda x: 0 if x == '' else 1)\n",
    "lj_data['is_decorate'] = lj_data['decorate_info'].apply(lambda x: 0 if x == '' else 1)"
   ]
  },
  {
   "cell_type": "code",
   "execution_count": 248,
   "metadata": {},
   "outputs": [
    {
     "data": {
      "text/plain": [
       "0.6065217391304348"
      ]
     },
     "execution_count": 248,
     "metadata": {},
     "output_type": "execute_result"
    }
   ],
   "source": [
    "lj_data.is_subway_info.mean()"
   ]
  },
  {
   "cell_type": "code",
   "execution_count": 250,
   "metadata": {},
   "outputs": [
    {
     "data": {
      "text/plain": [
       "0.9985507246376811"
      ]
     },
     "execution_count": 250,
     "metadata": {},
     "output_type": "execute_result"
    }
   ],
   "source": [
    "lj_data.is_look_info.mean()"
   ]
  },
  {
   "cell_type": "code",
   "execution_count": 251,
   "metadata": {},
   "outputs": [
    {
     "data": {
      "text/plain": [
       "0.9786231884057971"
      ]
     },
     "execution_count": 251,
     "metadata": {},
     "output_type": "execute_result"
    }
   ],
   "source": [
    "lj_data.is_warm_info.mean()"
   ]
  },
  {
   "cell_type": "code",
   "execution_count": 252,
   "metadata": {},
   "outputs": [
    {
     "data": {
      "text/plain": [
       "0.5880434782608696"
      ]
     },
     "execution_count": 252,
     "metadata": {},
     "output_type": "execute_result"
    }
   ],
   "source": [
    "lj_data.is_decorate.mean()"
   ]
  }
 ],
 "metadata": {
  "kernelspec": {
   "display_name": "Python 3",
   "language": "python",
   "name": "python3"
  },
  "language_info": {
   "codemirror_mode": {
    "name": "ipython",
    "version": 3
   },
   "file_extension": ".py",
   "mimetype": "text/x-python",
   "name": "python",
   "nbconvert_exporter": "python",
   "pygments_lexer": "ipython3",
   "version": "3.6.1"
  }
 },
 "nbformat": 4,
 "nbformat_minor": 1
}
