{
 "cells": [
  {
   "cell_type": "code",
   "execution_count": 1,
   "metadata": {},
   "outputs": [],
   "source": [
    "%matplotlib inline\n",
    "import pandas as pd\n",
    "import pylab, math\n",
    "from sklearn.linear_model import LogisticRegression\n",
    "from sklearn import metrics\n",
    "import matplotlib.font_manager as fm\n",
    "zhfont = fm.FontProperties(fname='msyh.ttf')\n",
    "import re\n",
    "import collections\n",
    "import matplotlib.pyplot as plt\n",
    "import seaborn as sns\n",
    "import warnings\n",
    "warnings.filterwarnings('ignore')"
   ]
  },
  {
   "cell_type": "markdown",
   "metadata": {},
   "source": [
    "# 选项\n",
    "这是一个python的notebook，也可以根据自己的喜好选择R的。File->New Notebook中有选项"
   ]
  },
  {
   "cell_type": "code",
   "execution_count": 2,
   "metadata": {},
   "outputs": [],
   "source": [
    "delay = pd.read_csv('video_process_delay.csv')\n",
    "retain = pd.read_csv('user_retention.csv')"
   ]
  },
  {
   "cell_type": "markdown",
   "metadata": {},
   "source": [
    "# A 基础分析\n",
    "* 查看数据的前8行\n",
    "* 查看数据的相关信息（列名、维度、缺失、统计信息）\n",
    "* 平均每个用户看多少个video\n",
    "* 每个用户看video个数的分布(画图)\n",
    "* 用户看视频的个数和留存的关系（统计和画图）"
   ]
  },
  {
   "cell_type": "code",
   "execution_count": 3,
   "metadata": {},
   "outputs": [
    {
     "data": {
      "text/html": [
       "<div>\n",
       "<style scoped>\n",
       "    .dataframe tbody tr th:only-of-type {\n",
       "        vertical-align: middle;\n",
       "    }\n",
       "\n",
       "    .dataframe tbody tr th {\n",
       "        vertical-align: top;\n",
       "    }\n",
       "\n",
       "    .dataframe thead th {\n",
       "        text-align: right;\n",
       "    }\n",
       "</style>\n",
       "<table border=\"1\" class=\"dataframe\">\n",
       "  <thead>\n",
       "    <tr style=\"text-align: right;\">\n",
       "      <th></th>\n",
       "      <th>user</th>\n",
       "      <th>video</th>\n",
       "      <th>delay</th>\n",
       "    </tr>\n",
       "  </thead>\n",
       "  <tbody>\n",
       "    <tr>\n",
       "      <th>0</th>\n",
       "      <td>3</td>\n",
       "      <td>0</td>\n",
       "      <td>2275</td>\n",
       "    </tr>\n",
       "    <tr>\n",
       "      <th>1</th>\n",
       "      <td>3</td>\n",
       "      <td>1</td>\n",
       "      <td>839</td>\n",
       "    </tr>\n",
       "    <tr>\n",
       "      <th>2</th>\n",
       "      <td>5</td>\n",
       "      <td>2</td>\n",
       "      <td>119</td>\n",
       "    </tr>\n",
       "    <tr>\n",
       "      <th>3</th>\n",
       "      <td>6</td>\n",
       "      <td>3</td>\n",
       "      <td>70</td>\n",
       "    </tr>\n",
       "    <tr>\n",
       "      <th>4</th>\n",
       "      <td>9</td>\n",
       "      <td>4</td>\n",
       "      <td>66</td>\n",
       "    </tr>\n",
       "    <tr>\n",
       "      <th>5</th>\n",
       "      <td>10</td>\n",
       "      <td>5</td>\n",
       "      <td>198</td>\n",
       "    </tr>\n",
       "    <tr>\n",
       "      <th>6</th>\n",
       "      <td>11</td>\n",
       "      <td>6</td>\n",
       "      <td>348</td>\n",
       "    </tr>\n",
       "    <tr>\n",
       "      <th>7</th>\n",
       "      <td>12</td>\n",
       "      <td>7</td>\n",
       "      <td>93</td>\n",
       "    </tr>\n",
       "  </tbody>\n",
       "</table>\n",
       "</div>"
      ],
      "text/plain": [
       "   user  video  delay\n",
       "0     3      0   2275\n",
       "1     3      1    839\n",
       "2     5      2    119\n",
       "3     6      3     70\n",
       "4     9      4     66\n",
       "5    10      5    198\n",
       "6    11      6    348\n",
       "7    12      7     93"
      ]
     },
     "execution_count": 3,
     "metadata": {},
     "output_type": "execute_result"
    }
   ],
   "source": [
    "# 查看数据的前8行\n",
    "delay.head(8)"
   ]
  },
  {
   "cell_type": "code",
   "execution_count": 4,
   "metadata": {},
   "outputs": [
    {
     "data": {
      "text/html": [
       "<div>\n",
       "<style scoped>\n",
       "    .dataframe tbody tr th:only-of-type {\n",
       "        vertical-align: middle;\n",
       "    }\n",
       "\n",
       "    .dataframe tbody tr th {\n",
       "        vertical-align: top;\n",
       "    }\n",
       "\n",
       "    .dataframe thead th {\n",
       "        text-align: right;\n",
       "    }\n",
       "</style>\n",
       "<table border=\"1\" class=\"dataframe\">\n",
       "  <thead>\n",
       "    <tr style=\"text-align: right;\">\n",
       "      <th></th>\n",
       "      <th>user</th>\n",
       "      <th>retain</th>\n",
       "    </tr>\n",
       "  </thead>\n",
       "  <tbody>\n",
       "    <tr>\n",
       "      <th>0</th>\n",
       "      <td>0</td>\n",
       "      <td>1</td>\n",
       "    </tr>\n",
       "    <tr>\n",
       "      <th>1</th>\n",
       "      <td>1</td>\n",
       "      <td>1</td>\n",
       "    </tr>\n",
       "    <tr>\n",
       "      <th>2</th>\n",
       "      <td>2</td>\n",
       "      <td>0</td>\n",
       "    </tr>\n",
       "    <tr>\n",
       "      <th>3</th>\n",
       "      <td>3</td>\n",
       "      <td>1</td>\n",
       "    </tr>\n",
       "    <tr>\n",
       "      <th>4</th>\n",
       "      <td>4</td>\n",
       "      <td>1</td>\n",
       "    </tr>\n",
       "    <tr>\n",
       "      <th>5</th>\n",
       "      <td>5</td>\n",
       "      <td>0</td>\n",
       "    </tr>\n",
       "    <tr>\n",
       "      <th>6</th>\n",
       "      <td>6</td>\n",
       "      <td>0</td>\n",
       "    </tr>\n",
       "    <tr>\n",
       "      <th>7</th>\n",
       "      <td>7</td>\n",
       "      <td>1</td>\n",
       "    </tr>\n",
       "  </tbody>\n",
       "</table>\n",
       "</div>"
      ],
      "text/plain": [
       "   user  retain\n",
       "0     0       1\n",
       "1     1       1\n",
       "2     2       0\n",
       "3     3       1\n",
       "4     4       1\n",
       "5     5       0\n",
       "6     6       0\n",
       "7     7       1"
      ]
     },
     "execution_count": 4,
     "metadata": {},
     "output_type": "execute_result"
    }
   ],
   "source": [
    "retain.head(8)"
   ]
  },
  {
   "cell_type": "code",
   "execution_count": 5,
   "metadata": {},
   "outputs": [
    {
     "name": "stdout",
     "output_type": "stream",
     "text": [
      "delay columns: Index(['user', 'video', 'delay'], dtype='object')\n",
      "retain columns: Index(['user', 'retain'], dtype='object')\n",
      "delay shape (282801, 3)\n",
      "retain shape (168936, 2)\n"
     ]
    }
   ],
   "source": [
    "# 查看数据的相关信息（列名、维度、缺失、统计信息）\n",
    "print(\"delay columns:\", delay.columns)\n",
    "print(\"retain columns:\", retain.columns)\n",
    "print(\"delay shape\", delay.shape)\n",
    "print(\"retain shape\", retain.shape)"
   ]
  },
  {
   "cell_type": "code",
   "execution_count": 6,
   "metadata": {},
   "outputs": [
    {
     "name": "stdout",
     "output_type": "stream",
     "text": [
      "<class 'pandas.core.frame.DataFrame'>\n",
      "RangeIndex: 282801 entries, 0 to 282800\n",
      "Data columns (total 3 columns):\n",
      "user     282801 non-null int64\n",
      "video    282801 non-null int64\n",
      "delay    282801 non-null int64\n",
      "dtypes: int64(3)\n",
      "memory usage: 6.5 MB\n"
     ]
    }
   ],
   "source": [
    "delay.info()"
   ]
  },
  {
   "cell_type": "code",
   "execution_count": 7,
   "metadata": {},
   "outputs": [
    {
     "data": {
      "text/html": [
       "<div>\n",
       "<style scoped>\n",
       "    .dataframe tbody tr th:only-of-type {\n",
       "        vertical-align: middle;\n",
       "    }\n",
       "\n",
       "    .dataframe tbody tr th {\n",
       "        vertical-align: top;\n",
       "    }\n",
       "\n",
       "    .dataframe thead th {\n",
       "        text-align: right;\n",
       "    }\n",
       "</style>\n",
       "<table border=\"1\" class=\"dataframe\">\n",
       "  <thead>\n",
       "    <tr style=\"text-align: right;\">\n",
       "      <th></th>\n",
       "      <th>user</th>\n",
       "      <th>video</th>\n",
       "      <th>delay</th>\n",
       "    </tr>\n",
       "  </thead>\n",
       "  <tbody>\n",
       "    <tr>\n",
       "      <th>count</th>\n",
       "      <td>282801.000000</td>\n",
       "      <td>282801.000000</td>\n",
       "      <td>282801.000000</td>\n",
       "    </tr>\n",
       "    <tr>\n",
       "      <th>mean</th>\n",
       "      <td>88253.622151</td>\n",
       "      <td>141400.000000</td>\n",
       "      <td>505.997468</td>\n",
       "    </tr>\n",
       "    <tr>\n",
       "      <th>std</th>\n",
       "      <td>49080.766603</td>\n",
       "      <td>81637.761076</td>\n",
       "      <td>4272.765087</td>\n",
       "    </tr>\n",
       "    <tr>\n",
       "      <th>min</th>\n",
       "      <td>0.000000</td>\n",
       "      <td>0.000000</td>\n",
       "      <td>3.000000</td>\n",
       "    </tr>\n",
       "    <tr>\n",
       "      <th>25%</th>\n",
       "      <td>46107.000000</td>\n",
       "      <td>70700.000000</td>\n",
       "      <td>79.000000</td>\n",
       "    </tr>\n",
       "    <tr>\n",
       "      <th>50%</th>\n",
       "      <td>89574.000000</td>\n",
       "      <td>141400.000000</td>\n",
       "      <td>236.000000</td>\n",
       "    </tr>\n",
       "    <tr>\n",
       "      <th>75%</th>\n",
       "      <td>131667.000000</td>\n",
       "      <td>212100.000000</td>\n",
       "      <td>629.000000</td>\n",
       "    </tr>\n",
       "    <tr>\n",
       "      <th>max</th>\n",
       "      <td>168935.000000</td>\n",
       "      <td>282800.000000</td>\n",
       "      <td>857526.000000</td>\n",
       "    </tr>\n",
       "  </tbody>\n",
       "</table>\n",
       "</div>"
      ],
      "text/plain": [
       "                user          video          delay\n",
       "count  282801.000000  282801.000000  282801.000000\n",
       "mean    88253.622151  141400.000000     505.997468\n",
       "std     49080.766603   81637.761076    4272.765087\n",
       "min         0.000000       0.000000       3.000000\n",
       "25%     46107.000000   70700.000000      79.000000\n",
       "50%     89574.000000  141400.000000     236.000000\n",
       "75%    131667.000000  212100.000000     629.000000\n",
       "max    168935.000000  282800.000000  857526.000000"
      ]
     },
     "execution_count": 7,
     "metadata": {},
     "output_type": "execute_result"
    }
   ],
   "source": [
    "delay.describe()"
   ]
  },
  {
   "cell_type": "code",
   "execution_count": 8,
   "metadata": {},
   "outputs": [
    {
     "name": "stdout",
     "output_type": "stream",
     "text": [
      "<class 'pandas.core.frame.DataFrame'>\n",
      "RangeIndex: 168936 entries, 0 to 168935\n",
      "Data columns (total 2 columns):\n",
      "user      168936 non-null int64\n",
      "retain    168936 non-null int64\n",
      "dtypes: int64(2)\n",
      "memory usage: 2.6 MB\n"
     ]
    }
   ],
   "source": [
    "retain.info()"
   ]
  },
  {
   "cell_type": "code",
   "execution_count": 9,
   "metadata": {},
   "outputs": [
    {
     "data": {
      "text/html": [
       "<div>\n",
       "<style scoped>\n",
       "    .dataframe tbody tr th:only-of-type {\n",
       "        vertical-align: middle;\n",
       "    }\n",
       "\n",
       "    .dataframe tbody tr th {\n",
       "        vertical-align: top;\n",
       "    }\n",
       "\n",
       "    .dataframe thead th {\n",
       "        text-align: right;\n",
       "    }\n",
       "</style>\n",
       "<table border=\"1\" class=\"dataframe\">\n",
       "  <thead>\n",
       "    <tr style=\"text-align: right;\">\n",
       "      <th></th>\n",
       "      <th>user</th>\n",
       "      <th>retain</th>\n",
       "    </tr>\n",
       "  </thead>\n",
       "  <tbody>\n",
       "    <tr>\n",
       "      <th>count</th>\n",
       "      <td>168936.000000</td>\n",
       "      <td>168936.000000</td>\n",
       "    </tr>\n",
       "    <tr>\n",
       "      <th>mean</th>\n",
       "      <td>84467.500000</td>\n",
       "      <td>0.386910</td>\n",
       "    </tr>\n",
       "    <tr>\n",
       "      <th>std</th>\n",
       "      <td>48767.766875</td>\n",
       "      <td>0.487044</td>\n",
       "    </tr>\n",
       "    <tr>\n",
       "      <th>min</th>\n",
       "      <td>0.000000</td>\n",
       "      <td>0.000000</td>\n",
       "    </tr>\n",
       "    <tr>\n",
       "      <th>25%</th>\n",
       "      <td>42233.750000</td>\n",
       "      <td>0.000000</td>\n",
       "    </tr>\n",
       "    <tr>\n",
       "      <th>50%</th>\n",
       "      <td>84467.500000</td>\n",
       "      <td>0.000000</td>\n",
       "    </tr>\n",
       "    <tr>\n",
       "      <th>75%</th>\n",
       "      <td>126701.250000</td>\n",
       "      <td>1.000000</td>\n",
       "    </tr>\n",
       "    <tr>\n",
       "      <th>max</th>\n",
       "      <td>168935.000000</td>\n",
       "      <td>1.000000</td>\n",
       "    </tr>\n",
       "  </tbody>\n",
       "</table>\n",
       "</div>"
      ],
      "text/plain": [
       "                user         retain\n",
       "count  168936.000000  168936.000000\n",
       "mean    84467.500000       0.386910\n",
       "std     48767.766875       0.487044\n",
       "min         0.000000       0.000000\n",
       "25%     42233.750000       0.000000\n",
       "50%     84467.500000       0.000000\n",
       "75%    126701.250000       1.000000\n",
       "max    168935.000000       1.000000"
      ]
     },
     "execution_count": 9,
     "metadata": {},
     "output_type": "execute_result"
    }
   ],
   "source": [
    "retain.describe()"
   ]
  },
  {
   "cell_type": "code",
   "execution_count": 10,
   "metadata": {},
   "outputs": [
    {
     "data": {
      "text/plain": [
       "1.6740126438414547"
      ]
     },
     "execution_count": 10,
     "metadata": {},
     "output_type": "execute_result"
    }
   ],
   "source": [
    "# 平均每个用户看多少个video\n",
    "delay['video'].size/len(delay['user'].unique())\n",
    "#delay.groupby('user').count()['video'].mean()"
   ]
  },
  {
   "cell_type": "code",
   "execution_count": 11,
   "metadata": {},
   "outputs": [
    {
     "data": {
      "text/plain": [
       "<matplotlib.axes._subplots.AxesSubplot at 0x1cc65832da0>"
      ]
     },
     "execution_count": 11,
     "metadata": {},
     "output_type": "execute_result"
    },
    {
     "data": {
      "image/png": "[encoded data removed]",
      "text/plain": [
       "<Figure size 432x288 with 1 Axes>"
      ]
     },
     "metadata": {
      "needs_background": "light"
     },
     "output_type": "display_data"
    }
   ],
   "source": [
    "# 每个用户看video个数的分布(画图)\n",
    "import numpy as np\n",
    "#video_num = delay.groupby('user')['video'].agg(np.size)\n",
    "video_num = delay.groupby('user').count()['video']\n",
    "sns.distplot(video_num)"
   ]
  },
  {
   "cell_type": "code",
   "execution_count": 12,
   "metadata": {},
   "outputs": [
    {
     "data": {
      "text/plain": [
       "8.0"
      ]
     },
     "execution_count": 12,
     "metadata": {},
     "output_type": "execute_result"
    }
   ],
   "source": [
    "# 有异常值，我们取99%分位数看一下\n",
    "video_num.quantile(0.99)"
   ]
  },
  {
   "cell_type": "code",
   "execution_count": 13,
   "metadata": {},
   "outputs": [
    {
     "data": {
      "text/plain": [
       "<matplotlib.axes._subplots.AxesSubplot at 0x1cc6595a6a0>"
      ]
     },
     "execution_count": 13,
     "metadata": {},
     "output_type": "execute_result"
    },
    {
     "data": {
      "image/png": "[encoded data removed]",
      "text/plain": [
       "<Figure size 432x288 with 1 Axes>"
      ]
     },
     "metadata": {
      "needs_background": "light"
     },
     "output_type": "display_data"
    }
   ],
   "source": [
    "sns.boxplot(y=video_num[video_num<video_num.quantile(0.99)],width=0.3)"
   ]
  },
  {
   "cell_type": "code",
   "execution_count": 14,
   "metadata": {},
   "outputs": [
    {
     "data": {
      "text/plain": [
       "<matplotlib.axes._subplots.AxesSubplot at 0x1cc659deda0>"
      ]
     },
     "execution_count": 14,
     "metadata": {},
     "output_type": "execute_result"
    },
    {
     "data": {
      "image/png": "[encoded data removed]",
      "text/plain": [
       "<Figure size 432x288 with 1 Axes>"
      ]
     },
     "metadata": {
      "needs_background": "light"
     },
     "output_type": "display_data"
    }
   ],
   "source": [
    "# 每个用户的平均延迟分布（画图）\n",
    "delay_dis = delay.groupby('user')['delay'].agg(np.mean)\n",
    "sns.distplot(delay_dis)"
   ]
  },
  {
   "cell_type": "code",
   "execution_count": 15,
   "metadata": {},
   "outputs": [
    {
     "data": {
      "text/plain": [
       "<matplotlib.axes._subplots.AxesSubplot at 0x1cc65b2f550>"
      ]
     },
     "execution_count": 15,
     "metadata": {},
     "output_type": "execute_result"
    },
    {
     "data": {
      "image/png": "[encoded data removed]",
      "text/plain": [
       "<Figure size 432x288 with 1 Axes>"
      ]
     },
     "metadata": {
      "needs_background": "light"
     },
     "output_type": "display_data"
    }
   ],
   "source": [
    "# 上图因为有异常值，分布被拉偏了，我们以99%分位数截断和重新作图\n",
    "sns.boxplot(y=delay_dis[delay_dis<delay_dis.quantile(0.99)])"
   ]
  },
  {
   "cell_type": "code",
   "execution_count": 16,
   "metadata": {},
   "outputs": [
    {
     "name": "stdout",
     "output_type": "stream",
     "text": [
      "相关性为: 0.17273025014150678\n"
     ]
    }
   ],
   "source": [
    "# 用户看视频的个数和留存的关系（b统计和画图）\n",
    "user_video_num = delay.groupby('user')['video'].agg(np.size).to_frame().reset_index()\n",
    "whole_df = pd.merge(retain, user_video_num, how='inner')\n",
    "print(\"相关性为:\", np.corrcoef(whole_df.video.values, whole_df.retain.values)[0,1])"
   ]
  },
  {
   "cell_type": "code",
   "execution_count": 17,
   "metadata": {},
   "outputs": [
    {
     "name": "stdout",
     "output_type": "stream",
     "text": [
      "相关性为: 0.005313970547874938\n"
     ]
    }
   ],
   "source": [
    "user_delay_mean = delay.groupby('user')['delay'].mean().to_frame().reset_index()\n",
    "whole_df_d = pd.merge(retain, user_delay_mean, how='inner')\n",
    "print(\"相关性为:\", np.corrcoef(whole_df_d.delay.values, whole_df_d.retain.values)[0,1])"
   ]
  },
  {
   "cell_type": "code",
   "execution_count": 18,
   "metadata": {},
   "outputs": [
    {
     "data": {
      "image/png": "[encoded data removed]",
      "text/plain": [
       "<Figure size 432x432 with 2 Axes>"
      ]
     },
     "metadata": {},
     "output_type": "display_data"
    }
   ],
   "source": [
    "corrMatrix=whole_df[['video', 'retain']].corr()\n",
    "sns.set(font_scale=1.10)\n",
    "plt.figure(figsize=(6, 6))\n",
    "sns.heatmap(corrMatrix, vmax=.8, linewidths=0.01,\n",
    "            square=True,annot=True,cmap='viridis',linecolor=\"white\")\n",
    "plt.title('Correlation between video num and retain');"
   ]
  },
  {
   "cell_type": "markdown",
   "metadata": {},
   "source": [
    "# B. 基础分析，回答如下问题\n",
    "* 平均留存率是多少\n",
    "* 系统处理延迟(delay)的分布图。\n",
    "* 对延迟按等频做100分桶，每个桶内有多少用户，同时作图表示一下分布\n",
    "* 延迟的平均值，P50，P90，P95，P99分别是多少，是否可以用图表达\n",
    "* 对延迟按照每100分桶，每个桶的作者留存率是多少？画图\n",
    "\n",
    "(网上搜索“pandas 回归”等关键词可以找到很多教程，例如 http://lib.csdn.net/article/machinelearning/35051)"
   ]
  },
  {
   "cell_type": "code",
   "execution_count": 19,
   "metadata": {},
   "outputs": [
    {
     "data": {
      "text/plain": [
       "0.3869098356774163"
      ]
     },
     "execution_count": 19,
     "metadata": {},
     "output_type": "execute_result"
    }
   ],
   "source": [
    "# 平均留存率\n",
    "retain['retain'].mean()"
   ]
  },
  {
   "cell_type": "code",
   "execution_count": 20,
   "metadata": {},
   "outputs": [
    {
     "data": {
      "text/plain": [
       "<matplotlib.axes._subplots.AxesSubplot at 0x1cc6b82b1d0>"
      ]
     },
     "execution_count": 20,
     "metadata": {},
     "output_type": "execute_result"
    },
    {
     "data": {
      "image/png": "[encoded data removed]",
      "text/plain": [
       "<Figure size 432x288 with 1 Axes>"
      ]
     },
     "metadata": {},
     "output_type": "display_data"
    }
   ],
   "source": [
    "# 系统处理延迟（delay）的分布图\n",
    "\n",
    "#### 数据同样有异常值，我们根据99%分位数做截断，再绘图\n",
    "delay.loc[delay['delay']<delay['delay'].quantile(0.99),'delay'].plot(kind='hist')"
   ]
  },
  {
   "cell_type": "code",
   "execution_count": 21,
   "metadata": {},
   "outputs": [],
   "source": [
    "# 对延迟按等频做100分桶，每个桶内有多少用户，同时作图表示一下分布\n",
    "delay.loc[:,'bucket_qcut'] = pd.qcut(x=delay['delay'], q=100)\n",
    "bucket_user_num = delay.groupby('bucket_qcut')['user'].nunique()"
   ]
  },
  {
   "cell_type": "code",
   "execution_count": 22,
   "metadata": {},
   "outputs": [
    {
     "data": {
      "text/plain": [
       "<matplotlib.axes._subplots.AxesSubplot at 0x1cc6627db00>"
      ]
     },
     "execution_count": 22,
     "metadata": {},
     "output_type": "execute_result"
    },
    {
     "data": {
      "image/png": "[encoded data removed]",
      "text/plain": [
       "<Figure size 432x288 with 1 Axes>"
      ]
     },
     "metadata": {},
     "output_type": "display_data"
    }
   ],
   "source": [
    "sns.distplot(bucket_user_num,kde=False)"
   ]
  },
  {
   "cell_type": "code",
   "execution_count": 23,
   "metadata": {},
   "outputs": [
    {
     "name": "stdout",
     "output_type": "stream",
     "text": [
      "mean 505.99746818434164\n"
     ]
    },
    {
     "data": {
      "text/plain": [
       "0.50     236.0\n",
       "0.90    1205.0\n",
       "0.95    1715.0\n",
       "0.99    2571.0\n",
       "Name: delay, dtype: float64"
      ]
     },
     "execution_count": 23,
     "metadata": {},
     "output_type": "execute_result"
    }
   ],
   "source": [
    "# 延迟的平均值，P50，P90，P95，P99分别是多少，是否可以用图表达\n",
    "print('mean', delay['delay'].mean())\n",
    "delay['delay'].quantile([0.5,0.9,0.95,0.99])"
   ]
  },
  {
   "cell_type": "code",
   "execution_count": 24,
   "metadata": {},
   "outputs": [
    {
     "data": {
      "text/plain": [
       "<matplotlib.axes._subplots.AxesSubplot at 0x1cc6b8a0ba8>"
      ]
     },
     "execution_count": 24,
     "metadata": {},
     "output_type": "execute_result"
    },
    {
     "data": {
      "image/png": "[encoded data removed]",
      "text/plain": [
       "<Figure size 432x288 with 1 Axes>"
      ]
     },
     "metadata": {},
     "output_type": "display_data"
    }
   ],
   "source": [
    "s = delay['delay'].quantile([0.5,0.9,0.95,0.99])\n",
    "s['mean'] = delay['delay'].mean()\n",
    "s.plot(kind='bar')"
   ]
  },
  {
   "cell_type": "code",
   "execution_count": 25,
   "metadata": {
    "scrolled": true
   },
   "outputs": [
    {
     "data": {
      "text/html": [
       "<div>\n",
       "<style scoped>\n",
       "    .dataframe tbody tr th:only-of-type {\n",
       "        vertical-align: middle;\n",
       "    }\n",
       "\n",
       "    .dataframe tbody tr th {\n",
       "        vertical-align: top;\n",
       "    }\n",
       "\n",
       "    .dataframe thead th {\n",
       "        text-align: right;\n",
       "    }\n",
       "</style>\n",
       "<table border=\"1\" class=\"dataframe\">\n",
       "  <thead>\n",
       "    <tr style=\"text-align: right;\">\n",
       "      <th></th>\n",
       "      <th>user</th>\n",
       "      <th>video</th>\n",
       "      <th>delay</th>\n",
       "      <th>bucket_qcut</th>\n",
       "      <th>retain</th>\n",
       "      <th>bucket_cut</th>\n",
       "    </tr>\n",
       "  </thead>\n",
       "  <tbody>\n",
       "    <tr>\n",
       "      <th>0</th>\n",
       "      <td>3</td>\n",
       "      <td>0</td>\n",
       "      <td>2275</td>\n",
       "      <td>(2131.0, 2571.0]</td>\n",
       "      <td>1</td>\n",
       "      <td>22</td>\n",
       "    </tr>\n",
       "    <tr>\n",
       "      <th>1</th>\n",
       "      <td>3</td>\n",
       "      <td>1</td>\n",
       "      <td>839</td>\n",
       "      <td>(819.0, 847.0]</td>\n",
       "      <td>1</td>\n",
       "      <td>8</td>\n",
       "    </tr>\n",
       "    <tr>\n",
       "      <th>2</th>\n",
       "      <td>5</td>\n",
       "      <td>2</td>\n",
       "      <td>119</td>\n",
       "      <td>(114.0, 120.0]</td>\n",
       "      <td>0</td>\n",
       "      <td>1</td>\n",
       "    </tr>\n",
       "    <tr>\n",
       "      <th>3</th>\n",
       "      <td>6</td>\n",
       "      <td>3</td>\n",
       "      <td>70</td>\n",
       "      <td>(69.0, 71.0]</td>\n",
       "      <td>0</td>\n",
       "      <td>0</td>\n",
       "    </tr>\n",
       "    <tr>\n",
       "      <th>4</th>\n",
       "      <td>9</td>\n",
       "      <td>4</td>\n",
       "      <td>66</td>\n",
       "      <td>(65.0, 67.0]</td>\n",
       "      <td>0</td>\n",
       "      <td>0</td>\n",
       "    </tr>\n",
       "    <tr>\n",
       "      <th>5</th>\n",
       "      <td>10</td>\n",
       "      <td>5</td>\n",
       "      <td>198</td>\n",
       "      <td>(193.0, 201.0]</td>\n",
       "      <td>0</td>\n",
       "      <td>1</td>\n",
       "    </tr>\n",
       "    <tr>\n",
       "      <th>6</th>\n",
       "      <td>11</td>\n",
       "      <td>6</td>\n",
       "      <td>348</td>\n",
       "      <td>(344.0, 356.0]</td>\n",
       "      <td>0</td>\n",
       "      <td>3</td>\n",
       "    </tr>\n",
       "    <tr>\n",
       "      <th>7</th>\n",
       "      <td>12</td>\n",
       "      <td>7</td>\n",
       "      <td>93</td>\n",
       "      <td>(91.0, 95.0]</td>\n",
       "      <td>1</td>\n",
       "      <td>0</td>\n",
       "    </tr>\n",
       "    <tr>\n",
       "      <th>8</th>\n",
       "      <td>17</td>\n",
       "      <td>8</td>\n",
       "      <td>55</td>\n",
       "      <td>(54.0, 56.0]</td>\n",
       "      <td>1</td>\n",
       "      <td>0</td>\n",
       "    </tr>\n",
       "    <tr>\n",
       "      <th>9</th>\n",
       "      <td>17</td>\n",
       "      <td>9</td>\n",
       "      <td>41</td>\n",
       "      <td>(39.0, 41.0]</td>\n",
       "      <td>1</td>\n",
       "      <td>0</td>\n",
       "    </tr>\n",
       "    <tr>\n",
       "      <th>10</th>\n",
       "      <td>17</td>\n",
       "      <td>10</td>\n",
       "      <td>59</td>\n",
       "      <td>(57.0, 59.0]</td>\n",
       "      <td>1</td>\n",
       "      <td>0</td>\n",
       "    </tr>\n",
       "    <tr>\n",
       "      <th>11</th>\n",
       "      <td>17</td>\n",
       "      <td>11</td>\n",
       "      <td>49</td>\n",
       "      <td>(47.0, 49.0]</td>\n",
       "      <td>1</td>\n",
       "      <td>0</td>\n",
       "    </tr>\n",
       "    <tr>\n",
       "      <th>12</th>\n",
       "      <td>17</td>\n",
       "      <td>12</td>\n",
       "      <td>110</td>\n",
       "      <td>(109.0, 114.0]</td>\n",
       "      <td>1</td>\n",
       "      <td>1</td>\n",
       "    </tr>\n",
       "    <tr>\n",
       "      <th>13</th>\n",
       "      <td>17</td>\n",
       "      <td>13</td>\n",
       "      <td>57</td>\n",
       "      <td>(56.0, 57.0]</td>\n",
       "      <td>1</td>\n",
       "      <td>0</td>\n",
       "    </tr>\n",
       "    <tr>\n",
       "      <th>14</th>\n",
       "      <td>17</td>\n",
       "      <td>14</td>\n",
       "      <td>81</td>\n",
       "      <td>(79.0, 82.0]</td>\n",
       "      <td>1</td>\n",
       "      <td>0</td>\n",
       "    </tr>\n",
       "    <tr>\n",
       "      <th>15</th>\n",
       "      <td>17</td>\n",
       "      <td>15</td>\n",
       "      <td>49</td>\n",
       "      <td>(47.0, 49.0]</td>\n",
       "      <td>1</td>\n",
       "      <td>0</td>\n",
       "    </tr>\n",
       "    <tr>\n",
       "      <th>16</th>\n",
       "      <td>20</td>\n",
       "      <td>16</td>\n",
       "      <td>43</td>\n",
       "      <td>(41.0, 43.0]</td>\n",
       "      <td>0</td>\n",
       "      <td>0</td>\n",
       "    </tr>\n",
       "    <tr>\n",
       "      <th>17</th>\n",
       "      <td>20</td>\n",
       "      <td>17</td>\n",
       "      <td>188</td>\n",
       "      <td>(186.0, 193.0]</td>\n",
       "      <td>0</td>\n",
       "      <td>1</td>\n",
       "    </tr>\n",
       "    <tr>\n",
       "      <th>18</th>\n",
       "      <td>20</td>\n",
       "      <td>18</td>\n",
       "      <td>48</td>\n",
       "      <td>(47.0, 49.0]</td>\n",
       "      <td>0</td>\n",
       "      <td>0</td>\n",
       "    </tr>\n",
       "    <tr>\n",
       "      <th>19</th>\n",
       "      <td>22</td>\n",
       "      <td>19</td>\n",
       "      <td>116</td>\n",
       "      <td>(114.0, 120.0]</td>\n",
       "      <td>1</td>\n",
       "      <td>1</td>\n",
       "    </tr>\n",
       "    <tr>\n",
       "      <th>20</th>\n",
       "      <td>23</td>\n",
       "      <td>20</td>\n",
       "      <td>548</td>\n",
       "      <td>(521.0, 548.0]</td>\n",
       "      <td>1</td>\n",
       "      <td>5</td>\n",
       "    </tr>\n",
       "    <tr>\n",
       "      <th>21</th>\n",
       "      <td>23</td>\n",
       "      <td>21</td>\n",
       "      <td>497</td>\n",
       "      <td>(494.0, 521.0]</td>\n",
       "      <td>1</td>\n",
       "      <td>4</td>\n",
       "    </tr>\n",
       "    <tr>\n",
       "      <th>22</th>\n",
       "      <td>24</td>\n",
       "      <td>22</td>\n",
       "      <td>377</td>\n",
       "      <td>(370.0, 387.0]</td>\n",
       "      <td>1</td>\n",
       "      <td>3</td>\n",
       "    </tr>\n",
       "    <tr>\n",
       "      <th>23</th>\n",
       "      <td>25</td>\n",
       "      <td>23</td>\n",
       "      <td>61</td>\n",
       "      <td>(59.0, 61.0]</td>\n",
       "      <td>1</td>\n",
       "      <td>0</td>\n",
       "    </tr>\n",
       "    <tr>\n",
       "      <th>24</th>\n",
       "      <td>28</td>\n",
       "      <td>24</td>\n",
       "      <td>293</td>\n",
       "      <td>(288.0, 297.0]</td>\n",
       "      <td>0</td>\n",
       "      <td>2</td>\n",
       "    </tr>\n",
       "    <tr>\n",
       "      <th>25</th>\n",
       "      <td>28</td>\n",
       "      <td>25</td>\n",
       "      <td>94</td>\n",
       "      <td>(91.0, 95.0]</td>\n",
       "      <td>0</td>\n",
       "      <td>0</td>\n",
       "    </tr>\n",
       "    <tr>\n",
       "      <th>26</th>\n",
       "      <td>29</td>\n",
       "      <td>26</td>\n",
       "      <td>196</td>\n",
       "      <td>(193.0, 201.0]</td>\n",
       "      <td>1</td>\n",
       "      <td>1</td>\n",
       "    </tr>\n",
       "    <tr>\n",
       "      <th>27</th>\n",
       "      <td>29</td>\n",
       "      <td>27</td>\n",
       "      <td>49</td>\n",
       "      <td>(47.0, 49.0]</td>\n",
       "      <td>1</td>\n",
       "      <td>0</td>\n",
       "    </tr>\n",
       "    <tr>\n",
       "      <th>28</th>\n",
       "      <td>31</td>\n",
       "      <td>28</td>\n",
       "      <td>38</td>\n",
       "      <td>(36.0, 39.0]</td>\n",
       "      <td>0</td>\n",
       "      <td>0</td>\n",
       "    </tr>\n",
       "    <tr>\n",
       "      <th>29</th>\n",
       "      <td>33</td>\n",
       "      <td>29</td>\n",
       "      <td>953</td>\n",
       "      <td>(947.0, 992.0]</td>\n",
       "      <td>0</td>\n",
       "      <td>9</td>\n",
       "    </tr>\n",
       "    <tr>\n",
       "      <th>...</th>\n",
       "      <td>...</td>\n",
       "      <td>...</td>\n",
       "      <td>...</td>\n",
       "      <td>...</td>\n",
       "      <td>...</td>\n",
       "      <td>...</td>\n",
       "    </tr>\n",
       "    <tr>\n",
       "      <th>282771</th>\n",
       "      <td>168862</td>\n",
       "      <td>282771</td>\n",
       "      <td>2914</td>\n",
       "      <td>(2571.0, 857526.0]</td>\n",
       "      <td>0</td>\n",
       "      <td>29</td>\n",
       "    </tr>\n",
       "    <tr>\n",
       "      <th>282772</th>\n",
       "      <td>168862</td>\n",
       "      <td>282772</td>\n",
       "      <td>2913</td>\n",
       "      <td>(2571.0, 857526.0]</td>\n",
       "      <td>0</td>\n",
       "      <td>29</td>\n",
       "    </tr>\n",
       "    <tr>\n",
       "      <th>282773</th>\n",
       "      <td>168866</td>\n",
       "      <td>282773</td>\n",
       "      <td>1506</td>\n",
       "      <td>(1471.0, 1589.0]</td>\n",
       "      <td>0</td>\n",
       "      <td>15</td>\n",
       "    </tr>\n",
       "    <tr>\n",
       "      <th>282774</th>\n",
       "      <td>168866</td>\n",
       "      <td>282774</td>\n",
       "      <td>1452</td>\n",
       "      <td>(1369.0, 1471.0]</td>\n",
       "      <td>0</td>\n",
       "      <td>14</td>\n",
       "    </tr>\n",
       "    <tr>\n",
       "      <th>282775</th>\n",
       "      <td>168869</td>\n",
       "      <td>282775</td>\n",
       "      <td>535</td>\n",
       "      <td>(521.0, 548.0]</td>\n",
       "      <td>0</td>\n",
       "      <td>5</td>\n",
       "    </tr>\n",
       "    <tr>\n",
       "      <th>282776</th>\n",
       "      <td>168870</td>\n",
       "      <td>282776</td>\n",
       "      <td>1527</td>\n",
       "      <td>(1471.0, 1589.0]</td>\n",
       "      <td>0</td>\n",
       "      <td>15</td>\n",
       "    </tr>\n",
       "    <tr>\n",
       "      <th>282777</th>\n",
       "      <td>168871</td>\n",
       "      <td>282777</td>\n",
       "      <td>535</td>\n",
       "      <td>(521.0, 548.0]</td>\n",
       "      <td>0</td>\n",
       "      <td>5</td>\n",
       "    </tr>\n",
       "    <tr>\n",
       "      <th>282778</th>\n",
       "      <td>168875</td>\n",
       "      <td>282778</td>\n",
       "      <td>1822</td>\n",
       "      <td>(1715.0, 1831.0]</td>\n",
       "      <td>0</td>\n",
       "      <td>18</td>\n",
       "    </tr>\n",
       "    <tr>\n",
       "      <th>282779</th>\n",
       "      <td>168884</td>\n",
       "      <td>282779</td>\n",
       "      <td>1821</td>\n",
       "      <td>(1715.0, 1831.0]</td>\n",
       "      <td>1</td>\n",
       "      <td>18</td>\n",
       "    </tr>\n",
       "    <tr>\n",
       "      <th>282780</th>\n",
       "      <td>168886</td>\n",
       "      <td>282780</td>\n",
       "      <td>1476</td>\n",
       "      <td>(1471.0, 1589.0]</td>\n",
       "      <td>0</td>\n",
       "      <td>14</td>\n",
       "    </tr>\n",
       "    <tr>\n",
       "      <th>282781</th>\n",
       "      <td>168887</td>\n",
       "      <td>282781</td>\n",
       "      <td>1682</td>\n",
       "      <td>(1589.0, 1715.0]</td>\n",
       "      <td>1</td>\n",
       "      <td>16</td>\n",
       "    </tr>\n",
       "    <tr>\n",
       "      <th>282782</th>\n",
       "      <td>168890</td>\n",
       "      <td>282782</td>\n",
       "      <td>928</td>\n",
       "      <td>(910.0, 947.0]</td>\n",
       "      <td>0</td>\n",
       "      <td>9</td>\n",
       "    </tr>\n",
       "    <tr>\n",
       "      <th>282783</th>\n",
       "      <td>168891</td>\n",
       "      <td>282783</td>\n",
       "      <td>2338</td>\n",
       "      <td>(2131.0, 2571.0]</td>\n",
       "      <td>1</td>\n",
       "      <td>23</td>\n",
       "    </tr>\n",
       "    <tr>\n",
       "      <th>282784</th>\n",
       "      <td>168892</td>\n",
       "      <td>282784</td>\n",
       "      <td>1037</td>\n",
       "      <td>(1035.0, 1078.0]</td>\n",
       "      <td>1</td>\n",
       "      <td>10</td>\n",
       "    </tr>\n",
       "    <tr>\n",
       "      <th>282785</th>\n",
       "      <td>168899</td>\n",
       "      <td>282785</td>\n",
       "      <td>286</td>\n",
       "      <td>(280.0, 288.0]</td>\n",
       "      <td>0</td>\n",
       "      <td>2</td>\n",
       "    </tr>\n",
       "    <tr>\n",
       "      <th>282786</th>\n",
       "      <td>168905</td>\n",
       "      <td>282786</td>\n",
       "      <td>1170</td>\n",
       "      <td>(1133.0, 1205.0]</td>\n",
       "      <td>0</td>\n",
       "      <td>11</td>\n",
       "    </tr>\n",
       "    <tr>\n",
       "      <th>282787</th>\n",
       "      <td>168908</td>\n",
       "      <td>282787</td>\n",
       "      <td>1556</td>\n",
       "      <td>(1471.0, 1589.0]</td>\n",
       "      <td>1</td>\n",
       "      <td>15</td>\n",
       "    </tr>\n",
       "    <tr>\n",
       "      <th>282788</th>\n",
       "      <td>168910</td>\n",
       "      <td>282788</td>\n",
       "      <td>1243</td>\n",
       "      <td>(1205.0, 1279.0]</td>\n",
       "      <td>0</td>\n",
       "      <td>12</td>\n",
       "    </tr>\n",
       "    <tr>\n",
       "      <th>282789</th>\n",
       "      <td>168912</td>\n",
       "      <td>282789</td>\n",
       "      <td>243</td>\n",
       "      <td>(236.0, 244.0]</td>\n",
       "      <td>0</td>\n",
       "      <td>2</td>\n",
       "    </tr>\n",
       "    <tr>\n",
       "      <th>282790</th>\n",
       "      <td>168913</td>\n",
       "      <td>282790</td>\n",
       "      <td>1160</td>\n",
       "      <td>(1133.0, 1205.0]</td>\n",
       "      <td>0</td>\n",
       "      <td>11</td>\n",
       "    </tr>\n",
       "    <tr>\n",
       "      <th>282791</th>\n",
       "      <td>168913</td>\n",
       "      <td>282791</td>\n",
       "      <td>1112</td>\n",
       "      <td>(1078.0, 1133.0]</td>\n",
       "      <td>0</td>\n",
       "      <td>11</td>\n",
       "    </tr>\n",
       "    <tr>\n",
       "      <th>282792</th>\n",
       "      <td>168916</td>\n",
       "      <td>282792</td>\n",
       "      <td>64</td>\n",
       "      <td>(63.0, 65.0]</td>\n",
       "      <td>0</td>\n",
       "      <td>0</td>\n",
       "    </tr>\n",
       "    <tr>\n",
       "      <th>282793</th>\n",
       "      <td>168918</td>\n",
       "      <td>282793</td>\n",
       "      <td>1145</td>\n",
       "      <td>(1133.0, 1205.0]</td>\n",
       "      <td>1</td>\n",
       "      <td>11</td>\n",
       "    </tr>\n",
       "    <tr>\n",
       "      <th>282794</th>\n",
       "      <td>168920</td>\n",
       "      <td>282794</td>\n",
       "      <td>1237</td>\n",
       "      <td>(1205.0, 1279.0]</td>\n",
       "      <td>0</td>\n",
       "      <td>12</td>\n",
       "    </tr>\n",
       "    <tr>\n",
       "      <th>282795</th>\n",
       "      <td>168923</td>\n",
       "      <td>282795</td>\n",
       "      <td>1221</td>\n",
       "      <td>(1205.0, 1279.0]</td>\n",
       "      <td>0</td>\n",
       "      <td>12</td>\n",
       "    </tr>\n",
       "    <tr>\n",
       "      <th>282796</th>\n",
       "      <td>168925</td>\n",
       "      <td>282796</td>\n",
       "      <td>1200</td>\n",
       "      <td>(1133.0, 1205.0]</td>\n",
       "      <td>1</td>\n",
       "      <td>12</td>\n",
       "    </tr>\n",
       "    <tr>\n",
       "      <th>282797</th>\n",
       "      <td>168927</td>\n",
       "      <td>282797</td>\n",
       "      <td>1201</td>\n",
       "      <td>(1133.0, 1205.0]</td>\n",
       "      <td>0</td>\n",
       "      <td>12</td>\n",
       "    </tr>\n",
       "    <tr>\n",
       "      <th>282798</th>\n",
       "      <td>168928</td>\n",
       "      <td>282798</td>\n",
       "      <td>1221</td>\n",
       "      <td>(1205.0, 1279.0]</td>\n",
       "      <td>0</td>\n",
       "      <td>12</td>\n",
       "    </tr>\n",
       "    <tr>\n",
       "      <th>282799</th>\n",
       "      <td>168929</td>\n",
       "      <td>282799</td>\n",
       "      <td>1210</td>\n",
       "      <td>(1205.0, 1279.0]</td>\n",
       "      <td>0</td>\n",
       "      <td>12</td>\n",
       "    </tr>\n",
       "    <tr>\n",
       "      <th>282800</th>\n",
       "      <td>168930</td>\n",
       "      <td>282800</td>\n",
       "      <td>1207</td>\n",
       "      <td>(1205.0, 1279.0]</td>\n",
       "      <td>0</td>\n",
       "      <td>12</td>\n",
       "    </tr>\n",
       "  </tbody>\n",
       "</table>\n",
       "<p>282801 rows × 6 columns</p>\n",
       "</div>"
      ],
      "text/plain": [
       "          user   video  delay         bucket_qcut  retain  bucket_cut\n",
       "0            3       0   2275    (2131.0, 2571.0]       1          22\n",
       "1            3       1    839      (819.0, 847.0]       1           8\n",
       "2            5       2    119      (114.0, 120.0]       0           1\n",
       "3            6       3     70        (69.0, 71.0]       0           0\n",
       "4            9       4     66        (65.0, 67.0]       0           0\n",
       "5           10       5    198      (193.0, 201.0]       0           1\n",
       "6           11       6    348      (344.0, 356.0]       0           3\n",
       "7           12       7     93        (91.0, 95.0]       1           0\n",
       "8           17       8     55        (54.0, 56.0]       1           0\n",
       "9           17       9     41        (39.0, 41.0]       1           0\n",
       "10          17      10     59        (57.0, 59.0]       1           0\n",
       "11          17      11     49        (47.0, 49.0]       1           0\n",
       "12          17      12    110      (109.0, 114.0]       1           1\n",
       "13          17      13     57        (56.0, 57.0]       1           0\n",
       "14          17      14     81        (79.0, 82.0]       1           0\n",
       "15          17      15     49        (47.0, 49.0]       1           0\n",
       "16          20      16     43        (41.0, 43.0]       0           0\n",
       "17          20      17    188      (186.0, 193.0]       0           1\n",
       "18          20      18     48        (47.0, 49.0]       0           0\n",
       "19          22      19    116      (114.0, 120.0]       1           1\n",
       "20          23      20    548      (521.0, 548.0]       1           5\n",
       "21          23      21    497      (494.0, 521.0]       1           4\n",
       "22          24      22    377      (370.0, 387.0]       1           3\n",
       "23          25      23     61        (59.0, 61.0]       1           0\n",
       "24          28      24    293      (288.0, 297.0]       0           2\n",
       "25          28      25     94        (91.0, 95.0]       0           0\n",
       "26          29      26    196      (193.0, 201.0]       1           1\n",
       "27          29      27     49        (47.0, 49.0]       1           0\n",
       "28          31      28     38        (36.0, 39.0]       0           0\n",
       "29          33      29    953      (947.0, 992.0]       0           9\n",
       "...        ...     ...    ...                 ...     ...         ...\n",
       "282771  168862  282771   2914  (2571.0, 857526.0]       0          29\n",
       "282772  168862  282772   2913  (2571.0, 857526.0]       0          29\n",
       "282773  168866  282773   1506    (1471.0, 1589.0]       0          15\n",
       "282774  168866  282774   1452    (1369.0, 1471.0]       0          14\n",
       "282775  168869  282775    535      (521.0, 548.0]       0           5\n",
       "282776  168870  282776   1527    (1471.0, 1589.0]       0          15\n",
       "282777  168871  282777    535      (521.0, 548.0]       0           5\n",
       "282778  168875  282778   1822    (1715.0, 1831.0]       0          18\n",
       "282779  168884  282779   1821    (1715.0, 1831.0]       1          18\n",
       "282780  168886  282780   1476    (1471.0, 1589.0]       0          14\n",
       "282781  168887  282781   1682    (1589.0, 1715.0]       1          16\n",
       "282782  168890  282782    928      (910.0, 947.0]       0           9\n",
       "282783  168891  282783   2338    (2131.0, 2571.0]       1          23\n",
       "282784  168892  282784   1037    (1035.0, 1078.0]       1          10\n",
       "282785  168899  282785    286      (280.0, 288.0]       0           2\n",
       "282786  168905  282786   1170    (1133.0, 1205.0]       0          11\n",
       "282787  168908  282787   1556    (1471.0, 1589.0]       1          15\n",
       "282788  168910  282788   1243    (1205.0, 1279.0]       0          12\n",
       "282789  168912  282789    243      (236.0, 244.0]       0           2\n",
       "282790  168913  282790   1160    (1133.0, 1205.0]       0          11\n",
       "282791  168913  282791   1112    (1078.0, 1133.0]       0          11\n",
       "282792  168916  282792     64        (63.0, 65.0]       0           0\n",
       "282793  168918  282793   1145    (1133.0, 1205.0]       1          11\n",
       "282794  168920  282794   1237    (1205.0, 1279.0]       0          12\n",
       "282795  168923  282795   1221    (1205.0, 1279.0]       0          12\n",
       "282796  168925  282796   1200    (1133.0, 1205.0]       1          12\n",
       "282797  168927  282797   1201    (1133.0, 1205.0]       0          12\n",
       "282798  168928  282798   1221    (1205.0, 1279.0]       0          12\n",
       "282799  168929  282799   1210    (1205.0, 1279.0]       0          12\n",
       "282800  168930  282800   1207    (1205.0, 1279.0]       0          12\n",
       "\n",
       "[282801 rows x 6 columns]"
      ]
     },
     "execution_count": 25,
     "metadata": {},
     "output_type": "execute_result"
    }
   ],
   "source": [
    "# 对延迟按照每100分桶，每个桶的作者留存率是多少？画图\n",
    "merge_df = pd.merge(delay, retain, on='user', how='inner')\n",
    "merge_df.loc[:,'bucket_cut'] = merge_df['delay']//100\n",
    "merge_df"
   ]
  },
  {
   "cell_type": "code",
   "execution_count": 26,
   "metadata": {},
   "outputs": [
    {
     "data": {
      "text/plain": [
       "bucket_cut\n",
       "0       0.482350\n",
       "1       0.465559\n",
       "2       0.453355\n",
       "3       0.451978\n",
       "4       0.470542\n",
       "5       0.475194\n",
       "6       0.466963\n",
       "7       0.461520\n",
       "8       0.477350\n",
       "9       0.480811\n",
       "10      0.461373\n",
       "11      0.478187\n",
       "12      0.485737\n",
       "13      0.467423\n",
       "14      0.487010\n",
       "15      0.481175\n",
       "16      0.456900\n",
       "17      0.446313\n",
       "18      0.480205\n",
       "19      0.473756\n",
       "20      0.516304\n",
       "21      0.533333\n",
       "22      0.496617\n",
       "23      0.531835\n",
       "24      0.503571\n",
       "25      0.494424\n",
       "26      0.572016\n",
       "27      0.525151\n",
       "28      0.569288\n",
       "29      0.539623\n",
       "          ...   \n",
       "996     1.000000\n",
       "1021    0.000000\n",
       "1092    1.000000\n",
       "1117    1.000000\n",
       "1158    1.000000\n",
       "1169    1.000000\n",
       "1195    1.000000\n",
       "1262    1.000000\n",
       "1394    1.000000\n",
       "1471    0.000000\n",
       "1472    0.000000\n",
       "1507    1.000000\n",
       "1598    1.000000\n",
       "1816    0.000000\n",
       "1920    0.000000\n",
       "2698    1.000000\n",
       "2738    0.000000\n",
       "2749    1.000000\n",
       "3884    1.000000\n",
       "4442    1.000000\n",
       "4684    1.000000\n",
       "4700    1.000000\n",
       "4930    0.000000\n",
       "5423    1.000000\n",
       "5787    1.000000\n",
       "5841    0.000000\n",
       "6387    1.000000\n",
       "7814    1.000000\n",
       "7908    1.000000\n",
       "8575    0.000000\n",
       "Name: retain, Length: 215, dtype: float64"
      ]
     },
     "execution_count": 26,
     "metadata": {},
     "output_type": "execute_result"
    }
   ],
   "source": [
    "bucket_cut_retain_dis = merge_df.groupby('bucket_cut')['retain'].mean()\n",
    "bucket_cut_retain_dis"
   ]
  },
  {
   "cell_type": "code",
   "execution_count": 27,
   "metadata": {},
   "outputs": [
    {
     "data": {
      "text/plain": [
       "<matplotlib.axes._subplots.AxesSubplot at 0x1cc65815eb8>"
      ]
     },
     "execution_count": 27,
     "metadata": {},
     "output_type": "execute_result"
    },
    {
     "data": {
      "image/png": "[encoded data removed]",
      "text/plain": [
       "<Figure size 432x288 with 1 Axes>"
      ]
     },
     "metadata": {},
     "output_type": "display_data"
    }
   ],
   "source": [
    "# 不同留存率分布图\n",
    "sns.distplot(bucket_cut_retain_dis)"
   ]
  },
  {
   "cell_type": "markdown",
   "metadata": {},
   "source": [
    "# C. 相关性分析\n",
    "(提示，两张表的链接可以使用pandas的merge函数。在这个notebook里就是pd.merge。细节可以google)\n",
    "1. 平均延迟每降低100，留存会提升或者降低多少？\n",
    "2. 如果降低平均延迟，会改变留存吗？"
   ]
  },
  {
   "cell_type": "code",
   "execution_count": 28,
   "metadata": {
    "scrolled": true
   },
   "outputs": [
    {
     "data": {
      "text/plain": [
       "bucket_cut\n",
       "0    0.482350\n",
       "1    0.465559\n",
       "2    0.453355\n",
       "3    0.451978\n",
       "4    0.470542\n",
       "Name: retain, dtype: float64"
      ]
     },
     "execution_count": 28,
     "metadata": {},
     "output_type": "execute_result"
    }
   ],
   "source": [
    "bucket_cut_retain_dis.head()"
   ]
  },
  {
   "cell_type": "code",
   "execution_count": 29,
   "metadata": {
    "scrolled": false
   },
   "outputs": [
    {
     "data": {
      "text/plain": [
       "0.0022539732226941277"
      ]
     },
     "execution_count": 29,
     "metadata": {},
     "output_type": "execute_result"
    }
   ],
   "source": [
    "# 平均延迟每降低100，留存会提升或者降低多少？\n",
    "bucket_cut_retain_dis.diff(-1).mean()\n",
    "\n",
    "bucket_cut（shift  -1）-  bucket_cut"
   ]
  },
  {
   "cell_type": "code",
   "execution_count": 30,
   "metadata": {
    "scrolled": false
   },
   "outputs": [
    {
     "name": "stdout",
     "output_type": "stream",
     "text": [
      "会改变留存，留存率会变高\n"
     ]
    }
   ],
   "source": [
    "# 如果降低平均延迟，会改变留存吗？\n",
    "print(\"会改变留存，留存率会变高\")"
   ]
  },
  {
   "cell_type": "markdown",
   "metadata": {},
   "source": [
    "# D.拓展分析\n",
    "请问从上述数据，你还可以分析出什么有用的信息吗？请自由发挥"
   ]
  },
  {
   "cell_type": "code",
   "execution_count": 31,
   "metadata": {},
   "outputs": [],
   "source": [
    "# 其他分析\n"
   ]
  }
 ],
 "metadata": {
  "kernelspec": {
   "display_name": "Python 3",
   "language": "python",
   "name": "python3"
  },
  "language_info": {
   "codemirror_mode": {
    "name": "ipython",
    "version": 3
   },
   "file_extension": ".py",
   "mimetype": "text/x-python",
   "name": "python",
   "nbconvert_exporter": "python",
   "pygments_lexer": "ipython3",
   "version": "3.6.5"
  }
 },
 "nbformat": 4,
 "nbformat_minor": 2
}
