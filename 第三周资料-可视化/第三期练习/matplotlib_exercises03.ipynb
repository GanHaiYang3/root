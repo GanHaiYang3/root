{
 "cells": [
  {
   "cell_type": "markdown",
   "metadata": {},
   "source": [
    "# matplotlib可视化练习"
   ]
  },
  {
   "cell_type": "code",
   "execution_count": 15,
   "metadata": {
    "collapsed": true
   },
   "outputs": [],
   "source": [
    "%matplotlib inline\n",
    "import matplotlib as mpl\n",
    "from matplotlib import pyplot as plt\n",
    "import seaborn as sns\n",
    "import pandas as pd\n",
    "import numpy as np"
   ]
  },
  {
   "cell_type": "code",
   "execution_count": 16,
   "metadata": {
    "collapsed": true
   },
   "outputs": [],
   "source": [
    "mpl.rc('figure',figsize=(12,9))\n",
    "mpl.rc('font',size=15)\n",
    "mpl.rc('axes.spines',top=False, right=False)"
   ]
  },
  {
   "cell_type": "markdown",
   "metadata": {},
   "source": [
    "## 练习3：餐厅小费情况分析\n",
    "* 小费和总消费之间的关系（散点图）\n",
    "* 男性顾客和女性顾客，谁更慷慨（分类箱式图）\n",
    "* 抽烟与否是否会对小费金额产生影响（分类箱式图）\n",
    "* 工作日和周末，什么时候顾客给的小费更慷慨（分类箱式图）\n",
    "* 午饭和晚饭，哪一顿顾客更愿意给小费（分类箱式图）\n",
    "* 就餐人数是否会对慷慨度产生影响（分类箱式图）\n",
    "* 性别+抽烟的组合因素对慷慨度的影响（分组柱状图）"
   ]
  }
 ],
 "metadata": {
  "kernelspec": {
   "display_name": "Python 3",
   "language": "python",
   "name": "python3"
  },
  "language_info": {
   "codemirror_mode": {
    "name": "ipython",
    "version": 3
   },
   "file_extension": ".py",
   "mimetype": "text/x-python",
   "name": "python",
   "nbconvert_exporter": "python",
   "pygments_lexer": "ipython3",
   "version": "3.6.1"
  }
 },
 "nbformat": 4,
 "nbformat_minor": 2
}
